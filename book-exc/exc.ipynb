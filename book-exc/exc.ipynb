{
 "cells": [
  {
   "cell_type": "markdown",
   "metadata": {},
   "source": [
    "# Chap-2\n"
   ]
  },
  {
   "cell_type": "code",
   "execution_count": 2,
   "metadata": {},
   "outputs": [
    {
     "name": "stdout",
     "output_type": "stream",
     "text": [
      "Hey, I am Muhammad Hassaan here. I am learning Python\n"
     ]
    }
   ],
   "source": [
    "# 2.1) Simple Message\n",
    "\n",
    "message : str = \"Hey, I am Muhammad Hassaan here. I am learning Python\"\n",
    "print(message)"
   ]
  },
  {
   "cell_type": "code",
   "execution_count": null,
   "metadata": {},
   "outputs": [],
   "source": [
    "# 2.2) Simple Message\n",
    "\n",
    "message : str = \"Hey, I am learning Python today\"\n",
    "print(message)\n",
    "\n",
    "message: str = \"Hey, I am Muhammad, A Full Stack Developer\"\n",
    "print(message)"
   ]
  },
  {
   "cell_type": "code",
   "execution_count": 8,
   "metadata": {},
   "outputs": [
    {
     "name": "stdout",
     "output_type": "stream",
     "text": [
      "Muhammad Hassaan Shaukat, What are you doing today\n",
      "Hey, Muhammad Hassaan Shaukat do you want to learn some Python?\n"
     ]
    }
   ],
   "source": [
    "# 2.3) Personal Message\n",
    "\n",
    "name : str = \"Muhammad Hassaan Shaukat\"\n",
    "\n",
    "print(f\"{name}, What are you doing today\")\n",
    "print(f\"Hey, {name} do you want to learn some Python?\")"
   ]
  },
  {
   "cell_type": "code",
   "execution_count": 12,
   "metadata": {},
   "outputs": [
    {
     "name": "stdout",
     "output_type": "stream",
     "text": [
      "Muhammad Hassaan\n",
      "MUHAMMAD HASSAAN\n",
      "muhammad hassaan\n",
      "Muhammad hassaan\n",
      "muhammad hassaan\n"
     ]
    }
   ],
   "source": [
    "# 2.4) Name Cases\n",
    "\n",
    "name : str = \"muhammad hassaan\"\n",
    "\n",
    "print(name.title())\n",
    "print(name.upper())\n",
    "print(name.lower())\n",
    "print(name.capitalize())\n",
    "print(name.casefold())\n",
    "\n"
   ]
  },
  {
   "cell_type": "code",
   "execution_count": 14,
   "metadata": {},
   "outputs": [
    {
     "name": "stdout",
     "output_type": "stream",
     "text": [
      "Albert Einstein once said, \"A person who never made a mistake never \n",
      "tried anything new.\" \n"
     ]
    }
   ],
   "source": [
    "# 2.5) Famous Quote\n",
    "\n",
    "print(\"\"\"Albert Einstein once said, \"A person who never made a mistake never \n",
    "tried anything new.\" \"\"\")"
   ]
  },
  {
   "cell_type": "code",
   "execution_count": 15,
   "metadata": {},
   "outputs": [
    {
     "name": "stdout",
     "output_type": "stream",
     "text": [
      "Elon Musk said, When you struggle with a problem, that's when you understand it.\n"
     ]
    }
   ],
   "source": [
    "# 2.6) Famous Quote with variable\n",
    "\n",
    "famous_person : str = \"Elon Musk\"\n",
    "quote : str = \"When you struggle with a problem, that's when you understand it.\"\n",
    "\n",
    "print(f\"{famous_person} said, {quote}\")\n",
    "\n"
   ]
  },
  {
   "cell_type": "code",
   "execution_count": 18,
   "metadata": {},
   "outputs": [
    {
     "data": {
      "text/plain": [
       "'Muhammad   Hassaan      '"
      ]
     },
     "metadata": {},
     "output_type": "display_data"
    },
    {
     "data": {
      "text/plain": [
       "'     Muhammad   Hassaan'"
      ]
     },
     "metadata": {},
     "output_type": "display_data"
    },
    {
     "data": {
      "text/plain": [
       "'Muhammad   Hassaan'"
      ]
     },
     "metadata": {},
     "output_type": "display_data"
    }
   ],
   "source": [
    "# 2.7) Stripping Names\n",
    "\n",
    "name : str = \"     Muhammad   Hassaan      \"\n",
    "\n",
    "display(name.lstrip())\n",
    "display(name.rstrip())\n",
    "display(name.strip())\n",
    "\n"
   ]
  },
  {
   "cell_type": "code",
   "execution_count": 22,
   "metadata": {},
   "outputs": [
    {
     "name": "stdout",
     "output_type": "stream",
     "text": [
      "class\n"
     ]
    }
   ],
   "source": [
    "# 2.8) File Extension\n",
    "\n",
    "file_name : str = \"class.py\"\n",
    "\n",
    "print(file_name.removesuffix('.py'))\n"
   ]
  },
  {
   "cell_type": "code",
   "execution_count": 34,
   "metadata": {},
   "outputs": [
    {
     "name": "stdout",
     "output_type": "stream",
     "text": [
      "8\n",
      "8\n",
      "8.0\n",
      "8\n",
      "8\n"
     ]
    }
   ],
   "source": [
    "# 2.9) Number Eight\n",
    "\n",
    "print(4 + 4)\n",
    "print(2 * 4)\n",
    "print(16 / 2)\n",
    "print(12 - 4)\n",
    "print( 17 // 2)"
   ]
  },
  {
   "cell_type": "code",
   "execution_count": 35,
   "metadata": {},
   "outputs": [
    {
     "name": "stdout",
     "output_type": "stream",
     "text": [
      "My favourite number is; 8\n"
     ]
    }
   ],
   "source": [
    "# Favourite Number\n",
    "\n",
    "favourite_number : int = 8\n",
    "\n",
    "print(f\"My favourite number is: {favourite_number}\")\n",
    "\n"
   ]
  },
  {
   "cell_type": "code",
   "execution_count": null,
   "metadata": {},
   "outputs": [],
   "source": [
    "# 2.11) Adding Comments\n",
    "\n",
    "# HEllo\n",
    "# This is a comment\n",
    "# For comment add (#)\n"
   ]
  },
  {
   "cell_type": "code",
   "execution_count": 37,
   "metadata": {},
   "outputs": [
    {
     "name": "stdout",
     "output_type": "stream",
     "text": [
      "Complex is better than complicated.\n",
      "Unless explicitly silenced.\n"
     ]
    }
   ],
   "source": [
    "# 2.12) Zen of Python\n",
    "\n",
    "import this\n",
    "\n",
    "print(\"Complex is better than complicated.\")\n",
    "\n",
    "print(\"Unless explicitly silenced.\")"
   ]
  },
  {
   "cell_type": "markdown",
   "metadata": {},
   "source": [
    "# Chap-3"
   ]
  },
  {
   "cell_type": "code",
   "execution_count": 38,
   "metadata": {},
   "outputs": [
    {
     "name": "stdout",
     "output_type": "stream",
     "text": [
      "Muhammad Hassaan\n",
      "Sir Zia\n",
      "Sir Qasim\n",
      "Abdullah\n"
     ]
    }
   ],
   "source": [
    "# 3.1) Firends Names\n",
    "\n",
    "names : list[str] = ['Muhammad Hassaan', 'Sir Zia', 'Sir Qasim', 'Abdullah']\n",
    "\n",
    "print(names[0])\n",
    "print(names[1])\n",
    "print(names[2])\n",
    "print(names[3])"
   ]
  },
  {
   "cell_type": "code",
   "execution_count": 39,
   "metadata": {},
   "outputs": [
    {
     "name": "stdout",
     "output_type": "stream",
     "text": [
      "Hey, What is the progress? Muhammad Hassaan\n",
      "Sir Zia, How are you?\n",
      "Sir Qasim, You are best teacher for the Generative AI.\n",
      "Are you fine? Abdullah\n"
     ]
    }
   ],
   "source": [
    "# 3.2) Greetings to friend's name\n",
    "\n",
    "\n",
    "names : list[str] = ['Muhammad Hassaan', 'Sir Zia', 'Sir Qasim', 'Abdullah']\n",
    "\n",
    "print(f'Hey, What is the progress? {names[0]}')\n",
    "print(f\"{names[1]}, How are you?\")\n",
    "print(f'{names[2]}, You are best teacher for the Generative AI.')\n",
    "print(f'Are you fine? {names[3]}')"
   ]
  },
  {
   "cell_type": "code",
   "execution_count": 42,
   "metadata": {},
   "outputs": [
    {
     "name": "stdout",
     "output_type": "stream",
     "text": [
      "I would like to own a Bugati Car.\n"
     ]
    }
   ],
   "source": [
    "# 3.3) Your Own List Favourite Transportation\n",
    "\n",
    "favourite_transportation : list[str] = ['Car', 'Motorcycle']\n",
    "\n",
    "print(f\"I would like to own a Bugati {favourite_transportation[0]}.\")"
   ]
  },
  {
   "cell_type": "code",
   "execution_count": 46,
   "metadata": {},
   "outputs": [
    {
     "name": "stdout",
     "output_type": "stream",
     "text": [
      "Hi, Muhammad Hassaan Please, don't miss the party. we want you to be here between us! \n",
      "\n",
      "Margaret Don't miss the party, here we will also have some business talk \n",
      "\n",
      "Susan, We would like you to be with us! It will be honor if you will join us! \n",
      "\n"
     ]
    }
   ],
   "source": [
    "# 3.4) Guest List \n",
    "\n",
    "guest_list : list[str] = ['Muhammad Hassaan', 'Margaret', 'Susan']\n",
    "\n",
    "print(f\"Hi, {guest_list[0]} Please, don't miss the party. we want you to be here between us! \\n\")\n",
    "print(f\"{guest_list[1]} Don't miss the party, here we will also have some business talk \\n\")\n",
    "print(f\"{guest_list[2]}, We would like you to be with us! It will be honor if you will join us! \\n\")\n",
    "\n"
   ]
  }
 ],
 "metadata": {
  "kernelspec": {
   "display_name": "python13",
   "language": "python",
   "name": "python3"
  },
  "language_info": {
   "codemirror_mode": {
    "name": "ipython",
    "version": 3
   },
   "file_extension": ".py",
   "mimetype": "text/x-python",
   "name": "python",
   "nbconvert_exporter": "python",
   "pygments_lexer": "ipython3",
   "version": "3.12.0"
  }
 },
 "nbformat": 4,
 "nbformat_minor": 2
}
