{
 "cells": [
  {
   "cell_type": "code",
   "execution_count": 6,
   "metadata": {},
   "outputs": [
    {
     "data": {
      "text/plain": [
       "'Sir Zia'"
      ]
     },
     "metadata": {},
     "output_type": "display_data"
    },
    {
     "data": {
      "text/plain": [
       "['Sir Zia', 'Sir Qasim', 'Muhammad Hassaan']"
      ]
     },
     "metadata": {},
     "output_type": "display_data"
    },
    {
     "data": {
      "text/plain": [
       "'Sir Zia'"
      ]
     },
     "metadata": {},
     "output_type": "display_data"
    },
    {
     "data": {
      "text/plain": [
       "'Muhammad Hassaan'"
      ]
     },
     "metadata": {},
     "output_type": "display_data"
    },
    {
     "data": {
      "text/plain": [
       "'Hey bro. Muhammad Hassaan'"
      ]
     },
     "metadata": {},
     "output_type": "display_data"
    }
   ],
   "source": [
    "name : list[str] = [\"Sir Zia\", 'Sir Qasim', 'Muhammad Hassaan']\n",
    "\n",
    "display(name[0])\n",
    "display(name)\n",
    "display(name[0].title())\n",
    "display(name[-1])\n",
    "display(f\"Hey bro, {name[-1]}\")\n"
   ]
  },
  {
   "cell_type": "code",
   "execution_count": 7,
   "metadata": {},
   "outputs": [
    {
     "name": "stdout",
     "output_type": "stream",
     "text": [
      "Muhammad\n",
      "Hassaan\n",
      "Muhammad Hassaan\n",
      "Muhammad\n",
      "Hassaan\n",
      "Muhammad\n"
     ]
    }
   ],
   "source": [
    "# 3.1) Names\n",
    "\n",
    "names : list[str] = ['Muhammad', 'Hassaan', 'Muhammad Hassaan']\n",
    "\n",
    "print(names[0])\n",
    "print(names[1])\n",
    "print(names[2])\n",
    "print(names[-3])\n",
    "print(names[-2])\n",
    "print(names[-3])\n",
    "\n"
   ]
  },
  {
   "cell_type": "code",
   "execution_count": 8,
   "metadata": {},
   "outputs": [
    {
     "name": "stdout",
     "output_type": "stream",
     "text": [
      "Hey, wassup man Muhammad\n",
      "\n",
      "Hey, What are you learning? Hassaan\n",
      "\n",
      "Hey, What is your job? Muhammad Hassaan\n",
      "\n",
      "Hey, wassup man Muhammad Hassaan\n",
      "\n",
      "Hey, What are you learning? Hassaan\n",
      "\n",
      "Hey, What is your job? Muhammad\n",
      "\n"
     ]
    }
   ],
   "source": [
    "# 3.2) Greetings\n",
    "\n",
    "names : list[str] = ['Muhammad', 'Hassaan', 'Muhammad Hassaan']\n",
    "\n",
    "print(f'Hey, wassup man {names[0]}\\n')\n",
    "print(f'Hey, What are you learning? {names[1]}\\n')\n",
    "print(f'Hey, What is your job? {names[2]}\\n')\n",
    "\n",
    "print(f'Hey, wassup man {names[-1]}\\n')\n",
    "print(f'Hey, What are you learning? {names[-2]}\\n')\n",
    "print(f'Hey, What is your job? {names[-3]}\\n')\n"
   ]
  },
  {
   "cell_type": "code",
   "execution_count": 9,
   "metadata": {},
   "outputs": [
    {
     "name": "stdout",
     "output_type": "stream",
     "text": [
      "I want to own a Belini Bike\n",
      "\n"
     ]
    }
   ],
   "source": [
    "# 3.3) Your own list\n",
    "\n",
    "transportation : list[str] = [\n",
    "    'Bike', 'Car', 'Heavy Bike', 'Belini Bike'\n",
    "]\n",
    "\n",
    "print(f'I want to own a {transportation[-1]}\\n')"
   ]
  },
  {
   "cell_type": "code",
   "execution_count": 6,
   "metadata": {},
   "outputs": [
    {
     "name": "stdout",
     "output_type": "stream",
     "text": [
      "['Bike', 'Car', 'Heavy Bike', 'Belini Bike']\n",
      "['Bike', 'Car', 'Heavy Bike', 'Belini Bike']\n",
      "['Bike', 'Yamaha', 'Heavy Bike', 'Belini Bike']\n",
      "['Bike', 'Yamaha', 'Heavy Bike', 'Belini Bike']\n",
      "['Bike', 'Yamaha', 'Heavy Bike', 'Belini Bike', 1]\n",
      "['Bike', 'Yamaha', 'Heavy Bike', 'Belini Bike', 1]\n",
      "['ducati', 'Bike', 'Yamaha', 'Heavy Bike', 'Belini Bike', 1]\n",
      "['ducati', 'Bike', 'Yamaha', 'Heavy Bike', 'Belini Bike', 1]\n",
      "['Bike', 'Yamaha', 'Heavy Bike', 'Belini Bike', 1]\n"
     ]
    }
   ],
   "source": [
    "transportation : list[str] = ['Bike', 'Car', 'Heavy Bike', 'Belini Bike']\n",
    "\n",
    "bike : list[str] = transportation\n",
    "\n",
    "print(transportation)\n",
    "print(bike)\n",
    "\n",
    "transportation[1] = 'Yamaha'\n",
    "\n",
    "print(transportation)\n",
    "print(bike)\n",
    "\n",
    "transportation.append(1)\n",
    "\n",
    "print(transportation)\n",
    "print(bike)\n",
    "\n",
    "transportation.insert(0, 'ducati')\n",
    "\n",
    "print(transportation)\n",
    "print(bike)\n",
    "\n",
    "del bike[0]\n",
    "\n",
    "print(bike)"
   ]
  },
  {
   "cell_type": "code",
   "execution_count": 14,
   "metadata": {},
   "outputs": [
    {
     "name": "stdout",
     "output_type": "stream",
     "text": [
      "['Bike', 'Car', 'Heavy Bike']\n",
      "['Bike', 'Car', 'Heavy Bike']\n"
     ]
    }
   ],
   "source": [
    " \n",
    "tran : list[str] = ['Bike', 'Car', 'Heavy Bike', 'Belini Bike']\n",
    "b : list[str] = tran\n",
    "\n",
    "b.pop()\n",
    "\n",
    "print(b)\n",
    "print(tran)\n",
    "\n",
    "#print(tran)\n",
    "#print(b)\n",
    "\n",
    "\n",
    "#del tran[0]\n",
    "\n",
    "#print(tran)\n",
    "#print(b)\n",
    "\n",
    "#tran.remove('Car')\n",
    "\n",
    "#print(tran)\n",
    "#print(b)\n"
   ]
  },
  {
   "cell_type": "code",
   "execution_count": 17,
   "metadata": {},
   "outputs": [
    {
     "name": "stdout",
     "output_type": "stream",
     "text": [
      "Hey, we invite you to our business party, you are our premium guest Muhammad. \n",
      "\n",
      "Hey, don't miss our invite Muhammad Hassaan. \n",
      "\n",
      "Hey, you are our beloved guest plz join us Moataz. \n",
      "\n"
     ]
    }
   ],
   "source": [
    "# 3.4) Guest list\n",
    "\n",
    "guest : list[str] = ['Muhammad', 'Muhammad Hassaan', 'Moataz']\n",
    "\n",
    "print(f'Hey, we invite you to our business party, you are our premium guest {guest[0]}. \\n')\n",
    "\n",
    "print(f\"Hey, don't miss our invite {guest[1]}. \\n\")\n",
    "\n",
    "print(f'Hey, you are our beloved guest plz join us {guest[2]}. \\n')"
   ]
  },
  {
   "cell_type": "code",
   "execution_count": 25,
   "metadata": {},
   "outputs": [
    {
     "name": "stdout",
     "output_type": "stream",
     "text": [
      "We are very sorry that you cannot make it Moataz. \n",
      "\n",
      "We will like to see you between us: Azaiza. \n",
      "We will like to see you between us: Muhammad Hassaan. \n",
      "We will like to see you between us: Muhammad. \n"
     ]
    }
   ],
   "source": [
    "# 3.5) Changing guest list\n",
    "\n",
    "guest : list[str] = ['Muhammad', 'Muhammad Hassaan', 'Moataz']\n",
    "\n",
    "print(f\"We are very sorry that you cannot make it {guest[-1]}. \\n\")\n",
    "\n",
    "guest.pop(-1)\n",
    "\n",
    "guest.append('Azaiza')\n",
    "\n",
    "print(f\"We will like to see you between us: {guest[-1]}. \")\n",
    "print(f\"We will like to see you between us: {guest[-2]}. \")\n",
    "print(f\"We will like to see you between us: {guest[-3]}. \")"
   ]
  },
  {
   "cell_type": "code",
   "execution_count": 29,
   "metadata": {},
   "outputs": [
    {
     "name": "stdout",
     "output_type": "stream",
     "text": [
      "We are very sorry that you cannot make it Moataz. \n",
      "\n",
      "Guest List is: ['Dawood', 'Al-Aqad', 'Muhammad', 'Muhammad Hassaan', 'Azaiza', 'Ameer']. \n",
      "\n",
      "Hey, Please come to our party Dawood\n",
      "Hey, Please come to our party Al-Aqad\n",
      "Hey, Please come to our party Muhammad\n",
      "Hey, Please come to our party Muhammad Hassaan\n",
      "Hey, Please come to our party Azaiza\n",
      "Hey, Please come to our party Ameer\n"
     ]
    }
   ],
   "source": [
    "# 3.6) More Guests \n",
    "\n",
    "guest : list[str] = ['Muhammad', 'Muhammad Hassaan', 'Moataz']\n",
    "\n",
    "print(f\"We are very sorry that you cannot make it {guest[-1]}. \\n\")\n",
    "\n",
    "guest.pop(-1)\n",
    "guest.append('Azaiza')\n",
    "\n",
    "guest.insert(0, 'Al-Aqad')\n",
    "guest.insert(0, 'Dawood')\n",
    "guest.append('Ameer')\n",
    "\n",
    "print(f\"Guest List is: {guest}. \\n\")\n",
    "\n",
    "print(f\"Hey, Please come to our party {guest[0]}\")\n",
    "print(f\"Hey, Please come to our party {guest[1]}\")\n",
    "print(f\"Hey, Please come to our party {guest[2]}\")\n",
    "print(f\"Hey, Please come to our party {guest[3]}\")\n",
    "print(f\"Hey, Please come to our party {guest[4]}\")\n",
    "print(f\"Hey, Please come to our party {guest[5]}\")\n"
   ]
  },
  {
   "cell_type": "code",
   "execution_count": 49,
   "metadata": {},
   "outputs": [
    {
     "name": "stdout",
     "output_type": "stream",
     "text": [
      "Guest List is: ['Dawood', 'Palestia', 'Muhammad', 'Muhammad Hassaan', 'Moataz', 'Ameer']. \n",
      "\n",
      "Hi I can invite only two persons to the party \n",
      "\n",
      "Sorry, We cannot invite you to the party Dawood\n",
      "Sorry, We cannot invite you to the party Ameer\n",
      "Sorry, We cannot invite you to the party Muhammad Hassaan\n",
      "Sorry, We cannot invite you to the party Palestia \n",
      "\n",
      "Guest list: \t ['Muhammad', 'Moataz'] \n",
      "\n",
      "Hey, You are invited to our party Muhammad\n",
      "Hey, You are invited to our party to our party Moataz \n",
      "\n",
      "Empty Guest list: \t [] \n",
      "\n"
     ]
    }
   ],
   "source": [
    "# 3.7) Shrinking Guest List\n",
    "\n",
    "guest : list[str] = ['Muhammad', 'Muhammad Hassaan', 'Moataz']\n",
    "\n",
    "guest.insert(0, 'Palestia')\n",
    "guest.insert(0, 'Dawood')\n",
    "guest.append('Ameer')\n",
    "\n",
    "print(f\"Guest List is: {guest}. \\n\")\n",
    "\n",
    "print(\"Hi I can invite only two persons to the party \\n\")\n",
    "\n",
    "# Now shrinking the list of the guest and saying sorry\n",
    "\n",
    "print(f\"Sorry, We cannot invite you to the party {guest.pop(0)}\")\n",
    "print(f\"Sorry, We cannot invite you to the party {guest.pop(-1)}\")\n",
    "print(f\"Sorry, We cannot invite you to the party {guest.pop(-2)}\")\n",
    "print(f\"Sorry, We cannot invite you to the party {guest.pop(-3)} \\n\")\n",
    "\n",
    "\n",
    "\n",
    "print(f\"Guest list: \\t {guest} \\n\")\n",
    "\n",
    "print(f\"Hey, You are invited to our party {guest[0]}\")\n",
    "print(f\"Hey, You are invited to our party to our party {guest[1]} \\n\")\n",
    "\n",
    "del guest[0]\n",
    "del guest[0]\n",
    "\n",
    "print(f\"Empty Guest list: \\t {guest} \\n\")"
   ]
  },
  {
   "cell_type": "code",
   "execution_count": 54,
   "metadata": {},
   "outputs": [
    {
     "name": "stdout",
     "output_type": "stream",
     "text": [
      "Un-Sorted cars list['bmw', 'audi', 'toyota', 'subaru']\n",
      "Sorted cars list['audi', 'bmw', 'subaru', 'toyota']\n",
      "\n",
      "Reversed ordered car list ['toyota', 'subaru', 'bmw', 'audi']\n",
      "['audi', 'bmw', 'subaru', 'toyota']\n"
     ]
    }
   ],
   "source": [
    "cars :  list[str] = ['bmw', 'audi', 'toyota', 'subaru']\n",
    "print(f'Un-Sorted cars list{cars}')\n",
    "cars.sort()\n",
    "print(f'Sorted cars list{cars}\\n')\n",
    "\n",
    "cars.sort(reverse=True)\n",
    "print(f\"Reversed ordered car list {cars}\")\n",
    "\n",
    "# We also have a function the reverse the order\n",
    "\n",
    "cars.reverse()\n",
    "print(f\"Cars List: {cars}\\n\")\n",
    "\n"
   ]
  },
  {
   "cell_type": "code",
   "execution_count": 71,
   "metadata": {},
   "outputs": [
    {
     "name": "stdout",
     "output_type": "stream",
     "text": [
      "['Gaza', 'Turkey', 'Cyprus', 'Bosnia', 'Afghanistan']\n",
      "\n",
      " Alphabetical orders of places: ['Afghanistan', 'Bosnia', 'Cyprus', 'Gaza', 'Turkey'] \n",
      "\n",
      "['Afghanistan', 'Bosnia', 'Cyprus', 'Gaza', 'Turkey']\n",
      "\n",
      " Reversed orders of places: ['Turkey', 'Gaza', 'Cyprus', 'Bosnia', 'Afghanistan'] \n",
      "\n",
      "['Gaza', 'Turkey', 'Cyprus', 'Bosnia', 'Afghanistan']\n",
      "\n",
      " Reversed orders of places: ['Afghanistan', 'Bosnia', 'Cyprus', 'Turkey', 'Gaza'] \n",
      "\n",
      " Reversed orders of places: ['Gaza', 'Turkey', 'Cyprus', 'Bosnia', 'Afghanistan'] \n",
      "\n",
      "\n",
      " Sorted orders of places: ['Afghanistan', 'Bosnia', 'Cyprus', 'Gaza', 'Turkey'] \n",
      "\n",
      "\n",
      " Reversed orders of places: ['Turkey', 'Gaza', 'Cyprus', 'Bosnia', 'Afghanistan'] \n",
      "\n"
     ]
    }
   ],
   "source": [
    "# 3.8) Seeing the world\n",
    "\n",
    "places : list[str] = ['Gaza', 'Turkey', 'Cyprus', 'Bosnia', 'Afghanistan']\n",
    "\n",
    "print(places)\n",
    "\n",
    "places.sort()\n",
    "print(f'\\n Alphabetical orders of places: {places} \\n')\n",
    "\n",
    "print(places)\n",
    "\n",
    "places.sort(reverse=  True)\n",
    "print(f'\\n Reversed orders of places: {places} \\n')\n",
    "\n",
    "places : list[str] = ['Gaza', 'Turkey', 'Cyprus', 'Bosnia', 'Afghanistan']\n",
    "print(places)\n",
    "\n",
    "places.reverse()\n",
    "print(f'\\n Reversed orders of places: {places} \\n')\n",
    "\n",
    "places.reverse()\n",
    "print(f' Reversed orders of places: {places} \\n')\n",
    "\n",
    "places.sort()\n",
    "print(f'\\n Sorted orders of places: {places} \\n')\n",
    "\n",
    "places.sort(reverse=  True)\n",
    "print(f'\\n Reversed orders of places: {places} \\n')\n"
   ]
  },
  {
   "cell_type": "code",
   "execution_count": 3,
   "metadata": {},
   "outputs": [
    {
     "name": "stdout",
     "output_type": "stream",
     "text": [
      "The guest we are inviting to the party are: 3\n"
     ]
    }
   ],
   "source": [
    "# 3.9) Dinner guest\n",
    "\n",
    "\n",
    "guest : list[str] = ['Muhammad', 'Muhammad Hassaan', 'Moataz']\n",
    "\n",
    "print(f\"The guest we are inviting to the party are: {len(guest)}\")"
   ]
  },
  {
   "cell_type": "code",
   "execution_count": 4,
   "metadata": {},
   "outputs": [
    {
     "name": "stdout",
     "output_type": "stream",
     "text": [
      "['Muhammad', 'Hassaan', 'Moataz']\n",
      "Muhammad\n"
     ]
    }
   ],
   "source": [
    "# 3.10) Every Function\n",
    "\n",
    "guest : list[str] = ['Muhammad', 'Hassaan', 'Moataz']\n",
    "print(guest)\n",
    "guest.append('Azaiza')\n",
    "print(guest[0])"
   ]
  },
  {
   "cell_type": "code",
   "execution_count": 5,
   "metadata": {},
   "outputs": [
    {
     "ename": "IndexError",
     "evalue": "list index out of range",
     "output_type": "error",
     "traceback": [
      "\u001b[1;31m---------------------------------------------------------------------------\u001b[0m",
      "\u001b[1;31mIndexError\u001b[0m                                Traceback (most recent call last)",
      "\u001b[1;32mf:\\Projects\\Python\\classes\\book-exc\\chap-3.ipynb Cell 15\u001b[0m line \u001b[0;36m5\n\u001b[0;32m      <a href='vscode-notebook-cell:/f%3A/Projects/Python/classes/book-exc/chap-3.ipynb#X20sZmlsZQ%3D%3D?line=0'>1</a>\u001b[0m \u001b[39m# 3.11) Intentional Error\u001b[39;00m\n\u001b[0;32m      <a href='vscode-notebook-cell:/f%3A/Projects/Python/classes/book-exc/chap-3.ipynb#X20sZmlsZQ%3D%3D?line=2'>3</a>\u001b[0m guest : \u001b[39mlist\u001b[39m[\u001b[39mstr\u001b[39m] \u001b[39m=\u001b[39m [\u001b[39m'\u001b[39m\u001b[39mMuhammad\u001b[39m\u001b[39m'\u001b[39m, \u001b[39m'\u001b[39m\u001b[39mHassaan\u001b[39m\u001b[39m'\u001b[39m, \u001b[39m'\u001b[39m\u001b[39mMoataz\u001b[39m\u001b[39m'\u001b[39m]\n\u001b[1;32m----> <a href='vscode-notebook-cell:/f%3A/Projects/Python/classes/book-exc/chap-3.ipynb#X20sZmlsZQ%3D%3D?line=4'>5</a>\u001b[0m \u001b[39mprint\u001b[39m(guest[\u001b[39m10\u001b[39;49m])\n",
      "\u001b[1;31mIndexError\u001b[0m: list index out of range"
     ]
    }
   ],
   "source": [
    "# 3.11) Intentional Error\n",
    "\n",
    "guest : list[str] = ['Muhammad', 'Hassaan', 'Moataz']\n",
    "\n",
    "print(guest[10])"
   ]
  }
 ],
 "metadata": {
  "kernelspec": {
   "display_name": "python13",
   "language": "python",
   "name": "python3"
  },
  "language_info": {
   "codemirror_mode": {
    "name": "ipython",
    "version": 3
   },
   "file_extension": ".py",
   "mimetype": "text/x-python",
   "name": "python",
   "nbconvert_exporter": "python",
   "pygments_lexer": "ipython3",
   "version": "3.12.0"
  }
 },
 "nbformat": 4,
 "nbformat_minor": 2
}
