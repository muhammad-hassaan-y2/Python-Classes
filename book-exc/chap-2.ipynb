{
 "cells": [
  {
   "cell_type": "markdown",
   "metadata": {},
   "source": [
    "# Chap-2\n"
   ]
  },
  {
   "cell_type": "code",
   "execution_count": 1,
   "metadata": {},
   "outputs": [
    {
     "name": "stdout",
     "output_type": "stream",
     "text": [
      "Hey, How are you doing today?\n"
     ]
    }
   ],
   "source": [
    "# 2.1) Simple Message\n",
    "\n",
    "message : str = \"Hey, How are you doing today?\"\n",
    "\n",
    "print(message)"
   ]
  },
  {
   "cell_type": "code",
   "execution_count": 1,
   "metadata": {},
   "outputs": [
    {
     "name": "stdout",
     "output_type": "stream",
     "text": [
      "Hey, How are you doing?\n",
      "I am doing fine.\n"
     ]
    }
   ],
   "source": [
    "# 2.2) Simple Messages\n",
    "\n",
    "message: str = \"Hey, How are you doing?\"\n",
    "print(message)\n",
    "new_message : str = 'I am doing fine.'\n",
    "print(new_message) "
   ]
  },
  {
   "cell_type": "code",
   "execution_count": 2,
   "metadata": {},
   "outputs": [
    {
     "name": "stdout",
     "output_type": "stream",
     "text": [
      "Hello, Muhmmad Hassaan Are you a full stack developer?\n"
     ]
    }
   ],
   "source": [
    "# 2.3) Personal Message\n",
    "\n",
    "name : str = \"Muhmmad Hassaan\"\n",
    "message : str = f\"Hello, {name} Are you a full stack developer?\"\n",
    "\n",
    "print(message)"
   ]
  },
  {
   "cell_type": "code",
   "execution_count": 6,
   "metadata": {},
   "outputs": [
    {
     "name": "stdout",
     "output_type": "stream",
     "text": [
      "MUHAMMAD HASSAAN\n",
      "muhammad hassaan\n",
      "Muhammad Hassaan\n"
     ]
    }
   ],
   "source": [
    "# 2.4) Name Cases\n",
    "\n",
    "name : str = \"mUhammaD HassAan\"\n",
    "\n",
    "print(name.upper())\n",
    "print(name.lower())\n",
    "print(name.title())\n"
   ]
  },
  {
   "cell_type": "code",
   "execution_count": 5,
   "metadata": {},
   "outputs": [
    {
     "name": "stdout",
     "output_type": "stream",
     "text": [
      "Mae West said, \"You only live once, but if you do it right, once is enough.\" \n"
     ]
    }
   ],
   "source": [
    "# 2.5) Famous Quote\n",
    "\n",
    "print(\"\"\"Mae West said, \"You only live once, but if you do it right, once is enough.\" \"\"\")"
   ]
  },
  {
   "cell_type": "code",
   "execution_count": 7,
   "metadata": {},
   "outputs": [
    {
     "data": {
      "text/plain": [
       "'Mae West said, You only live once, but if you do it right, once is enough.'"
      ]
     },
     "metadata": {},
     "output_type": "display_data"
    }
   ],
   "source": [
    "# 2.6) Famous Quote\n",
    "\n",
    "famous_person : str = \"Mae West\"\n",
    "message : str  = \"You only live once, but if you do it right, once is enough.\"\n",
    "\n",
    "display(f\"{famous_person} said, {message}\")"
   ]
  },
  {
   "cell_type": "code",
   "execution_count": 10,
   "metadata": {},
   "outputs": [
    {
     "data": {
      "text/plain": [
       "'    Muhammad Hassaan   '"
      ]
     },
     "metadata": {},
     "output_type": "display_data"
    },
    {
     "data": {
      "text/plain": [
       "'    Muhammad Hassaan'"
      ]
     },
     "metadata": {},
     "output_type": "display_data"
    },
    {
     "data": {
      "text/plain": [
       "'Muhammad Hassaan   '"
      ]
     },
     "metadata": {},
     "output_type": "display_data"
    },
    {
     "data": {
      "text/plain": [
       "'Muhammad Hassaan'"
      ]
     },
     "metadata": {},
     "output_type": "display_data"
    }
   ],
   "source": [
    "# 2.7) Stripping Names\n",
    "\n",
    "name : str = \"    Muhammad Hassaan   \"\n",
    "\n",
    "display(name)\n",
    "display(name.rstrip())\n",
    "display(name.lstrip())\n",
    "display(name.strip())"
   ]
  },
  {
   "cell_type": "code",
   "execution_count": 12,
   "metadata": {},
   "outputs": [
    {
     "data": {
      "text/plain": [
       "'python_notes'"
      ]
     },
     "metadata": {},
     "output_type": "display_data"
    },
    {
     "data": {
      "text/plain": [
       "'notes.txt'"
      ]
     },
     "metadata": {},
     "output_type": "display_data"
    }
   ],
   "source": [
    "# 2.8) File Extensions\n",
    "\n",
    "file_extension : str = \"python_notes.txt\"\n",
    "\n",
    "display(file_extension.removesuffix('.txt'))\n",
    "display(file_extension.removeprefix('python_'))"
   ]
  },
  {
   "cell_type": "code",
   "execution_count": 22,
   "metadata": {},
   "outputs": [
    {
     "name": "stdout",
     "output_type": "stream",
     "text": [
      "8\n",
      "8\n",
      "8\n",
      "8.0\n",
      "8\n",
      "8\n"
     ]
    }
   ],
   "source": [
    "# 2.9) Number Eight\n",
    "\n",
    "print(4 + 4)\n",
    "print(12 - 4)\n",
    "print(2 * 4)\n",
    "print(16 / 2)\n",
    "print(2 ** 3)\n",
    "print(16 // 2)"
   ]
  },
  {
   "cell_type": "code",
   "execution_count": 24,
   "metadata": {},
   "outputs": [
    {
     "name": "stdout",
     "output_type": "stream",
     "text": [
      "Hey, my favourite number is :  7\n"
     ]
    }
   ],
   "source": [
    "# 2.10) Favourite Number\n",
    "\n",
    "favourite_number : int = 7\n",
    "message : str = f\"Hey, my favourite number is :  {favourite_number}\"\n",
    "\n",
    "print(message) \n"
   ]
  },
  {
   "cell_type": "code",
   "execution_count": 26,
   "metadata": {},
   "outputs": [
    {
     "name": "stdout",
     "output_type": "stream",
     "text": [
      "Hey, my favourite number is :  7 \n",
      "\n",
      "8\n",
      "8\n",
      "8\n",
      "8.0\n",
      "8\n",
      "8\n"
     ]
    }
   ],
   "source": [
    "# 2.11) Adding Comments\n",
    "\n",
    "# Variable storing my favourite number\n",
    "favourite_number : int = 7\n",
    "\n",
    "# Variable that stores message reveling my favourite number \n",
    "message : str = f\"Hey, my favourite number is :  {favourite_number} \\n\"\n",
    "\n",
    "# Print function displaying message and the favourite number\n",
    "print(message) \n",
    "\n",
    "\n",
    "# These are the operations the reveals number eight\n",
    "\n",
    "print(4 + 4)\n",
    "print(12 - 4)\n",
    "print(2 * 4)\n",
    "print(16 / 2)\n",
    "print(2 ** 3)\n",
    "print(16 // 2)"
   ]
  },
  {
   "cell_type": "code",
   "execution_count": 27,
   "metadata": {},
   "outputs": [
    {
     "name": "stdout",
     "output_type": "stream",
     "text": [
      "The Zen of Python, by Tim Peters\n",
      "\n",
      "Beautiful is better than ugly.\n",
      "Explicit is better than implicit.\n",
      "Simple is better than complex.\n",
      "Complex is better than complicated.\n",
      "Flat is better than nested.\n",
      "Sparse is better than dense.\n",
      "Readability counts.\n",
      "Special cases aren't special enough to break the rules.\n",
      "Although practicality beats purity.\n",
      "Errors should never pass silently.\n",
      "Unless explicitly silenced.\n",
      "In the face of ambiguity, refuse the temptation to guess.\n",
      "There should be one-- and preferably only one --obvious way to do it.\n",
      "Although that way may not be obvious at first unless you're Dutch.\n",
      "Now is better than never.\n",
      "Although never is often better than *right* now.\n",
      "If the implementation is hard to explain, it's a bad idea.\n",
      "If the implementation is easy to explain, it may be a good idea.\n",
      "Namespaces are one honking great idea -- let's do more of those!\n"
     ]
    }
   ],
   "source": [
    "# 2.12) Zen of Python\n",
    "\n",
    "import this\n"
   ]
  }
 ],
 "metadata": {
  "kernelspec": {
   "display_name": "python13",
   "language": "python",
   "name": "python3"
  },
  "language_info": {
   "codemirror_mode": {
    "name": "ipython",
    "version": 3
   },
   "file_extension": ".py",
   "mimetype": "text/x-python",
   "name": "python",
   "nbconvert_exporter": "python",
   "pygments_lexer": "ipython3",
   "version": "3.12.0"
  }
 },
 "nbformat": 4,
 "nbformat_minor": 2
}
