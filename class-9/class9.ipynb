{
 "cells": [
  {
   "cell_type": "markdown",
   "metadata": {},
   "source": [
    "# Loop and user input\n",
    "\n",
    "* while \n",
    "* for\n",
    "* controls\n",
    "    * break\n",
    "    * continue\n",
    "    * pass\n",
    "* inout with input function\n",
    "* input from console\n",
    "\n",
    "# Loop working on iterative data types\n",
    "* list\n",
    "* dictionary\n",
    "* tuple\n",
    "* string"
   ]
  },
  {
   "cell_type": "code",
   "execution_count": 5,
   "metadata": {},
   "outputs": [
    {
     "name": "stdout",
     "output_type": "stream",
     "text": [
      "[1, 2, 3, 4, 5, 6]\n"
     ]
    }
   ],
   "source": [
    "#                 0  1  2  3  4  5\n",
    "l1 : list[int] = [1, 2, 3, 4, 5, 6]\n",
    "\n",
    "print(l1)\n",
    "\n"
   ]
  },
  {
   "cell_type": "code",
   "execution_count": 6,
   "metadata": {},
   "outputs": [
    {
     "name": "stdout",
     "output_type": "stream",
     "text": [
      "1\n",
      "2\n",
      "3\n",
      "4\n",
      "5\n",
      "6\n"
     ]
    }
   ],
   "source": [
    "# Here let's format the specify of the list in the colimn form\n",
    "\n",
    "#                 0  1  2  3  4  5\n",
    "l1 : list[int] = [1, 2, 3, 4, 5, 6]\n",
    "\n",
    "for n in l1:\n",
    "            print(n)\n",
    "            \n",
    "# Here it has done iteration and done the formattion"
   ]
  },
  {
   "cell_type": "code",
   "execution_count": 7,
   "metadata": {},
   "outputs": [
    {
     "name": "stdout",
     "output_type": "stream",
     "text": [
      "current number is: 1\n",
      "current number is: 2\n",
      "current number is: 3\n",
      "current number is: 4\n",
      "current number is: 5\n",
      "current number is: 6\n"
     ]
    }
   ],
   "source": [
    "#                 0  1  2  3  4  5\n",
    "l1 : list[int] = [1, 2, 3, 4, 5, 6]\n",
    "\n",
    "for n in l1:\n",
    "            print(f\"current number is: {n}\")"
   ]
  },
  {
   "cell_type": "code",
   "execution_count": 8,
   "metadata": {},
   "outputs": [
    {
     "name": "stdout",
     "output_type": "stream",
     "text": [
      "current number is: 1\n",
      "current number is: 2\n",
      "current number is: 3\n",
      "current number is: 4\n",
      "current number is: 5\n",
      "current number is: 6\n"
     ]
    }
   ],
   "source": [
    "#                 0  1  2  3  4  5\n",
    "l1 : tuple[int] = [1, 2, 3, 4, 5, 6]\n",
    "\n",
    "for n in l1:\n",
    "            print(f\"current number is: {n}\")"
   ]
  },
  {
   "cell_type": "code",
   "execution_count": 10,
   "metadata": {},
   "outputs": [
    {
     "name": "stdout",
     "output_type": "stream",
     "text": [
      "current character is: P\n",
      "current character is: a\n",
      "current character is: k\n",
      "current character is: i\n",
      "current character is: s\n",
      "current character is: t\n",
      "current character is: a\n",
      "current character is: n\n"
     ]
    }
   ],
   "source": [
    "#          012345678\n",
    "l1 : str = \"Pakistan\"\n",
    "\n",
    "for n in l1:\n",
    "            print(f\"current character is: {n}\")"
   ]
  },
  {
   "cell_type": "code",
   "execution_count": 4,
   "metadata": {},
   "outputs": [
    {
     "name": "stdout",
     "output_type": "stream",
     "text": [
      "Dictionary Key name  and value is Muhammad Hassaan\n",
      "Dictionary Key fname  and value is Shaukat Ali\n"
     ]
    }
   ],
   "source": [
    "#          iteration perfomance on dictionary\n",
    "l1 : dict[str, str] = {\"name\": \"Muhammad Hassaan\",\n",
    "                       \"fname\": \"Shaukat Ali\"}\n",
    "\n",
    "for k in l1:\n",
    "            print(f\"Dictionary Key {k}  and value is {l1[k]}\")"
   ]
  },
  {
   "cell_type": "code",
   "execution_count": 17,
   "metadata": {},
   "outputs": [
    {
     "name": "stdout",
     "output_type": "stream",
     "text": [
      "Dictionary Key : 1 \n",
      "Dictionary Key : 2 \n",
      "Dictionary Key : 3 \n",
      "Dictionary Key : 4 \n",
      "Dictionary Key : 5 \n",
      "Dictionary Key : 6 \n",
      "Dictionary Key : 7 \n",
      "Dictionary Key : 8 \n",
      "Dictionary Key : 9 \n"
     ]
    }
   ],
   "source": [
    "#          iteration perfomance on Set data type\n",
    "l1 : list[set[int] ]= {1, 2, 3, 4, 5, 8, 7, 8, 9, 6, 8, 9, 4, 5, 3, 2, 1, 5, 3, 4 }\n",
    "\n",
    "for k in l1:\n",
    "            print(f\"Dictionary Key : {k} \")"
   ]
  },
  {
   "cell_type": "markdown",
   "metadata": {},
   "source": [
    "# Input from user\n",
    " * Input Function\n",
    "    * defeault type = string\n",
    "* sys.EGV (For console input in abc.py file)\n",
    "    * defeault type = object"
   ]
  },
  {
   "cell_type": "code",
   "execution_count": 18,
   "metadata": {},
   "outputs": [
    {
     "name": "stdout",
     "output_type": "stream",
     "text": [
      "<class 'str'>\n",
      "Welcome dear User Mr/Miss Muhammad Hassaan!\n"
     ]
    }
   ],
   "source": [
    "name : str = input(\"What is your name? \\t\")\n",
    "\n",
    "print(type(name))\n",
    "\n",
    "print(f\"Welcome dear User Mr/Miss {name}!\")"
   ]
  },
  {
   "cell_type": "code",
   "execution_count": 5,
   "metadata": {},
   "outputs": [
    {
     "data": {
      "text/plain": [
       "[('a', 'x', 1), ('a', 'y', 2), ('c', 'z', 3)]"
      ]
     },
     "execution_count": 5,
     "metadata": {},
     "output_type": "execute_result"
    }
   ],
   "source": [
    "name : list[str] = ['a', 'a', 'c', 'd']\n",
    "fname : list[str] = ['x', 'y', 'z']\n",
    "age : list[int] = [1, 2, 3]\n",
    "\n",
    "list(zip(name, fname, age))\n"
   ]
  },
  {
   "cell_type": "code",
   "execution_count": 7,
   "metadata": {},
   "outputs": [
    {
     "name": "stdout",
     "output_type": "stream",
     "text": [
      "Welcome! dear a, s/o x\n",
      "Welcome! dear a, s/o y\n",
      "Welcome! dear c, s/o z\n"
     ]
    }
   ],
   "source": [
    "name : list[str] = ['a', 'a', 'c', 'd']\n",
    "fname : list[str] = ['x', 'y', 'z']\n",
    "age : list[int] = [1, 2, 3]\n",
    "\n",
    "for names, fn, ag in zip(name, fname,  age):\n",
    "    print(f\"Welcome! dear {names}, s/o {fn}\")"
   ]
  },
  {
   "cell_type": "markdown",
   "metadata": {},
   "source": [
    "# While Loop\n",
    " \n",
    " ```\n",
    " While Logic: # True/False\n",
    " loop_body\n",
    " ```"
   ]
  },
  {
   "cell_type": "code",
   "execution_count": 13,
   "metadata": {},
   "outputs": [
    {
     "name": "stdout",
     "output_type": "stream",
     "text": [
      "current number is :0\n",
      "current number is :1\n",
      "current number is :2\n",
      "current number is :3\n",
      "current number is :4\n",
      "current number is :5\n",
      "current number is :6\n",
      "current number is :7\n",
      "current number is :8\n",
      "current number is :9\n"
     ]
    }
   ],
   "source": [
    "flag : bool = True\n",
    "\n",
    "current_number : int = 0\n",
    "\n",
    "while flag:\n",
    "           print(f\"current number is :{current_number}\")\n",
    "           current_number += 1\n",
    "           \n",
    "           if current_number == 10:\n",
    "               break"
   ]
  },
  {
   "cell_type": "code",
   "execution_count": 18,
   "metadata": {},
   "outputs": [
    {
     "name": "stdout",
     "output_type": "stream",
     "text": [
      "Write quite or exit to stop this program\n"
     ]
    },
    {
     "name": "stdout",
     "output_type": "stream",
     "text": [
      "Write quite or exit to stop this program\n",
      "Write quite or exit to stop this program\n",
      "Write quite or exit to stop this program\n"
     ]
    },
    {
     "data": {
      "text/plain": [
       "[{'Name': 'Hello', 'Education': 'dsf'},\n",
       " {'Name': 'bjk;', 'Education': \"nkl';\"},\n",
       " {'Name': \"jk;'\", 'Education': 'kl;'}]"
      ]
     },
     "metadata": {},
     "output_type": "display_data"
    }
   ],
   "source": [
    "data : list[dict[str, str]] = []\n",
    "\n",
    "flag : bool = True\n",
    "\n",
    "while flag: \n",
    "    print(\"Write quite or exit to stop this program\")\n",
    "    name : str = input(\"What is your name ? \\t\")\n",
    "    eductaion : str = input(\"What is your highest qualifiztaion ? \\t\")\n",
    "    \n",
    "    if name in ['exit', 'stop', 'quite', 'close'] or eductaion in ['exit', 'stop', 'quite', 'close']:\n",
    "        flag = False\n",
    "        break\n",
    "    data.append({\"Name\" : name,\n",
    "                 \"Education\" : eductaion})\n",
    "    \n",
    "display(data)\n",
    "    "
   ]
  },
  {
   "cell_type": "markdown",
   "metadata": {},
   "source": [
    "# Controls \n",
    " * break\n",
    " * continue\n",
    " * pass"
   ]
  },
  {
   "cell_type": "code",
   "execution_count": 1,
   "metadata": {},
   "outputs": [
    {
     "name": "stdout",
     "output_type": "stream",
     "text": [
      "1\n",
      "2\n",
      "3\n",
      "4\n",
      "5\n"
     ]
    }
   ],
   "source": [
    "for i in range (1, 11):\n",
    "    print(i)\n",
    "    if i == 5:\n",
    "        break # TO stop we use break"
   ]
  },
  {
   "cell_type": "code",
   "execution_count": 4,
   "metadata": {},
   "outputs": [
    {
     "name": "stdout",
     "output_type": "stream",
     "text": [
      "2 X 1 = 2\n",
      "2 X 2 = 4\n",
      "2 X 3 = 6\n",
      "2 X 4 = 8\n",
      "2 X 5 = 10\n",
      "2 X 6 = 12\n",
      "2 X 7 = 14\n",
      "2 X 8 = 16\n",
      "2 X 9 = 18\n",
      "2 X 10 = 20\n"
     ]
    }
   ],
   "source": [
    "for i in range(1, 11):\n",
    "    print(f\"2 X {i} = {i*2}\")\n",
    "    "
   ]
  },
  {
   "cell_type": "code",
   "execution_count": 5,
   "metadata": {},
   "outputs": [
    {
     "name": "stdout",
     "output_type": "stream",
     "text": [
      "1\n",
      "2\n",
      "3\n",
      "4\n",
      "6\n",
      "7\n",
      "8\n",
      "9\n",
      "10\n"
     ]
    }
   ],
   "source": [
    "# Usage of continue\n",
    "# It can be used to tell that left this and go further\n",
    "\n",
    "for i in range(1, 11):\n",
    "    if i == 5:\n",
    "        continue # Skipping the iteration when i is 5\n",
    "    print(i)"
   ]
  },
  {
   "cell_type": "code",
   "execution_count": 6,
   "metadata": {},
   "outputs": [
    {
     "ename": "SyntaxError",
     "evalue": "invalid syntax (205371393.py, line 1)",
     "output_type": "error",
     "traceback": [
      "\u001b[1;36m  Cell \u001b[1;32mIn[6], line 1\u001b[1;36m\u001b[0m\n\u001b[1;33m    for i range(1, 1000):\u001b[0m\n\u001b[1;37m          ^\u001b[0m\n\u001b[1;31mSyntaxError\u001b[0m\u001b[1;31m:\u001b[0m invalid syntax\n"
     ]
    }
   ],
   "source": [
    "# Here you want to put the logic after some time, but it gives us error\n",
    "\n",
    "for i  range(1, 1000):"
   ]
  },
  {
   "cell_type": "code",
   "execution_count": 7,
   "metadata": {},
   "outputs": [],
   "source": [
    "# TO avoid the error and want to put condition after some time, we can do:\n",
    "\n",
    "for i in range(1, 1000):\n",
    "    pass"
   ]
  },
  {
   "cell_type": "code",
   "execution_count": null,
   "metadata": {},
   "outputs": [],
   "source": [
    "while True:\n",
    "    pass"
   ]
  },
  {
   "cell_type": "code",
   "execution_count": null,
   "metadata": {},
   "outputs": [],
   "source": [
    "def abs(a: int, b:int) -> int :\n",
    "    pass\n",
    "\n",
    "# Pass keyword can be used in functions or things"
   ]
  },
  {
   "cell_type": "code",
   "execution_count": 15,
   "metadata": {},
   "outputs": [
    {
     "data": {
      "text/plain": [
       "[1, 3, 5, 7, 9]"
      ]
     },
     "execution_count": 15,
     "metadata": {},
     "output_type": "execute_result"
    }
   ],
   "source": [
    "data : list[int] = [1, 2, 3, 4, 5, 6 ,8 ,7, 9, 10]\n",
    "\n",
    "# extract odd numbers from this list\n",
    "\n",
    "[i for i in data if i % 2 != 0]\n",
    "\n"
   ]
  }
 ],
 "metadata": {
  "kernelspec": {
   "display_name": "python13",
   "language": "python",
   "name": "python3"
  },
  "language_info": {
   "codemirror_mode": {
    "name": "ipython",
    "version": 3
   },
   "file_extension": ".py",
   "mimetype": "text/x-python",
   "name": "python",
   "nbconvert_exporter": "python",
   "pygments_lexer": "ipython3",
   "version": "3.12.0"
  }
 },
 "nbformat": 4,
 "nbformat_minor": 2
}
