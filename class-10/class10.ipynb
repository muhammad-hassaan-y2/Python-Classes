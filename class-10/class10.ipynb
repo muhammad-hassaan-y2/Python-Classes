{
 "cells": [
  {
   "cell_type": "markdown",
   "metadata": {},
   "source": [
    "# Function\n",
    " * pre-defined functions\n",
    "   * provided by in function\n",
    " * user-define function\n",
    "   * custom function\n",
    "\n",
    "## Similar Properties on both\n",
    "* Return and None-Return function\n",
    "   * Return\n",
    "       * We can assign this function output in any variable\n",
    "   * None-Return\n",
    "       * Only run we can't assign value to a variable\n",
    "\n",
    "## Components\n",
    " * function declaration\n",
    " * function body\n",
    " * function calling\n",
    "\n",
    "### Syntax Function\n",
    "\n",
    "```\n",
    "def function_name(param1: type, param2: type,....)-> Return_type:\n",
    "         function_body\n",
    "\n",
    "function_name(arg1, arg2)\n",
    "```\n",
    "\n",
    "### Syntax lamda function\n",
    " * one line function\n",
    " * without name\n",
    " * only use in this line\n",
    " ```\n",
    " lamda param1, param2 : funtion_body\n",
    "\n",
    " ```\n"
   ]
  },
  {
   "cell_type": "markdown",
   "metadata": {},
   "source": [
    "# Pre-define Function\n",
    "\n",
    "* print\n",
    "* len\n",
    "* id\n",
    "* dir\n",
    "* chr\n",
    "* ord\n",
    "* exec"
   ]
  },
  {
   "cell_type": "markdown",
   "metadata": {},
   "source": [
    "# Return and None-return function:"
   ]
  },
  {
   "cell_type": "code",
   "execution_count": 1,
   "metadata": {},
   "outputs": [
    {
     "name": "stdout",
     "output_type": "stream",
     "text": [
      "Pakistan\n"
     ]
    },
    {
     "data": {
      "text/plain": [
       "None"
      ]
     },
     "metadata": {},
     "output_type": "display_data"
    }
   ],
   "source": [
    "# None Return Function\n",
    "a : str = print(\"Pakistan\")  # a= \"Pakistan\" | None\n",
    "\n",
    "display(a)"
   ]
  },
  {
   "cell_type": "code",
   "execution_count": 4,
   "metadata": {},
   "outputs": [
    {
     "name": "stdout",
     "output_type": "stream",
     "text": [
      "8\n"
     ]
    }
   ],
   "source": [
    "# Return Function\n",
    "\n",
    "a : int = len(\"Pakistan\")\n",
    "\n",
    "print(a)"
   ]
  },
  {
   "cell_type": "markdown",
   "metadata": {},
   "source": [
    "## Components\n",
    " * function declaration\n",
    "      * Function Name\n",
    "      * Parameters\n",
    "            param : tpye\n",
    "        * return output type\n",
    "      \n",
    " * function body\n",
    "      * any business logic write here\n",
    " * function calling\n",
    "      * function(arg1, arg2)\n",
    "\n",
    "### Syntax Function\n",
    "\n",
    "```\n",
    "def function_name(param1: type, param2: type,....)-> Return_type:  # declaration\n",
    "         function_body   # body\n",
    "\n",
    "function_name(arg1, arg2) # calling\n",
    "```"
   ]
  },
  {
   "cell_type": "markdown",
   "metadata": {},
   "source": [
    "### Create Simple Function wwithout any argument (defeault function)"
   ]
  },
  {
   "cell_type": "code",
   "execution_count": 8,
   "metadata": {},
   "outputs": [
    {
     "name": "stdout",
     "output_type": "stream",
     "text": [
      "PIAIC Generative Artifical Intelligence Course\n",
      "Python Crash Course\n"
     ]
    }
   ],
   "source": [
    "def piaic()-> None: # declaration/ function signature\n",
    "    # function body start\n",
    "    print(\"PIAIC Generative Artifical Intelligence Course\") # Statement-1\n",
    "    print(\"Python Crash Course\") # Statement-2\n",
    "    # Function Body End\n",
    "    \n",
    "piaic() # calling\n"
   ]
  },
  {
   "cell_type": "code",
   "execution_count": null,
   "metadata": {},
   "outputs": [],
   "source": [
    "piaic()\n",
    "piaic()"
   ]
  },
  {
   "cell_type": "markdown",
   "metadata": {},
   "source": [
    "Required Parameters Function"
   ]
  },
  {
   "cell_type": "code",
   "execution_count": null,
   "metadata": {},
   "outputs": [],
   "source": [
    "#                    param1     param2\n",
    "def add_two_numbers(num1: int, num2 : int)->int:\n",
    "    return num1 + num2\n",
    "\n",
    "add_two_numbers(7, 20) # arg1, arg2"
   ]
  },
  {
   "cell_type": "code",
   "execution_count": 9,
   "metadata": {},
   "outputs": [
    {
     "ename": "NameError",
     "evalue": "name 'add_two_numbers' is not defined",
     "output_type": "error",
     "traceback": [
      "\u001b[1;31m---------------------------------------------------------------------------\u001b[0m",
      "\u001b[1;31mNameError\u001b[0m                                 Traceback (most recent call last)",
      "\u001b[1;32mc:\\Users\\Muhammad Hassaan\\Desktop\\Projects\\Python\\Classes\\class-10\\class10.ipynb Cell 12\u001b[0m line \u001b[0;36m1\n\u001b[1;32m----> <a href='vscode-notebook-cell:/c%3A/Users/Muhammad%20Hassaan/Desktop/Projects/Python/Classes/class-10/class10.ipynb#X22sZmlsZQ%3D%3D?line=0'>1</a>\u001b[0m add_two_numbers(\u001b[39m5\u001b[39m)\n",
      "\u001b[1;31mNameError\u001b[0m: name 'add_two_numbers' is not defined"
     ]
    }
   ],
   "source": [
    "add_two_numbers(5)"
   ]
  },
  {
   "cell_type": "markdown",
   "metadata": {},
   "source": [
    "# Function with optional parameter"
   ]
  },
  {
   "cell_type": "code",
   "execution_count": 14,
   "metadata": {},
   "outputs": [
    {
     "name": "stdout",
     "output_type": "stream",
     "text": [
      "5 8\n"
     ]
    },
    {
     "data": {
      "text/plain": [
       "40"
      ]
     },
     "execution_count": 14,
     "metadata": {},
     "output_type": "execute_result"
    }
   ],
   "source": [
    "def  multiply(num1 : int, num2 : int = 0) -> int:\n",
    "    print(num1, num2)\n",
    "    return num1 * num2\n",
    "\n",
    "multiply(5, 8)\n"
   ]
  },
  {
   "cell_type": "markdown",
   "metadata": {},
   "source": [
    "\n",
    "### Syntax lamda function\n",
    " * one line function\n",
    " * without name\n",
    " * only use in this line\n",
    " ```\n",
    " lamda param1, param2 : funtion_body\n",
    "\n",
    " ```"
   ]
  },
  {
   "cell_type": "code",
   "execution_count": 15,
   "metadata": {},
   "outputs": [
    {
     "data": {
      "text/plain": [
       "15"
      ]
     },
     "execution_count": 15,
     "metadata": {},
     "output_type": "execute_result"
    }
   ],
   "source": [
    "a =lambda num1, num2 : num1 + num2\n",
    "\n",
    "a(7, 8)"
   ]
  },
  {
   "cell_type": "code",
   "execution_count": 17,
   "metadata": {},
   "outputs": [
    {
     "data": {
      "text/plain": [
       "[1, 4, 9, 16, 25, 36, 49, 64, 81]"
      ]
     },
     "execution_count": 17,
     "metadata": {},
     "output_type": "execute_result"
    }
   ],
   "source": [
    "data: list[int] = [1, 2, 3, 4, 5, 6, 7, 8, 9]\n",
    "\n",
    "data = list(map(lambda x:x**2 ,data)) # here it will take value and apply power\n",
    "\n",
    "data"
   ]
  },
  {
   "cell_type": "code",
   "execution_count": 2,
   "metadata": {},
   "outputs": [
    {
     "data": {
      "text/plain": [
       "[2, 4, 6, 8]"
      ]
     },
     "execution_count": 2,
     "metadata": {},
     "output_type": "execute_result"
    }
   ],
   "source": [
    "data: list[int] = [1, 2, 3, 4, 5, 6, 7, 8, 9]\n",
    "\n",
    "data = list(filter(lambda x : x % 2 == 0 ,data))\n",
    "\n",
    "data"
   ]
  },
  {
   "cell_type": "markdown",
   "metadata": {},
   "source": [
    "## Generator Function\n",
    "\n",
    "* iterate on element one by one\n",
    "* stop after each iteration\n",
    "* remember old itereation value(last iterate value)\n",
    "* next iterate\n",
    "     * go forward from last iterate value "
   ]
  },
  {
   "cell_type": "code",
   "execution_count": 3,
   "metadata": {},
   "outputs": [
    {
     "name": "stdout",
     "output_type": "stream",
     "text": [
      "<generator object my_range at 0x00000177056A2890>\n",
      "[1, 2, 3, 4, 5, 6, 7, 8, 9, 10]\n"
     ]
    }
   ],
   "source": [
    "# Generator Function\n",
    "\n",
    "def my_range(start: int, end:int, step : int = 1):\n",
    " for i in range(start, end+1, step):\n",
    "     yield i # Generator Function\n",
    "     \n",
    "a = my_range(1, 10)\n",
    "print(a)\n",
    "print(list(a)) "
   ]
  },
  {
   "cell_type": "code",
   "execution_count": 4,
   "metadata": {},
   "outputs": [
    {
     "name": "stdout",
     "output_type": "stream",
     "text": [
      "1\n",
      "2\n",
      "3\n",
      "4\n"
     ]
    }
   ],
   "source": [
    "a = my_range(1, 10)\n",
    "\n",
    "print(next(a))\n",
    "print(next(a))\n",
    "print(next(a))\n",
    "print(next(a))\n"
   ]
  },
  {
   "cell_type": "code",
   "execution_count": 26,
   "metadata": {},
   "outputs": [],
   "source": [
    "from collections.abc import Iterator\n",
    "\n",
    "MyDict = dict[str, object] # For example\n",
    "\n",
    "def yield_func() -> Iterator[MyDict] :\n",
    "    a : MyDict = {}\n",
    "    b : MyDict = {}\n",
    "    \n",
    "    ...\n",
    "    yield a\n",
    "    yield a"
   ]
  },
  {
   "cell_type": "markdown",
   "metadata": {},
   "source": [
    "## Pass Unlimited Argument"
   ]
  }
 ],
 "metadata": {
  "kernelspec": {
   "display_name": "python12",
   "language": "python",
   "name": "python3"
  },
  "language_info": {
   "codemirror_mode": {
    "name": "ipython",
    "version": 3
   },
   "file_extension": ".py",
   "mimetype": "text/x-python",
   "name": "python",
   "nbconvert_exporter": "python",
   "pygments_lexer": "ipython3",
   "version": "3.12.0"
  }
 },
 "nbformat": 4,
 "nbformat_minor": 2
}
