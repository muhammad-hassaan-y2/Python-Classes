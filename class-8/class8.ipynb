{
 "cells": [
  {
   "cell_type": "code",
   "execution_count": 5,
   "metadata": {},
   "outputs": [
    {
     "name": "stdout",
     "output_type": "stream",
     "text": [
      "['clear', 'copy', 'fromkeys', 'get', 'items', 'keys', 'pop', 'popitem', 'setdefault', 'update', 'values']\n"
     ]
    }
   ],
   "source": [
    "from typing import Dict, Union, Optional\n",
    "\n",
    "key = Union[str, int]\n",
    "Value = Union[int, list, dict, tuple, str, set]\n",
    "\n",
    "data : Dict[key, Value] = {\"fname\": \"Shaukat Ali\",\n",
    "                         \"name\": \"Muhammad Hassaan\",\n",
    "                         \"education\": \"Inter in Computer Science\",\n",
    "                        \n",
    "                         }\n",
    "\n",
    "    \n",
    "\n",
    "methods : list[str] = [m for m in dir(data) if \"__\" not in m]\n",
    "print(methods)"
   ]
  },
  {
   "cell_type": "code",
   "execution_count": 6,
   "metadata": {},
   "outputs": [
    {
     "name": "stdout",
     "output_type": "stream",
     "text": [
      "Before {'fname': 'Shaukat Ali', 'name': 'Muhammad Hassaan', 'education': 'Inter in Computer Science'}\n",
      "After {}\n",
      "['clear', 'copy', 'fromkeys', 'get', 'items', 'keys', 'pop', 'popitem', 'setdefault', 'update', 'values']\n"
     ]
    }
   ],
   "source": [
    "from typing import Dict, Union, Optional\n",
    "\n",
    "key = Union[str, int]\n",
    "Value = Union[int, list, dict, tuple, str, set]\n",
    "\n",
    "data : Dict[key, Value] = {\"fname\": \"Shaukat Ali\",\n",
    "                         \"name\": \"Muhammad Hassaan\",\n",
    "                         \"education\": \"Inter in Computer Science\",\n",
    "                        \n",
    "                         }\n",
    "\n",
    "    \n",
    "print(\"Before\", data)\n",
    "data.clear()\n",
    "print(\"After\", data)\n",
    "methods : list[str] = [m for m in dir(data) if \"__\" not in m]\n",
    "print(methods)"
   ]
  },
  {
   "cell_type": "code",
   "execution_count": 7,
   "metadata": {},
   "outputs": [
    {
     "name": "stdout",
     "output_type": "stream",
     "text": [
      "Before {'fname': 'Shaukat Ali', 'name': 'Muhammad Hassaan', 'education': 'Inter in Computer Science'}\n"
     ]
    },
    {
     "ename": "NameError",
     "evalue": "name 'data' is not defined",
     "output_type": "error",
     "traceback": [
      "\u001b[1;31m---------------------------------------------------------------------------\u001b[0m",
      "\u001b[1;31mNameError\u001b[0m                                 Traceback (most recent call last)",
      "\u001b[1;32mc:\\Users\\Muhammad Hassaan\\Desktop\\Projects\\Python\\classes\\class-8\\class8.ipynb Cell 3\u001b[0m line \u001b[0;36m1\n\u001b[0;32m     <a href='vscode-notebook-cell:/c%3A/Users/Muhammad%20Hassaan/Desktop/Projects/Python/classes/class-8/class8.ipynb#W2sZmlsZQ%3D%3D?line=12'>13</a>\u001b[0m \u001b[39mprint\u001b[39m(\u001b[39m\"\u001b[39m\u001b[39mBefore\u001b[39m\u001b[39m\"\u001b[39m, data)\n\u001b[0;32m     <a href='vscode-notebook-cell:/c%3A/Users/Muhammad%20Hassaan/Desktop/Projects/Python/classes/class-8/class8.ipynb#W2sZmlsZQ%3D%3D?line=13'>14</a>\u001b[0m \u001b[39mdel\u001b[39;00m data\n\u001b[1;32m---> <a href='vscode-notebook-cell:/c%3A/Users/Muhammad%20Hassaan/Desktop/Projects/Python/classes/class-8/class8.ipynb#W2sZmlsZQ%3D%3D?line=14'>15</a>\u001b[0m \u001b[39mprint\u001b[39m(\u001b[39m\"\u001b[39m\u001b[39mAfter\u001b[39m\u001b[39m\"\u001b[39m, data)\n\u001b[0;32m     <a href='vscode-notebook-cell:/c%3A/Users/Muhammad%20Hassaan/Desktop/Projects/Python/classes/class-8/class8.ipynb#W2sZmlsZQ%3D%3D?line=15'>16</a>\u001b[0m methods : \u001b[39mlist\u001b[39m[\u001b[39mstr\u001b[39m] \u001b[39m=\u001b[39m [m \u001b[39mfor\u001b[39;00m m \u001b[39min\u001b[39;00m \u001b[39mdir\u001b[39m(data) \u001b[39mif\u001b[39;00m \u001b[39m\"\u001b[39m\u001b[39m__\u001b[39m\u001b[39m\"\u001b[39m \u001b[39mnot\u001b[39;00m \u001b[39min\u001b[39;00m m]\n\u001b[0;32m     <a href='vscode-notebook-cell:/c%3A/Users/Muhammad%20Hassaan/Desktop/Projects/Python/classes/class-8/class8.ipynb#W2sZmlsZQ%3D%3D?line=16'>17</a>\u001b[0m \u001b[39mprint\u001b[39m(methods)\n",
      "\u001b[1;31mNameError\u001b[0m: name 'data' is not defined"
     ]
    }
   ],
   "source": [
    "from typing import Dict, Union, Optional\n",
    "\n",
    "key = Union[str, int]\n",
    "Value = Union[int, list, dict, tuple, str, set]\n",
    "\n",
    "data : Dict[key, Value] = {\"fname\": \"Shaukat Ali\",\n",
    "                         \"name\": \"Muhammad Hassaan\",\n",
    "                         \"education\": \"Inter in Computer Science\",\n",
    "                        \n",
    "                         }\n",
    "\n",
    "    \n",
    "print(\"Before\", data)\n",
    "\n",
    "del data\n",
    "# It will show error beacause there is no object present\n",
    "print(\"After\", data)\n",
    "methods : list[str] = [m for m in dir(data) if \"__\" not in m]\n",
    "print(methods)"
   ]
  },
  {
   "cell_type": "code",
   "execution_count": 12,
   "metadata": {},
   "outputs": [
    {
     "name": "stdout",
     "output_type": "stream",
     "text": [
      "Before {'fname': 'Shaukat Ali', 'name': 'Muhammad Hassaan', 'education': 'Inter in Computer Science'}\n",
      "After {'fname': 'Shaukat Ali', 'name': 'Muhammad Hassaan'}\n"
     ]
    }
   ],
   "source": [
    "from typing import Dict, Union, Optional\n",
    "\n",
    "key = Union[str, int]\n",
    "Value = Union[int, list, dict, tuple, str, set]\n",
    "\n",
    "data : Dict[key, Value] = {\"fname\": \"Shaukat Ali\",\n",
    "                         \"name\": \"Muhammad Hassaan\",\n",
    "                         \"education\": \"Inter in Computer Science\",\n",
    "                        \n",
    "                         }\n",
    "\n",
    "    \n",
    "print(\"Before\", data)\n",
    "\n",
    "a : str = data.pop(\"education\")\n",
    "# It will show error beacause there is no object present\n",
    "\n",
    "print(\"After\", data)\n"
   ]
  },
  {
   "cell_type": "code",
   "execution_count": 14,
   "metadata": {},
   "outputs": [
    {
     "name": "stdout",
     "output_type": "stream",
     "text": [
      "Before {'fname': 'Shaukat Ali', 'name': 'Muhammad Hassaan', 'education': 'Inter in Computer Science'}\n",
      "('education', 'Inter in Computer Science')\n",
      "After {'fname': 'Shaukat Ali', 'name': 'Muhammad Hassaan'}\n"
     ]
    }
   ],
   "source": [
    "from typing import Dict, Union, Optional\n",
    "\n",
    "key = Union[str, int]\n",
    "Value = Union[int, list, dict, tuple, str, set]\n",
    "\n",
    "data : Dict[key, Value] = {\"fname\": \"Shaukat Ali\",\n",
    "                         \"name\": \"Muhammad Hassaan\",\n",
    "                         \"education\": \"Inter in Computer Science\",\n",
    "                        \n",
    "                         }\n",
    "\n",
    "    \n",
    "print(\"Before\", data)\n",
    "\n",
    "a : str = data.popitem()\n",
    "print(a)\n",
    "\n",
    "print(\"After\", data)\n"
   ]
  },
  {
   "cell_type": "code",
   "execution_count": 15,
   "metadata": {},
   "outputs": [
    {
     "name": "stdout",
     "output_type": "stream",
     "text": [
      "Before {'fname': 'Shaukat Ali', 'name': 'Muhammad Hassaan', 'education': 'Inter in Computer Science'}\n",
      "NA\n",
      "After {'fname': 'Shaukat Ali', 'name': 'Muhammad Hassaan', 'education': 'Inter in Computer Science'}\n"
     ]
    }
   ],
   "source": [
    "from typing import Dict, Union, Optional\n",
    "\n",
    "key = Union[str, int]\n",
    "Value = Union[int, list, dict, tuple, str, set]\n",
    "\n",
    "data : Dict[key, Value] = {\"fname\": \"Shaukat Ali\",\n",
    "                         \"name\": \"Muhammad Hassaan\",\n",
    "                         \"education\": \"Inter in Computer Science\",\n",
    "                        \n",
    "                         }\n",
    "\n",
    "    \n",
    "print(\"Before\", data)\n",
    "\n",
    "a : str = data.get(\"Pakistan\", \"NA\")\n",
    "print(a)\n",
    "\n",
    "print(\"After\", data)\n"
   ]
  },
  {
   "cell_type": "code",
   "execution_count": 16,
   "metadata": {},
   "outputs": [
    {
     "name": "stdout",
     "output_type": "stream",
     "text": [
      "Before {'fname': 'Shaukat Ali', 'name': 'Muhammad Hassaan', 'education': 'Inter in Computer Science'}\n",
      "NA\n",
      "After {'fname': 'Shaukat Ali', 'name': 'Muhammad Hassaan', 'education': 'Inter in Computer Science', 'Pakistan': 'NA'}\n"
     ]
    }
   ],
   "source": [
    "from typing import Dict, Union, Optional\n",
    "\n",
    "key = Union[str, int]\n",
    "Value = Union[int, list, dict, tuple, str, set]\n",
    "\n",
    "data : Dict[key, Value] = {\"fname\": \"Shaukat Ali\",\n",
    "                         \"name\": \"Muhammad Hassaan\",\n",
    "                         \"education\": \"Inter in Computer Science\",\n",
    "                        \n",
    "                         }\n",
    "\n",
    "    \n",
    "print(\"Before\", data)\n",
    "\n",
    "a : str = data.setdefault(\"Pakistan\", \"NA\") # Set defeault adds the value\n",
    "print(a)\n",
    "\n",
    "print(\"After\", data)"
   ]
  },
  {
   "cell_type": "code",
   "execution_count": 18,
   "metadata": {},
   "outputs": [
    {
     "name": "stdout",
     "output_type": "stream",
     "text": [
      "{'fname': 'Shaukat Ali', 'name': 'M.Hassaan Shaukat', 'education': 'Inter in Computer Science', 'age': 30, 'Height': '6-Feet'}\n"
     ]
    }
   ],
   "source": [
    "from typing import Dict, Union, Optional\n",
    "\n",
    "key = Union[str, int]\n",
    "Value = Union[int, list, dict, tuple, str, set]\n",
    "\n",
    "data : Dict[key, Value] = {\"fname\": \"Shaukat Ali\",\n",
    "                         \"name\": \"Muhammad Hassaan\",\n",
    "                         \"education\": \"Inter in Computer Science\",\n",
    "                        \n",
    "                         }\n",
    "\n",
    "data1 : Dict[key, Value] = {\"name\": \"M.Hassaan Shaukat\",\n",
    "                            \"age\": 30,\n",
    "                            \"Height\": \"6-Feet\"}\n",
    "\n",
    "data.update(data1)\n",
    "\n",
    "print(data)\n",
    "   "
   ]
  },
  {
   "cell_type": "code",
   "execution_count": 20,
   "metadata": {},
   "outputs": [
    {
     "data": {
      "text/html": [
       "<div>\n",
       "<style scoped>\n",
       "    .dataframe tbody tr th:only-of-type {\n",
       "        vertical-align: middle;\n",
       "    }\n",
       "\n",
       "    .dataframe tbody tr th {\n",
       "        vertical-align: top;\n",
       "    }\n",
       "\n",
       "    .dataframe thead th {\n",
       "        text-align: right;\n",
       "    }\n",
       "</style>\n",
       "<table border=\"1\" class=\"dataframe\">\n",
       "  <thead>\n",
       "    <tr style=\"text-align: right;\">\n",
       "      <th></th>\n",
       "      <th>roll no</th>\n",
       "      <th>Name</th>\n",
       "      <th>Education</th>\n",
       "    </tr>\n",
       "  </thead>\n",
       "  <tbody>\n",
       "    <tr>\n",
       "      <th>0</th>\n",
       "      <td>1</td>\n",
       "      <td>Sir Zia</td>\n",
       "      <td>Master</td>\n",
       "    </tr>\n",
       "    <tr>\n",
       "      <th>1</th>\n",
       "      <td>2</td>\n",
       "      <td>Sir Inam</td>\n",
       "      <td>Master</td>\n",
       "    </tr>\n",
       "    <tr>\n",
       "      <th>2</th>\n",
       "      <td>3</td>\n",
       "      <td>Sir Qasim</td>\n",
       "      <td>Master</td>\n",
       "    </tr>\n",
       "  </tbody>\n",
       "</table>\n",
       "</div>"
      ],
      "text/plain": [
       "   roll no       Name Education\n",
       "0        1    Sir Zia    Master\n",
       "1        2   Sir Inam    Master\n",
       "2        3  Sir Qasim    Master"
      ]
     },
     "execution_count": 20,
     "metadata": {},
     "output_type": "execute_result"
    }
   ],
   "source": [
    "import pandas as pd\n",
    "from typing import Any\n",
    "\n",
    "students_data : Dict[str, list[Any]] = {\n",
    "    \"roll no\" : [1, 2, 3],\n",
    "    \"Name\" : [\"Sir Zia\", \"Sir Inam\", \"Sir Qasim\"],\n",
    "    \"Education\" : [\"Master\", \"Master\", \"Master\"]\n",
    "}\n",
    "\n",
    "df : pd.DataFrame = pd.DataFrame(students_data)\n",
    "\n",
    "df"
   ]
  },
  {
   "cell_type": "code",
   "execution_count": 21,
   "metadata": {},
   "outputs": [
    {
     "name": "stdout",
     "output_type": "stream",
     "text": [
      "{'fname': 'Shaukat Ali', 'name': 'M.Hassaan Shaukat', 'education': 'Inter in Computer Science'}\n"
     ]
    }
   ],
   "source": [
    "from typing import Dict, Union, Optional\n",
    "\n",
    "key = Union[str, int]\n",
    "Value = Union[int, list, dict, tuple, str, set]\n",
    "\n",
    "data : Dict[key, Value] = {\"fname\": \"Shaukat Ali\",\n",
    "                         \"name\": \"Muhammad Hassaan\",\n",
    "                         \"education\": \"Inter in Computer Science\",\n",
    "                        \"name\" : \"M.Hassaan Shaukat\"\n",
    "                         }\n",
    "\n",
    "print(data)"
   ]
  },
  {
   "cell_type": "code",
   "execution_count": null,
   "metadata": {},
   "outputs": [],
   "source": []
  }
 ],
 "metadata": {
  "kernelspec": {
   "display_name": "python13",
   "language": "python",
   "name": "python3"
  },
  "language_info": {
   "codemirror_mode": {
    "name": "ipython",
    "version": 3
   },
   "file_extension": ".py",
   "mimetype": "text/x-python",
   "name": "python",
   "nbconvert_exporter": "python",
   "pygments_lexer": "ipython3",
   "version": "3.12.0"
  }
 },
 "nbformat": 4,
 "nbformat_minor": 2
}
