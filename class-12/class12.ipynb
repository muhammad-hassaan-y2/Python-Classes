{
 "cells": [
  {
   "cell_type": "markdown",
   "metadata": {},
   "source": [
    "# Error Handling\n",
    "\n",
    "# File Handling\n",
    "\n",
    "## Creating Our Own Errors Class\n"
   ]
  },
  {
   "cell_type": "code",
   "execution_count": 28,
   "metadata": {},
   "outputs": [
    {
     "name": "stdout",
     "output_type": "stream",
     "text": [
      "Logic-1\n",
      "Logic-2\n",
      "2.5\n",
      "Zero Division Error\n",
      "Logic-4\n",
      "Logic-5\n"
     ]
    }
   ],
   "source": [
    "print(\"Logic-1\")\n",
    "print(\"Logic-2\")\n",
    "\n",
    "l1 : list[int] = [1, 2, 3]\n",
    "\n",
    "try:\n",
    "    print(5/2)\n",
    "    print(l1[300])\n",
    "    print(xyz) # Error\n",
    "\n",
    "except (ZeroDivisionError, IndexError, NameError):\n",
    "     print(\"Zero Division Error\")\n",
    "\n",
    "print(\"Logic-4\")\n",
    "print(\"Logic-5\")\n",
    "         "
   ]
  },
  {
   "cell_type": "code",
   "execution_count": 29,
   "metadata": {},
   "outputs": [
    {
     "name": "stdout",
     "output_type": "stream",
     "text": [
      "Logic-1 \n",
      "\n",
      "Logic-2 \n",
      "\n",
      "  \t Zero Division Error\n",
      "Logic-4 \n",
      "\n",
      "Logic-5 \n",
      "\n"
     ]
    }
   ],
   "source": [
    "print(\"Logic-1 \\n\")\n",
    "print(\"Logic-2 \\n\")\n",
    "\n",
    "l1 : list[int] = [1, 2, 3]\n",
    "\n",
    "try:\n",
    "    print(5/0)\n",
    "    print(l1[300,b])\n",
    "    print(xyz) # Error\n",
    "\n",
    "except (ZeroDivisionError):\n",
    "     print(\"  \\t Zero Division Error\")\n",
    "except IndexError:\n",
    "    print(\" \\t \\t Index Error\")\n",
    "except NameError:\n",
    "    print(\"Name Not Defined \\n\")\n",
    "except:\n",
    "    print(\"Some Thing is Wrong\")\n",
    "\n",
    "print(\"Logic-4 \\n\")\n",
    "print(\"Logic-5 \\n\")\n",
    "         "
   ]
  },
  {
   "cell_type": "code",
   "execution_count": 30,
   "metadata": {},
   "outputs": [
    {
     "name": "stdout",
     "output_type": "stream",
     "text": [
      "Logic-1 \n",
      "\n",
      "Logic-2 \n",
      "\n",
      "Some Thing is Wrong \n",
      "\n",
      "Logic-4 \n",
      "\n",
      "Logic-5 \n",
      "\n"
     ]
    }
   ],
   "source": [
    "print(\"Logic-1 \\n\")\n",
    "print(\"Logic-2 \\n\")\n",
    "\n",
    "l1 : list[int] = [1, 2, 3]\n",
    "\n",
    "try:\n",
    "    print(5/0)\n",
    "    print(l1[300,b])\n",
    "    print(xyz) # Error\n",
    "\n",
    "\n",
    "except:\n",
    "    print(\"Some Thing is Wrong \\n\")\n",
    "\n",
    "print(\"Logic-4 \\n\")\n",
    "print(\"Logic-5 \\n\")"
   ]
  },
  {
   "cell_type": "code",
   "execution_count": 31,
   "metadata": {},
   "outputs": [
    {
     "name": "stdout",
     "output_type": "stream",
     "text": [
      "Something is wrong! \n",
      " name 'age' is not defined\n"
     ]
    }
   ],
   "source": [
    "# To dynamically Generate the error\n",
    "try:\n",
    "    print(age)\n",
    "except Exception as e:\n",
    "    print(f\"Something is wrong! \\n {e}\")"
   ]
  },
  {
   "cell_type": "code",
   "execution_count": 32,
   "metadata": {},
   "outputs": [
    {
     "name": "stdout",
     "output_type": "stream",
     "text": [
      "Enter the Correct Information: \t list index out of range\n"
     ]
    }
   ],
   "source": [
    "try:\n",
    "    print(l1[2333])\n",
    "except Exception as e:\n",
    "    print(f\"Enter the Correct Information: \\t {e}\")"
   ]
  },
  {
   "cell_type": "code",
   "execution_count": null,
   "metadata": {},
   "outputs": [],
   "source": []
  },
  {
   "cell_type": "code",
   "execution_count": 33,
   "metadata": {},
   "outputs": [
    {
     "name": "stdout",
     "output_type": "stream",
     "text": [
      "Muhammad Hassaan 1 20\n",
      "Muhammad Hassaan 2 31\n",
      "Muhammad Hassaan 3 42\n"
     ]
    }
   ],
   "source": [
    "class StudentCard():\n",
    "     def __init__(self, roll_no : int, name : str, age : int) -> None:\n",
    "         if age < 18 or age > 60:\n",
    "             raise StudentAgeError(\"You are not Eligible for this Program!\")\n",
    "         self.roll_no = roll_no\n",
    "         self.name =  name\n",
    "         self.age = age\n",
    "         \n",
    "class StudentAgeError(Exception) : # Custom Error Class   \n",
    "    pass\n",
    "\n",
    "student1 = StudentCard(1, \"Muhammad Hassaan\", 20)\n",
    "student2 = StudentCard(2, \"Muhammad Hassaan\", 31)\n",
    "student3 = StudentCard(3, \"Muhammad Hassaan\", 42)\n",
    "\n",
    "print(student1.name, student1.roll_no, student1.age)\n",
    "print(student2.name, student2.roll_no, student2.age)\n",
    "print(student3.name, student3.roll_no, student3.age)"
   ]
  },
  {
   "cell_type": "code",
   "execution_count": 34,
   "metadata": {},
   "outputs": [
    {
     "ename": "StudentAgeError",
     "evalue": "You are not Eligible for this Program!",
     "output_type": "error",
     "traceback": [
      "\u001b[1;31m---------------------------------------------------------------------------\u001b[0m",
      "\u001b[1;31mStudentAgeError\u001b[0m                           Traceback (most recent call last)",
      "\u001b[1;32mf:\\Projects\\Python\\Classes\\class-12\\class12.ipynb Cell 9\u001b[0m line \u001b[0;36m1\n\u001b[1;32m----> <a href='vscode-notebook-cell:/f%3A/Projects/Python/Classes/class-12/class12.ipynb#X11sZmlsZQ%3D%3D?line=0'>1</a>\u001b[0m student1 \u001b[39m=\u001b[39m StudentCard(\u001b[39m1\u001b[39;49m, \u001b[39m\"\u001b[39;49m\u001b[39mMuhammad \u001b[39;49m\u001b[39m\"\u001b[39;49m, \u001b[39m305\u001b[39;49m)\n\u001b[0;32m      <a href='vscode-notebook-cell:/f%3A/Projects/Python/Classes/class-12/class12.ipynb#X11sZmlsZQ%3D%3D?line=2'>3</a>\u001b[0m \u001b[39mprint\u001b[39m(student1\u001b[39m.\u001b[39mname, student1\u001b[39m.\u001b[39mroll_no, student1\u001b[39m.\u001b[39mage)\n",
      "\u001b[1;32mf:\\Projects\\Python\\Classes\\class-12\\class12.ipynb Cell 9\u001b[0m line \u001b[0;36m4\n\u001b[0;32m      <a href='vscode-notebook-cell:/f%3A/Projects/Python/Classes/class-12/class12.ipynb#X11sZmlsZQ%3D%3D?line=1'>2</a>\u001b[0m \u001b[39mdef\u001b[39;00m \u001b[39m__init__\u001b[39m(\u001b[39mself\u001b[39m, roll_no : \u001b[39mint\u001b[39m, name : \u001b[39mstr\u001b[39m, age : \u001b[39mint\u001b[39m) \u001b[39m-\u001b[39m\u001b[39m>\u001b[39m \u001b[39mNone\u001b[39;00m:\n\u001b[0;32m      <a href='vscode-notebook-cell:/f%3A/Projects/Python/Classes/class-12/class12.ipynb#X11sZmlsZQ%3D%3D?line=2'>3</a>\u001b[0m     \u001b[39mif\u001b[39;00m age \u001b[39m<\u001b[39m \u001b[39m18\u001b[39m \u001b[39mor\u001b[39;00m age \u001b[39m>\u001b[39m \u001b[39m60\u001b[39m:\n\u001b[1;32m----> <a href='vscode-notebook-cell:/f%3A/Projects/Python/Classes/class-12/class12.ipynb#X11sZmlsZQ%3D%3D?line=3'>4</a>\u001b[0m         \u001b[39mraise\u001b[39;00m StudentAgeError(\u001b[39m\"\u001b[39m\u001b[39mYou are not Eligible for this Program!\u001b[39m\u001b[39m\"\u001b[39m)\n\u001b[0;32m      <a href='vscode-notebook-cell:/f%3A/Projects/Python/Classes/class-12/class12.ipynb#X11sZmlsZQ%3D%3D?line=4'>5</a>\u001b[0m     \u001b[39mself\u001b[39m\u001b[39m.\u001b[39mroll_no \u001b[39m=\u001b[39m roll_no\n\u001b[0;32m      <a href='vscode-notebook-cell:/f%3A/Projects/Python/Classes/class-12/class12.ipynb#X11sZmlsZQ%3D%3D?line=5'>6</a>\u001b[0m     \u001b[39mself\u001b[39m\u001b[39m.\u001b[39mname \u001b[39m=\u001b[39m  name\n",
      "\u001b[1;31mStudentAgeError\u001b[0m: You are not Eligible for this Program!"
     ]
    }
   ],
   "source": [
    "student1 = StudentCard(1, \"Muhammad \", 305)\n",
    "\n",
    "print(student1.name, student1.roll_no, student1.age)"
   ]
  },
  {
   "cell_type": "markdown",
   "metadata": {},
   "source": [
    "# File Handling"
   ]
  },
  {
   "cell_type": "markdown",
   "metadata": {},
   "source": [
    "https://www.geeksforgeeks.org/reading-writing-text-files-python/\n",
    "\n",
    "<img src='https://net-informations.com/python/file/img/modes.png'>"
   ]
  },
  {
   "cell_type": "code",
   "execution_count": null,
   "metadata": {},
   "outputs": [
    {
     "data": {
      "text/plain": [
       "<_io.TextIOWrapper name='./abc.txt' mode='r' encoding='cp1252'>"
      ]
     },
     "execution_count": 15,
     "metadata": {},
     "output_type": "execute_result"
    }
   ],
   "source": [
    "# Here it opens the file \n",
    "open('./abc.txt')"
   ]
  },
  {
   "cell_type": "code",
   "execution_count": null,
   "metadata": {},
   "outputs": [
    {
     "data": {
      "text/plain": [
       "<_io.TextIOWrapper name='./abc.txt' mode='r' encoding='cp1252'>"
      ]
     },
     "execution_count": 17,
     "metadata": {},
     "output_type": "execute_result"
    }
   ],
   "source": [
    "data = open(\"./abc.txt\")\n",
    "data"
   ]
  },
  {
   "cell_type": "code",
   "execution_count": null,
   "metadata": {},
   "outputs": [
    {
     "data": {
      "text/plain": [
       "['_CHUNK_SIZE',\n",
       " '_checkClosed',\n",
       " '_checkReadable',\n",
       " '_checkSeekable',\n",
       " '_checkWritable',\n",
       " '_finalizing',\n",
       " 'buffer',\n",
       " 'close',\n",
       " 'closed',\n",
       " 'detach',\n",
       " 'encoding',\n",
       " 'errors',\n",
       " 'fileno',\n",
       " 'flush',\n",
       " 'isatty',\n",
       " 'line_buffering',\n",
       " 'mode',\n",
       " 'name',\n",
       " 'newlines',\n",
       " 'read',\n",
       " 'readable',\n",
       " 'readline',\n",
       " 'readlines',\n",
       " 'reconfigure',\n",
       " 'seek',\n",
       " 'seekable',\n",
       " 'tell',\n",
       " 'truncate',\n",
       " 'writable',\n",
       " 'write',\n",
       " 'write_through',\n",
       " 'writelines']"
      ]
     },
     "execution_count": 18,
     "metadata": {},
     "output_type": "execute_result"
    }
   ],
   "source": [
    "[i for i in dir(data) if \"__\" not in i]"
   ]
  },
  {
   "cell_type": "code",
   "execution_count": null,
   "metadata": {},
   "outputs": [
    {
     "data": {
      "text/plain": [
       "_io.TextIOWrapper"
      ]
     },
     "execution_count": 19,
     "metadata": {},
     "output_type": "execute_result"
    }
   ],
   "source": [
    "type(data)"
   ]
  },
  {
   "cell_type": "code",
   "execution_count": null,
   "metadata": {},
   "outputs": [
    {
     "name": "stdout",
     "output_type": "stream",
     "text": [
      "line-1\n",
      "line-2\n",
      "line-3\n",
      "line-4\n",
      "line-5\n"
     ]
    }
   ],
   "source": [
    "# Here its start reding the file\n",
    "\n",
    "from typing import TextIO\n",
    "\n",
    "data : TextIO = open(\"./abc.txt\") # Connectivity with abc.txt file\n",
    "print(data.read())\n",
    "\n",
    "\n"
   ]
  },
  {
   "cell_type": "code",
   "execution_count": null,
   "metadata": {},
   "outputs": [
    {
     "name": "stdout",
     "output_type": "stream",
     "text": [
      "line-1\n",
      "line-2\n",
      "line-3\n",
      "line-4\n",
      "line-5\n"
     ]
    }
   ],
   "source": [
    "from typing import TextIO\n",
    "\n",
    "data : TextIO = open(\"./abc.txt\") # Connectivity with abc.txt file\n",
    "print(data.read())\n",
    "\n",
    "data.close() # Close connectivity"
   ]
  },
  {
   "cell_type": "code",
   "execution_count": null,
   "metadata": {},
   "outputs": [
    {
     "name": "stdout",
     "output_type": "stream",
     "text": [
      "<class '_io.TextIOWrapper'>\n",
      "line-1\n",
      "line-2\n",
      "line-3\n",
      "line-4\n",
      "line-5\n",
      "Pakistan Zindabad\n"
     ]
    }
   ],
   "source": [
    "# Here it will connect and close the file automatically\n",
    "\n",
    "with open('./abc.txt') as file:\n",
    "    print(type(file))\n",
    "    print(file.read())\n",
    "    \n",
    "print(\"Pakistan Zindabad\")"
   ]
  },
  {
   "cell_type": "code",
   "execution_count": null,
   "metadata": {},
   "outputs": [
    {
     "name": "stdout",
     "output_type": "stream",
     "text": [
      "<class '_io.TextIOWrapper'>\n",
      "line-1\n",
      "line-2\n",
      "Pakistan Zindabad\n"
     ]
    }
   ],
   "source": [
    "# Here it will connect and close the file automatically\n",
    "\n",
    "with open('./abc.txt') as file:\n",
    "    print(type(file))\n",
    "    print(file.readline(), end=\"\") # Read Only One Line (first line)\n",
    "    print(file.readline(), end=\"\") # Read Only One Line (first line)\n",
    "    \n",
    "print(\"Pakistan Zindabad\")"
   ]
  },
  {
   "cell_type": "code",
   "execution_count": null,
   "metadata": {},
   "outputs": [
    {
     "name": "stdout",
     "output_type": "stream",
     "text": [
      "<class '_io.TextIOWrapper'>\n",
      "['line-1\\n', 'line-2\\n', 'line-3\\n', 'line-4\\n', 'line-5']\n"
     ]
    }
   ],
   "source": [
    "# Here it will connect and close the file automatically\n",
    "\n",
    "with open('./abc.txt') as file:\n",
    "    print(type(file))\n",
    "    print(file.readlines()) # Read all lines\n",
    "    "
   ]
  },
  {
   "cell_type": "code",
   "execution_count": null,
   "metadata": {},
   "outputs": [
    {
     "name": "stdout",
     "output_type": "stream",
     "text": [
      "<class '_io.TextIOWrapper'>\n",
      "['line-1\\n', 'line-2\\n', 'line-3\\n', 'line-4\\n', 'line-5']\n"
     ]
    }
   ],
   "source": [
    "# Here it will connect and close the file automatically\n",
    "\n",
    "with open('./abc.txt') as file:\n",
    "    print(type(file))\n",
    "    print(file.readlines() [:5]) # Read lines with the given number"
   ]
  },
  {
   "cell_type": "code",
   "execution_count": null,
   "metadata": {},
   "outputs": [
    {
     "name": "stdout",
     "output_type": "stream",
     "text": [
      "<class '_io.TextIOWrapper'>\n",
      "['line-1\\n', 'line-2\\n', 'line-3\\n', 'line-4\\n', 'line-5']\n"
     ]
    }
   ],
   "source": [
    "with open('./abc.txt', 'r') as file:\n",
    "    print(type(file))\n",
    "    print(file.readlines() [:5])"
   ]
  },
  {
   "cell_type": "markdown",
   "metadata": {},
   "source": [
    "### WRITING"
   ]
  },
  {
   "cell_type": "code",
   "execution_count": null,
   "metadata": {},
   "outputs": [
    {
     "name": "stdout",
     "output_type": "stream",
     "text": [
      "line-1\n",
      "line-2\n",
      "line-3\n",
      "line-4\n",
      "line-5\n"
     ]
    },
    {
     "ename": "UnsupportedOperation",
     "evalue": "not writable",
     "output_type": "error",
     "traceback": [
      "\u001b[1;31m---------------------------------------------------------------------------\u001b[0m",
      "\u001b[1;31mUnsupportedOperation\u001b[0m                      Traceback (most recent call last)",
      "\u001b[1;32mf:\\Projects\\Python\\Classes\\class-12\\class12.ipynb Cell 24\u001b[0m line \u001b[0;36m3\n\u001b[0;32m      <a href='vscode-notebook-cell:/f%3A/Projects/Python/Classes/class-12/class12.ipynb#X34sZmlsZQ%3D%3D?line=0'>1</a>\u001b[0m \u001b[39mwith\u001b[39;00m \u001b[39mopen\u001b[39m(\u001b[39m\"\u001b[39m\u001b[39m./abc.txt\u001b[39m\u001b[39m\"\u001b[39m, \u001b[39m\"\u001b[39m\u001b[39mr\u001b[39m\u001b[39m\"\u001b[39m) \u001b[39mas\u001b[39;00m file: \u001b[39m# type: TextIO\u001b[39;00m\n\u001b[0;32m      <a href='vscode-notebook-cell:/f%3A/Projects/Python/Classes/class-12/class12.ipynb#X34sZmlsZQ%3D%3D?line=1'>2</a>\u001b[0m     \u001b[39mprint\u001b[39m(file\u001b[39m.\u001b[39mread())\n\u001b[1;32m----> <a href='vscode-notebook-cell:/f%3A/Projects/Python/Classes/class-12/class12.ipynb#X34sZmlsZQ%3D%3D?line=2'>3</a>\u001b[0m     file\u001b[39m.\u001b[39;49mwrite(\u001b[39m\"\u001b[39;49m\u001b[39mPakistan Zindabad\u001b[39;49m\u001b[39m\"\u001b[39;49m)\n",
      "\u001b[1;31mUnsupportedOperation\u001b[0m: not writable"
     ]
    }
   ],
   "source": [
    "# Using r only we can read not write\n",
    "with open(\"./abc.txt\", \"r\") as file: # type: TextIO\n",
    "    print(file.read())\n",
    "    file.write(\"Pakistan Zindabad\")"
   ]
  },
  {
   "cell_type": "code",
   "execution_count": null,
   "metadata": {},
   "outputs": [
    {
     "ename": "UnsupportedOperation",
     "evalue": "not readable",
     "output_type": "error",
     "traceback": [
      "\u001b[1;31m---------------------------------------------------------------------------\u001b[0m",
      "\u001b[1;31mUnsupportedOperation\u001b[0m                      Traceback (most recent call last)",
      "\u001b[1;32mf:\\Projects\\Python\\Classes\\class-12\\class12.ipynb Cell 25\u001b[0m line \u001b[0;36m2\n\u001b[0;32m      <a href='vscode-notebook-cell:/f%3A/Projects/Python/Classes/class-12/class12.ipynb#X35sZmlsZQ%3D%3D?line=0'>1</a>\u001b[0m \u001b[39mwith\u001b[39;00m \u001b[39mopen\u001b[39m(\u001b[39m\"\u001b[39m\u001b[39m./abc1.txt\u001b[39m\u001b[39m\"\u001b[39m, \u001b[39m\"\u001b[39m\u001b[39mw\u001b[39m\u001b[39m\"\u001b[39m) \u001b[39mas\u001b[39;00m file: \u001b[39m# type: TextIO\u001b[39;00m\n\u001b[1;32m----> <a href='vscode-notebook-cell:/f%3A/Projects/Python/Classes/class-12/class12.ipynb#X35sZmlsZQ%3D%3D?line=1'>2</a>\u001b[0m     \u001b[39mprint\u001b[39m(file\u001b[39m.\u001b[39;49mread())\n\u001b[0;32m      <a href='vscode-notebook-cell:/f%3A/Projects/Python/Classes/class-12/class12.ipynb#X35sZmlsZQ%3D%3D?line=2'>3</a>\u001b[0m     file\u001b[39m.\u001b[39mwrite(\u001b[39m\"\u001b[39m\u001b[39mPakistan Zindabad\u001b[39m\u001b[39m\"\u001b[39m)\n",
      "\u001b[1;31mUnsupportedOperation\u001b[0m: not readable"
     ]
    }
   ],
   "source": [
    "# Using w only we can write not read\n",
    "\n",
    "with open(\"./abc1.txt\", \"w\") as file: # type: TextIO\n",
    "    print(file.read())\n",
    "    file.write(\"Pakistan Zindabad\")"
   ]
  },
  {
   "cell_type": "code",
   "execution_count": 35,
   "metadata": {},
   "outputs": [],
   "source": [
    "# Here it also removes the text that it have\n",
    "\n",
    "with open(\"./abc1.txt\", \"w\") as file: # type: TextIO\n",
    "    file.write(\"Pakistan Zindabad\")"
   ]
  },
  {
   "cell_type": "code",
   "execution_count": 39,
   "metadata": {},
   "outputs": [
    {
     "name": "stdout",
     "output_type": "stream",
     "text": [
      "Pakistan ZindabadWe love our Country!\n",
      "After \n"
     ]
    }
   ],
   "source": [
    "# Here it do read write both things\n",
    "# Here After is doing that after writing it does not read it and \n",
    "# see if their is more text after what has been written\n",
    "\n",
    "with open(\"./abc1.txt\", \"r+\") as file: # type: TextIO\n",
    "    print(file.read())\n",
    "    file.write(\"We love our Country!\")\n",
    "    \n",
    "    print(\"After\",file.read())"
   ]
  },
  {
   "cell_type": "code",
   "execution_count": 40,
   "metadata": {},
   "outputs": [
    {
     "name": "stdout",
     "output_type": "stream",
     "text": [
      "Pakistan Zindabad\n",
      "After Pakistan ZindabadWe love our Country!\n"
     ]
    }
   ],
   "source": [
    "# Here it do read write both things\n",
    "# Here Seek function go to the 0 index of file\n",
    "\n",
    "with open(\"./abc1.txt\", \"r+\") as file: # type: TextIO\n",
    "    print(file.read())\n",
    "    \n",
    "    file.write(\"We love our Country!\")\n",
    "    file.seek(0)\n",
    "    \n",
    "    print(\"After\",file.read())"
   ]
  },
  {
   "cell_type": "markdown",
   "metadata": {},
   "source": [
    "# Now Change Modes"
   ]
  },
  {
   "cell_type": "code",
   "execution_count": 42,
   "metadata": {},
   "outputs": [
    {
     "ename": "FileNotFoundError",
     "evalue": "[Errno 2] No such file or directory: ' ./abc2.txt'",
     "output_type": "error",
     "traceback": [
      "\u001b[1;31m---------------------------------------------------------------------------\u001b[0m",
      "\u001b[1;31mFileNotFoundError\u001b[0m                         Traceback (most recent call last)",
      "\u001b[1;32mf:\\Projects\\Python\\Classes\\class-12\\class12.ipynb Cell 30\u001b[0m line \u001b[0;36m3\n\u001b[0;32m      <a href='vscode-notebook-cell:/f%3A/Projects/Python/Classes/class-12/class12.ipynb#X42sZmlsZQ%3D%3D?line=0'>1</a>\u001b[0m \u001b[39m# Here it is giving error because the file is not available--(Not Created)\u001b[39;00m\n\u001b[1;32m----> <a href='vscode-notebook-cell:/f%3A/Projects/Python/Classes/class-12/class12.ipynb#X42sZmlsZQ%3D%3D?line=2'>3</a>\u001b[0m \u001b[39mwith\u001b[39;00m \u001b[39mopen\u001b[39;49m(\u001b[39m\"\u001b[39;49m\u001b[39m ./abc2.txt\u001b[39;49m\u001b[39m\"\u001b[39;49m, \u001b[39m'\u001b[39;49m\u001b[39mr\u001b[39;49m\u001b[39m'\u001b[39;49m) \u001b[39mas\u001b[39;00m file: \u001b[39m# type: TextIO\u001b[39;00m\n\u001b[0;32m      <a href='vscode-notebook-cell:/f%3A/Projects/Python/Classes/class-12/class12.ipynb#X42sZmlsZQ%3D%3D?line=3'>4</a>\u001b[0m     \u001b[39mprint\u001b[39m(file\u001b[39m.\u001b[39mread())\n",
      "File \u001b[1;32m~\\AppData\\Roaming\\Python\\Python312\\site-packages\\IPython\\core\\interactiveshell.py:286\u001b[0m, in \u001b[0;36m_modified_open\u001b[1;34m(file, *args, **kwargs)\u001b[0m\n\u001b[0;32m    279\u001b[0m \u001b[39mif\u001b[39;00m file \u001b[39min\u001b[39;00m {\u001b[39m0\u001b[39m, \u001b[39m1\u001b[39m, \u001b[39m2\u001b[39m}:\n\u001b[0;32m    280\u001b[0m     \u001b[39mraise\u001b[39;00m \u001b[39mValueError\u001b[39;00m(\n\u001b[0;32m    281\u001b[0m         \u001b[39mf\u001b[39m\u001b[39m\"\u001b[39m\u001b[39mIPython won\u001b[39m\u001b[39m'\u001b[39m\u001b[39mt let you open fd=\u001b[39m\u001b[39m{\u001b[39;00mfile\u001b[39m}\u001b[39;00m\u001b[39m by default \u001b[39m\u001b[39m\"\u001b[39m\n\u001b[0;32m    282\u001b[0m         \u001b[39m\"\u001b[39m\u001b[39mas it is likely to crash IPython. If you know what you are doing, \u001b[39m\u001b[39m\"\u001b[39m\n\u001b[0;32m    283\u001b[0m         \u001b[39m\"\u001b[39m\u001b[39myou can use builtins\u001b[39m\u001b[39m'\u001b[39m\u001b[39m open.\u001b[39m\u001b[39m\"\u001b[39m\n\u001b[0;32m    284\u001b[0m     )\n\u001b[1;32m--> 286\u001b[0m \u001b[39mreturn\u001b[39;00m io_open(file, \u001b[39m*\u001b[39;49margs, \u001b[39m*\u001b[39;49m\u001b[39m*\u001b[39;49mkwargs)\n",
      "\u001b[1;31mFileNotFoundError\u001b[0m: [Errno 2] No such file or directory: ' ./abc2.txt'"
     ]
    }
   ],
   "source": [
    "# Here it is giving error because the file is not available--(Not Created)\n",
    "\n",
    "with open(\" ./abc2.txt\", 'r') as file: # type: TextIO\n",
    "    print(file.read())"
   ]
  },
  {
   "cell_type": "code",
   "execution_count": 5,
   "metadata": {},
   "outputs": [],
   "source": [
    "# Here -- w -- will create the new file \n",
    "\n",
    "with open(\"./abc2.txt\", 'w') as file: # type: TextIO\n",
    "   # print(file.read())\n",
    "   file.write(\"Pakistan\")\n",
    "   \n",
    "\n",
    "# if file exists then it overwrite the text and remove all the previous text\n",
    "# if file not exist then it will create new file"
   ]
  },
  {
   "cell_type": "code",
   "execution_count": 20,
   "metadata": {},
   "outputs": [],
   "source": [
    "# For the exception of the w we can use -- a --\n",
    "\n",
    "with open(\"./abc3.txt\", 'a') as file: # type: TextIO\n",
    "   # print(file.read())\n",
    "   file.write(\"\\t \\nPakistan Zindabad\")\n",
    "   \n",
    "   \n",
    "# Here it will not remove the previous text"
   ]
  },
  {
   "cell_type": "code",
   "execution_count": 28,
   "metadata": {},
   "outputs": [
    {
     "ename": "FileExistsError",
     "evalue": "[Errno 17] File exists: './abc4.txt'",
     "output_type": "error",
     "traceback": [
      "\u001b[1;31m---------------------------------------------------------------------------\u001b[0m",
      "\u001b[1;31mFileExistsError\u001b[0m                           Traceback (most recent call last)",
      "\u001b[1;32mf:\\Projects\\Python\\Classes\\class-12\\class12.ipynb Cell 33\u001b[0m line \u001b[0;36m3\n\u001b[0;32m      <a href='vscode-notebook-cell:/f%3A/Projects/Python/Classes/class-12/class12.ipynb#X45sZmlsZQ%3D%3D?line=0'>1</a>\u001b[0m \u001b[39m# Here -- x -- will create the new\u001b[39;00m\n\u001b[1;32m----> <a href='vscode-notebook-cell:/f%3A/Projects/Python/Classes/class-12/class12.ipynb#X45sZmlsZQ%3D%3D?line=2'>3</a>\u001b[0m \u001b[39mwith\u001b[39;00m \u001b[39mopen\u001b[39;49m(\u001b[39m\"\u001b[39;49m\u001b[39m./abc4.txt\u001b[39;49m\u001b[39m\"\u001b[39;49m, \u001b[39m'\u001b[39;49m\u001b[39mx\u001b[39;49m\u001b[39m'\u001b[39;49m) \u001b[39mas\u001b[39;00m file: \u001b[39m# type: TextIO\u001b[39;00m\n\u001b[0;32m      <a href='vscode-notebook-cell:/f%3A/Projects/Python/Classes/class-12/class12.ipynb#X45sZmlsZQ%3D%3D?line=3'>4</a>\u001b[0m    \u001b[39m# print(file.read())\u001b[39;00m\n\u001b[0;32m      <a href='vscode-notebook-cell:/f%3A/Projects/Python/Classes/class-12/class12.ipynb#X45sZmlsZQ%3D%3D?line=4'>5</a>\u001b[0m    file\u001b[39m.\u001b[39mwrite(\u001b[39m\"\u001b[39m\u001b[39m\\t\u001b[39;00m\u001b[39m \u001b[39m\u001b[39m\\n\u001b[39;00m\u001b[39mPakistan Zindabad\u001b[39m\u001b[39m\"\u001b[39m)\n\u001b[0;32m      <a href='vscode-notebook-cell:/f%3A/Projects/Python/Classes/class-12/class12.ipynb#X45sZmlsZQ%3D%3D?line=7'>8</a>\u001b[0m \u001b[39m# Here it will not remove the previous text\u001b[39;00m\n",
      "File \u001b[1;32m~\\AppData\\Roaming\\Python\\Python312\\site-packages\\IPython\\core\\interactiveshell.py:286\u001b[0m, in \u001b[0;36m_modified_open\u001b[1;34m(file, *args, **kwargs)\u001b[0m\n\u001b[0;32m    279\u001b[0m \u001b[39mif\u001b[39;00m file \u001b[39min\u001b[39;00m {\u001b[39m0\u001b[39m, \u001b[39m1\u001b[39m, \u001b[39m2\u001b[39m}:\n\u001b[0;32m    280\u001b[0m     \u001b[39mraise\u001b[39;00m \u001b[39mValueError\u001b[39;00m(\n\u001b[0;32m    281\u001b[0m         \u001b[39mf\u001b[39m\u001b[39m\"\u001b[39m\u001b[39mIPython won\u001b[39m\u001b[39m'\u001b[39m\u001b[39mt let you open fd=\u001b[39m\u001b[39m{\u001b[39;00mfile\u001b[39m}\u001b[39;00m\u001b[39m by default \u001b[39m\u001b[39m\"\u001b[39m\n\u001b[0;32m    282\u001b[0m         \u001b[39m\"\u001b[39m\u001b[39mas it is likely to crash IPython. If you know what you are doing, \u001b[39m\u001b[39m\"\u001b[39m\n\u001b[0;32m    283\u001b[0m         \u001b[39m\"\u001b[39m\u001b[39myou can use builtins\u001b[39m\u001b[39m'\u001b[39m\u001b[39m open.\u001b[39m\u001b[39m\"\u001b[39m\n\u001b[0;32m    284\u001b[0m     )\n\u001b[1;32m--> 286\u001b[0m \u001b[39mreturn\u001b[39;00m io_open(file, \u001b[39m*\u001b[39;49margs, \u001b[39m*\u001b[39;49m\u001b[39m*\u001b[39;49mkwargs)\n",
      "\u001b[1;31mFileExistsError\u001b[0m: [Errno 17] File exists: './abc4.txt'"
     ]
    }
   ],
   "source": [
    "# Here -- x -- will create the new\n",
    "\n",
    "with open(\"./abc4.txt\", 'x') as file: # type: TextIO\n",
    "   # print(file.read())\n",
    "   file.write(\"\\t \\nPakistan Zindabad\")\n",
    "   \n",
    "   \n"
   ]
  },
  {
   "cell_type": "code",
   "execution_count": 30,
   "metadata": {},
   "outputs": [
    {
     "name": "stdout",
     "output_type": "stream",
     "text": [
      "b'\\t \\r\\nPakistan Zindabad'\n"
     ]
    }
   ],
   "source": [
    "# Here -- rb+ -- will open in binary mode and can only read\n",
    "\n",
    "with open(\"./abc4.txt\", 'rb+') as file: # type: TextIO\n",
    "    print(file.read())\n",
    "  # file.write(\"\\t \\nPakistan Zindabad\")\n",
    "   \n",
    "   \n",
    "# Here it will not remove the previous text"
   ]
  },
  {
   "cell_type": "markdown",
   "metadata": {},
   "source": [
    "# Read some real world data files\n",
    "\n",
    "* images\n",
    "* csv\n",
    "* live camera"
   ]
  },
  {
   "cell_type": "code",
   "execution_count": 5,
   "metadata": {},
   "outputs": [
    {
     "data": {
      "text/html": [
       "<div>\n",
       "<style scoped>\n",
       "    .dataframe tbody tr th:only-of-type {\n",
       "        vertical-align: middle;\n",
       "    }\n",
       "\n",
       "    .dataframe tbody tr th {\n",
       "        vertical-align: top;\n",
       "    }\n",
       "\n",
       "    .dataframe thead th {\n",
       "        text-align: right;\n",
       "    }\n",
       "</style>\n",
       "<table border=\"1\" class=\"dataframe\">\n",
       "  <thead>\n",
       "    <tr style=\"text-align: right;\">\n",
       "      <th></th>\n",
       "      <th>id</th>\n",
       "      <th>name</th>\n",
       "      <th>education</th>\n",
       "    </tr>\n",
       "  </thead>\n",
       "  <tbody>\n",
       "    <tr>\n",
       "      <th>0</th>\n",
       "      <td>1</td>\n",
       "      <td>Sir Zia</td>\n",
       "      <td>PHD</td>\n",
       "    </tr>\n",
       "    <tr>\n",
       "      <th>1</th>\n",
       "      <td>2</td>\n",
       "      <td>Sir Iname</td>\n",
       "      <td>Masters</td>\n",
       "    </tr>\n",
       "    <tr>\n",
       "      <th>2</th>\n",
       "      <td>3</td>\n",
       "      <td>Sir Qasim</td>\n",
       "      <td>Msters</td>\n",
       "    </tr>\n",
       "  </tbody>\n",
       "</table>\n",
       "</div>"
      ],
      "text/plain": [
       "   id       name education\n",
       "0   1    Sir Zia       PHD\n",
       "1   2  Sir Iname   Masters\n",
       "2   3  Sir Qasim    Msters"
      ]
     },
     "execution_count": 5,
     "metadata": {},
     "output_type": "execute_result"
    }
   ],
   "source": [
    "import pandas as pd\n",
    "\n",
    "df: pd.DataFrame = pd.read_csv(\"./data.csv\")\n",
    "\n",
    "df\n"
   ]
  },
  {
   "cell_type": "code",
   "execution_count": 8,
   "metadata": {},
   "outputs": [
    {
     "name": "stdout",
     "output_type": "stream",
     "text": [
      "Requirement already satisfied: matplotlib in c:\\users\\muhammad hassaan\\miniconda3\\envs\\python14\\lib\\site-packages (3.8.1)\n",
      "Requirement already satisfied: contourpy>=1.0.1 in c:\\users\\muhammad hassaan\\miniconda3\\envs\\python14\\lib\\site-packages (from matplotlib) (1.2.0)\n",
      "Requirement already satisfied: cycler>=0.10 in c:\\users\\muhammad hassaan\\miniconda3\\envs\\python14\\lib\\site-packages (from matplotlib) (0.12.1)\n",
      "Requirement already satisfied: fonttools>=4.22.0 in c:\\users\\muhammad hassaan\\miniconda3\\envs\\python14\\lib\\site-packages (from matplotlib) (4.44.3)\n",
      "Requirement already satisfied: kiwisolver>=1.3.1 in c:\\users\\muhammad hassaan\\miniconda3\\envs\\python14\\lib\\site-packages (from matplotlib) (1.4.5)\n",
      "Requirement already satisfied: numpy<2,>=1.21 in c:\\users\\muhammad hassaan\\miniconda3\\envs\\python14\\lib\\site-packages (from matplotlib) (1.26.0)\n",
      "Requirement already satisfied: packaging>=20.0 in c:\\users\\muhammad hassaan\\appdata\\roaming\\python\\python312\\site-packages (from matplotlib) (23.2)\n",
      "Requirement already satisfied: pillow>=8 in c:\\users\\muhammad hassaan\\miniconda3\\envs\\python14\\lib\\site-packages (from matplotlib) (10.1.0)\n",
      "Requirement already satisfied: pyparsing>=2.3.1 in c:\\users\\muhammad hassaan\\miniconda3\\envs\\python14\\lib\\site-packages (from matplotlib) (3.1.1)\n",
      "Requirement already satisfied: python-dateutil>=2.7 in c:\\users\\muhammad hassaan\\appdata\\roaming\\python\\python312\\site-packages (from matplotlib) (2.8.2)\n",
      "Requirement already satisfied: six>=1.5 in c:\\users\\muhammad hassaan\\appdata\\roaming\\python\\python312\\site-packages (from python-dateutil>=2.7->matplotlib) (1.16.0)\n",
      "Note: you may need to restart the kernel to use updated packages.\n"
     ]
    }
   ],
   "source": [
    "%pip install matplotlib\n"
   ]
  },
  {
   "cell_type": "code",
   "execution_count": null,
   "metadata": {},
   "outputs": [],
   "source": [
    "import matplotlib.pyplot as plt\n",
    "import matplotlib.image as mpimg\n",
    "\n"
   ]
  }
 ],
 "metadata": {
  "kernelspec": {
   "display_name": "python14",
   "language": "python",
   "name": "python3"
  },
  "language_info": {
   "codemirror_mode": {
    "name": "ipython",
    "version": 3
   },
   "file_extension": ".py",
   "mimetype": "text/x-python",
   "name": "python",
   "nbconvert_exporter": "python",
   "pygments_lexer": "ipython3",
   "version": "3.12.0"
  }
 },
 "nbformat": 4,
 "nbformat_minor": 2
}
