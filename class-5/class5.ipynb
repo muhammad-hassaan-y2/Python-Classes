{
 "cells": [
  {
   "cell_type": "markdown",
   "metadata": {},
   "source": [
    "# List\n",
    " \n",
    " * iteration operation with loop\n",
    " * apply any operation on element"
   ]
  },
  {
   "cell_type": "code",
   "execution_count": 2,
   "metadata": {},
   "outputs": [
    {
     "name": "stdout",
     "output_type": "stream",
     "text": [
      "['Sir Zia', 'Sir Qasim', 'Dr Noman']\n"
     ]
    }
   ],
   "source": [
    "names : list[str] = [\"Sir Zia\", \"Sir Qasim\", \"Dr Noman\"]\n",
    "print(names)"
   ]
  },
  {
   "cell_type": "code",
   "execution_count": 11,
   "metadata": {},
   "outputs": [
    {
     "name": "stdout",
     "output_type": "stream",
     "text": [
      "Dr Noman\n",
      "PIAIC GEN AI Team\n",
      "\n",
      "Sir Qasim\n",
      "PIAIC GEN AI Team\n",
      "\n",
      "Sir Zia\n",
      "PIAIC GEN AI Team\n",
      "\n",
      "Pakistan Zinadabad\n"
     ]
    }
   ],
   "source": [
    "names : list[str] = [\"Sir Zia\", \"Sir Qasim\", \"Dr Noman\"]\n",
    "\n",
    "for name in names[::-1]:\n",
    "    print(name)\n",
    "    print(\"PIAIC GEN AI Team\\n\")\n",
    "    \n",
    "print(\"Pakistan Zinadabad\")    \n",
    "    "
   ]
  },
  {
   "cell_type": "code",
   "execution_count": 31,
   "metadata": {},
   "outputs": [
    {
     "name": "stdout",
     "output_type": "stream",
     "text": [
      "SrQsm 123\n",
      "SrZa 234\n",
      "SrUmn 345\n"
     ]
    }
   ],
   "source": [
    "\n",
    "data_base : list[tuple[str, str]] = [(\"Sir Qasim\", \"123\"),\n",
    "                                     (\"Sir Zia\", \"234\"),\n",
    "                                     (\"Sir Usman\", \"345\")\n",
    "                                     ]\n",
    "\n",
    "for row in data_base:\n",
    "                     user, password = row \n",
    "                     print(user[::], password)"
   ]
  },
  {
   "cell_type": "code",
   "execution_count": 37,
   "metadata": {},
   "outputs": [
    {
     "name": "stdout",
     "output_type": "stream",
     "text": [
      "Valid User\n",
      "Your data: \tSir Zia\t234\n"
     ]
    }
   ],
   "source": [
    "data_base : list[tuple[str, str]] = [(\"Sir Qasim\", \"123\"),\n",
    "                                     (\"Sir Zia\", \"234\"),\n",
    "                                     (\"Sir Usman\", \"345\")\n",
    "                                     ]\n",
    "\n",
    "input_user : str = input(\"Enter User Name: \")\n",
    "input_password : str = input(\"Enter Password: \")\n",
    "\n",
    "\n",
    "\n",
    "for row in data_base:\n",
    "                     user, password = row \n",
    "                     if input_user == user and input_password == password:\n",
    "                       print(\"Valid User\")\n",
    "                       print(\"Your data:\\t\" + input_user + \"\\t\" + input_password)\n",
    "                       break   \n",
    "else:\n",
    "     print(\"Not found || Invalid User\")"
   ]
  },
  {
   "cell_type": "code",
   "execution_count": 42,
   "metadata": {},
   "outputs": [
    {
     "name": "stdout",
     "output_type": "stream",
     "text": [
      "Your data: Sir Zia \t123\n",
      "Not found || Invalid User\n"
     ]
    }
   ],
   "source": [
    "data_base : list[tuple[str, str]] = [(\"Sir Qasim\", \"123\"),\n",
    "                                     (\"Sir Zia\", \"234\"),\n",
    "                                     (\"Sir Usman\", \"345\")\n",
    "                                     ]\n",
    "\n",
    "input_user : str = input(\"Enter User Name: \")\n",
    "input_password : str = input(\"Enter Password: \")\n",
    "print(\"Your data: \" + input_user + \" \\t\" + input_password)\n",
    "\n",
    "\n",
    "for row in data_base:\n",
    "                     user, password = row \n",
    "                     if input_user == user and input_password == password:\n",
    "                       print(\"Valid User\")\n",
    "                       \n",
    "                       break   \n",
    "else:\n",
    "     print(\"Not found || Invalid User\")"
   ]
  },
  {
   "cell_type": "markdown",
   "metadata": {},
   "source": [
    "# Indentation"
   ]
  },
  {
   "cell_type": "code",
   "execution_count": 43,
   "metadata": {},
   "outputs": [
    {
     "name": "stdout",
     "output_type": "stream",
     "text": [
      "Hello, I am Muhammad Hassaan\n"
     ]
    }
   ],
   "source": [
    "message : str = \"Hello, I am Muhammad Hassaan\"\n",
    "\n",
    "# We cannot give a single space here ok \n",
    "# print(message)\n",
    "\n",
    "print(message)"
   ]
  },
  {
   "cell_type": "code",
   "execution_count": 45,
   "metadata": {},
   "outputs": [
    {
     "name": "stdout",
     "output_type": "stream",
     "text": [
      "Alice, that was a great trick!\n",
      "I can't wait to see your next trick, Alice. \n",
      "\n",
      "David, that was a great trick!\n",
      "I can't wait to see your next trick, David. \n",
      "\n",
      "Carolina, that was a great trick!\n",
      "I can't wait to see your next trick, Carolina. \n",
      "\n",
      "Thank you, everyone that was a great show!\n"
     ]
    }
   ],
   "source": [
    "magicians : list[str] = [\"alice\", \"david\", \"carolina\"]\n",
    "\n",
    "for magician in magicians:\n",
    "     print(f\"{magician.title()}, that was a great trick!\")\n",
    "     print(f\"I can't wait to see your next trick, {magician.title()}. \\n\")\n",
    "\n",
    "print(\"Thank you, everyone that was a great show!\")\n"
   ]
  },
  {
   "cell_type": "markdown",
   "metadata": {},
   "source": [
    "# Numbers with loop\n",
    " * range(start, end, step)"
   ]
  },
  {
   "cell_type": "code",
   "execution_count": 46,
   "metadata": {},
   "outputs": [
    {
     "data": {
      "text/plain": [
       "range(0, 10)"
      ]
     },
     "execution_count": 46,
     "metadata": {},
     "output_type": "execute_result"
    }
   ],
   "source": [
    "# It is a generative function\n",
    "range(10)"
   ]
  },
  {
   "cell_type": "code",
   "execution_count": 47,
   "metadata": {},
   "outputs": [
    {
     "data": {
      "text/plain": [
       "[0, 1, 2, 3, 4, 5, 6, 7, 8, 9]"
      ]
     },
     "execution_count": 47,
     "metadata": {},
     "output_type": "execute_result"
    }
   ],
   "source": [
    "list(range(10)) # starting = 0 and ending = n-1 "
   ]
  },
  {
   "cell_type": "code",
   "execution_count": null,
   "metadata": {},
   "outputs": [],
   "source": [
    "list(range(2,10)) # starting = 2 and ending = n-1 "
   ]
  },
  {
   "cell_type": "code",
   "execution_count": 50,
   "metadata": {},
   "outputs": [
    {
     "data": {
      "text/plain": [
       "[2, 4, 6, 8, 10, 12, 14, 16, 18, 20]"
      ]
     },
     "execution_count": 50,
     "metadata": {},
     "output_type": "execute_result"
    }
   ],
   "source": [
    "list(range(2,21,2)) # Here it says start from 2 \n",
    "                    # End on 21  as we know end = n-1\n",
    "                    # The last one indicates the step \n"
   ]
  },
  {
   "cell_type": "markdown",
   "metadata": {},
   "source": [
    "# Loop with range\n"
   ]
  },
  {
   "cell_type": "code",
   "execution_count": 52,
   "metadata": {},
   "outputs": [
    {
     "name": "stdout",
     "output_type": "stream",
     "text": [
      "1\n",
      "2\n",
      "3\n",
      "4\n",
      "5\n",
      "6\n",
      "7\n",
      "8\n",
      "9\n",
      "10\n"
     ]
    }
   ],
   "source": [
    "for n in range(1,11):\n",
    "    print(n)"
   ]
  },
  {
   "cell_type": "code",
   "execution_count": 53,
   "metadata": {},
   "outputs": [
    {
     "name": "stdout",
     "output_type": "stream",
     "text": [
      "2 X 1 = 2\n",
      "2 X 2 = 4\n",
      "2 X 3 = 6\n",
      "2 X 4 = 8\n",
      "2 X 5 = 10\n",
      "2 X 6 = 12\n",
      "2 X 7 = 14\n",
      "2 X 8 = 16\n",
      "2 X 9 = 18\n",
      "2 X 10 = 20\n"
     ]
    }
   ],
   "source": [
    "for n in range(1,11):\n",
    "    print(f\"{2} X {n} = {n*2}\")"
   ]
  },
  {
   "cell_type": "code",
   "execution_count": 54,
   "metadata": {},
   "outputs": [
    {
     "name": "stdout",
     "output_type": "stream",
     "text": [
      "[1, 4, 9, 16, 25, 36, 49, 64, 81, 100]\n"
     ]
    }
   ],
   "source": [
    "squares: list[int] = []\n",
    "for value in range(1, 11):\n",
    "    square = value ** 2\n",
    "    squares.append(square)\n",
    "    \n",
    "print(squares)"
   ]
  },
  {
   "cell_type": "markdown",
   "metadata": {},
   "source": [
    "# List Comprehensive\n",
    "\n",
    "```\n",
    "for item in items_list:\n",
    "            loop_body\n",
    "```\n",
    "\n",
    "### Comprehensive Style\n",
    "\n",
    "```\n",
    "[ loop_body for item in items_list: ]\n",
    "\n",
    "```"
   ]
  },
  {
   "cell_type": "code",
   "execution_count": 55,
   "metadata": {},
   "outputs": [
    {
     "data": {
      "text/plain": [
       "[1, 2, 3, 4, 5, 6, 7, 8, 9, 10]"
      ]
     },
     "execution_count": 55,
     "metadata": {},
     "output_type": "execute_result"
    }
   ],
   "source": [
    "list(range(1,11))"
   ]
  },
  {
   "cell_type": "code",
   "execution_count": 56,
   "metadata": {},
   "outputs": [
    {
     "name": "stdout",
     "output_type": "stream",
     "text": [
      "1\n",
      "4\n",
      "9\n",
      "16\n",
      "25\n",
      "36\n",
      "49\n",
      "64\n",
      "81\n",
      "100\n"
     ]
    }
   ],
   "source": [
    "for i in range(1,11):\n",
    "    print(i**2)"
   ]
  },
  {
   "cell_type": "code",
   "execution_count": 58,
   "metadata": {},
   "outputs": [
    {
     "data": {
      "text/plain": [
       "[1, 4, 9, 16, 25, 36, 49, 64, 81, 100]"
      ]
     },
     "execution_count": 58,
     "metadata": {},
     "output_type": "execute_result"
    }
   ],
   "source": [
    "[i**2 for i in range(1,11)]\n",
    "  "
   ]
  },
  {
   "cell_type": "code",
   "execution_count": 59,
   "metadata": {},
   "outputs": [
    {
     "name": "stdout",
     "output_type": "stream",
     "text": [
      "[1, 2, 3, 4, 5, 6, 7, 8, 9, 0]\n",
      "9\n",
      "0\n",
      "45\n"
     ]
    }
   ],
   "source": [
    "digits : list[int] = [1, 2, 3, 4, 5, 6, 7, 8, 9, 0]\n",
    "\n",
    "print(digits)\n",
    "print(max(digits))\n",
    "print(min(digits))\n",
    "print(sum(digits))"
   ]
  },
  {
   "cell_type": "markdown",
   "metadata": {},
   "source": [
    "# Try it your self\n"
   ]
  },
  {
   "cell_type": "code",
   "execution_count": null,
   "metadata": {},
   "outputs": [],
   "source": []
  }
 ],
 "metadata": {
  "kernelspec": {
   "display_name": "python13",
   "language": "python",
   "name": "python3"
  },
  "language_info": {
   "codemirror_mode": {
    "name": "ipython",
    "version": 3
   },
   "file_extension": ".py",
   "mimetype": "text/x-python",
   "name": "python",
   "nbconvert_exporter": "python",
   "pygments_lexer": "ipython3",
   "version": "3.12.0"
  }
 },
 "nbformat": 4,
 "nbformat_minor": 2
}
