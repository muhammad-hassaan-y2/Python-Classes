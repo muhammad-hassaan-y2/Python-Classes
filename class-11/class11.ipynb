{
 "cells": [
  {
   "cell_type": "code",
   "execution_count": 4,
   "metadata": {},
   "outputs": [
    {
     "name": "stdout",
     "output_type": "stream",
     "text": [
      "[1, 2, 3, 4]\n",
      "[1, 2, 3, 4]\n"
     ]
    }
   ],
   "source": [
    "list_a : list[int] = [1, 2, 3] #4\n",
    "list_b : list[int] = list_a\n",
    "\n",
    "list_a.append(4)\n",
    "\n",
    "print(list_a)\n",
    "print(list_b)"
   ]
  },
  {
   "cell_type": "markdown",
   "metadata": {},
   "source": [
    "# Addressing Changes without Function Calls"
   ]
  },
  {
   "cell_type": "code",
   "execution_count": 5,
   "metadata": {},
   "outputs": [
    {
     "name": "stdout",
     "output_type": "stream",
     "text": [
      "Before Modification: 10 140717809027800\n",
      "After Modification: 11 140717809027832\n"
     ]
    }
   ],
   "source": [
    "x : int = 10\n",
    "print(\"Before Modification:\" , x, id(x))\n",
    "\n",
    "x += 1\n",
    "print(\"After Modification:\", x, id(x))"
   ]
  },
  {
   "cell_type": "code",
   "execution_count": 10,
   "metadata": {},
   "outputs": [
    {
     "name": "stdout",
     "output_type": "stream",
     "text": [
      "num1 Value is 6\n",
      "5\n"
     ]
    }
   ],
   "source": [
    "a : int = 5\n",
    "\n",
    "def six(num1 : int)->None:\n",
    "    num1 = 6 # Making a copy\n",
    "    print(f\"num1 Value is {num1}\") \n",
    "    # it will be changed only in the function\n",
    "    \n",
    "six(a) # Passing the value in the function to change it\n",
    "# IT will not change outside the function because it imutable\n",
    "\n",
    "print(a)"
   ]
  },
  {
   "cell_type": "code",
   "execution_count": 11,
   "metadata": {},
   "outputs": [
    {
     "name": "stdout",
     "output_type": "stream",
     "text": [
      "Num-1 value [1, 2, 3, 4, 5, 6]\n",
      "num1 Value is [1, 2, 3, 4, 5, 6, 80]\n",
      "[1, 2, 3, 4, 5, 6, 80]\n"
     ]
    }
   ],
   "source": [
    "a : list[int] = [1, 2, 3, 4, 5, 6]\n",
    "\n",
    "def six(num1 : list[int])->None:\n",
    "    print(f\"Num-1 value {num1}\")\n",
    "    num1.append(80) \n",
    "    print(f\"num1 Value is {num1}\") \n",
    "    # It will be changed because list is mutable\n",
    "    \n",
    "six(a) # Passing the value in the function to change it\n",
    "\n",
    "print(a)"
   ]
  },
  {
   "cell_type": "code",
   "execution_count": 21,
   "metadata": {},
   "outputs": [
    {
     "name": "stdout",
     "output_type": "stream",
     "text": [
      "Num-1 value [1, 2, 3, 4, 5, 6]\n",
      "num1 Value is [7, 80]\n",
      "[1, 2, 3, 4, 5, 6]\n"
     ]
    }
   ],
   "source": [
    "\n",
    "a : list[int] = [1, 2, 3, 4, 5, 6]\n",
    "\n",
    "def six(num1 : list[int])->None:\n",
    "    \n",
    "    print(f\"Num-1 value {num1}\")\n",
    "     \n",
    "    num1 = [7]\n",
    "\n",
    "    num1.append(80)\n",
    "     \n",
    "    print(f\"num1 Value is {num1}\") \n",
    "    \n",
    "    # It will be changed because list is mutable\n",
    "    \n",
    "six(a) # Pass by referrence (mutable data type) \n",
    "\n",
    "print(a)\n"
   ]
  },
  {
   "cell_type": "code",
   "execution_count": 20,
   "metadata": {},
   "outputs": [
    {
     "name": "stdout",
     "output_type": "stream",
     "text": [
      " X value is 10 and X address is 140709393550040 \n",
      " B value is df and B address is 1840557718000 \n",
      " B value is 200 and B address is 140709393556120 <class 'int'> \n"
     ]
    }
   ],
   "source": [
    "x : int = 10\n",
    "\n",
    "b : str = x\n",
    "\n",
    "print(f\" X value is {x} and X address is {id(x)} \")\n",
    "print(f\" B value is {b} and B address is {id(b)} \")\n",
    "\n",
    "b = 200\n",
    "\n",
    "print(f\" B value is {b} and B address is {id(b)} {type(b)} \")"
   ]
  },
  {
   "cell_type": "markdown",
   "metadata": {},
   "source": [
    "# Run Time Error"
   ]
  },
  {
   "cell_type": "code",
   "execution_count": 23,
   "metadata": {},
   "outputs": [
    {
     "ename": "ValueError",
     "evalue": "invalid literal for int() with base 10: 'd'",
     "output_type": "error",
     "traceback": [
      "\u001b[1;31m---------------------------------------------------------------------------\u001b[0m",
      "\u001b[1;31mValueError\u001b[0m                                Traceback (most recent call last)",
      "\u001b[1;32mf:\\Projects\\Python\\Classes\\class-11\\class11.ipynb Cell 9\u001b[0m line \u001b[0;36m1\n\u001b[1;32m----> <a href='vscode-notebook-cell:/f%3A/Projects/Python/Classes/class-11/class11.ipynb#X12sZmlsZQ%3D%3D?line=0'>1</a>\u001b[0m a : \u001b[39mint\u001b[39m \u001b[39m=\u001b[39m \u001b[39mint\u001b[39;49m(\u001b[39minput\u001b[39;49m(\u001b[39m\"\u001b[39;49m\u001b[39mEnter number 1: \u001b[39;49m\u001b[39m\\t\u001b[39;49;00m\u001b[39m\"\u001b[39;49m))\n\u001b[0;32m      <a href='vscode-notebook-cell:/f%3A/Projects/Python/Classes/class-11/class11.ipynb#X12sZmlsZQ%3D%3D?line=1'>2</a>\u001b[0m b : \u001b[39mint\u001b[39m \u001b[39m=\u001b[39m \u001b[39mint\u001b[39m(\u001b[39minput\u001b[39m(\u001b[39m\"\u001b[39m\u001b[39mEnter number 2: \u001b[39m\u001b[39m\\t\u001b[39;00m\u001b[39m\"\u001b[39m))\n\u001b[0;32m      <a href='vscode-notebook-cell:/f%3A/Projects/Python/Classes/class-11/class11.ipynb#X12sZmlsZQ%3D%3D?line=3'>4</a>\u001b[0m \u001b[39mprint\u001b[39m(a \u001b[39m+\u001b[39m b)\n",
      "\u001b[1;31mValueError\u001b[0m: invalid literal for int() with base 10: 'd'"
     ]
    }
   ],
   "source": [
    "a : int = int(input(\"Enter number 1: \\t\"))\n",
    "b : int = int(input(\"Enter number 2: \\t\"))\n",
    "\n",
    "print(a + b)"
   ]
  },
  {
   "cell_type": "code",
   "execution_count": 25,
   "metadata": {},
   "outputs": [
    {
     "ename": "IndexError",
     "evalue": "list index out of range",
     "output_type": "error",
     "traceback": [
      "\u001b[1;31m---------------------------------------------------------------------------\u001b[0m",
      "\u001b[1;31mIndexError\u001b[0m                                Traceback (most recent call last)",
      "\u001b[1;32mf:\\Projects\\Python\\Classes\\class-11\\class11.ipynb Cell 10\u001b[0m line \u001b[0;36m4\n\u001b[0;32m      <a href='vscode-notebook-cell:/f%3A/Projects/Python/Classes/class-11/class11.ipynb#X13sZmlsZQ%3D%3D?line=0'>1</a>\u001b[0m names : \u001b[39mlist\u001b[39m[\u001b[39mstr\u001b[39m] \u001b[39m=\u001b[39m [\u001b[39m'\u001b[39m\u001b[39mSir Zia\u001b[39m\u001b[39m'\u001b[39m, \u001b[39m'\u001b[39m\u001b[39mSir Qasim\u001b[39m\u001b[39m'\u001b[39m, \u001b[39m'\u001b[39m\u001b[39mMuhammad Hassaan\u001b[39m\u001b[39m'\u001b[39m]\n\u001b[0;32m      <a href='vscode-notebook-cell:/f%3A/Projects/Python/Classes/class-11/class11.ipynb#X13sZmlsZQ%3D%3D?line=2'>3</a>\u001b[0m index : \u001b[39mint\u001b[39m \u001b[39m=\u001b[39m \u001b[39mint\u001b[39m(\u001b[39minput\u001b[39m(\u001b[39m\"\u001b[39m\u001b[39mEnter your index number: \u001b[39m\u001b[39m\\t\u001b[39;00m\u001b[39m\"\u001b[39m))\n\u001b[1;32m----> <a href='vscode-notebook-cell:/f%3A/Projects/Python/Classes/class-11/class11.ipynb#X13sZmlsZQ%3D%3D?line=3'>4</a>\u001b[0m \u001b[39mprint\u001b[39m(names[index])\n",
      "\u001b[1;31mIndexError\u001b[0m: list index out of range"
     ]
    }
   ],
   "source": [
    "names : list[str] = ['Sir Zia', 'Sir Qasim', 'Muhammad Hassaan']\n",
    "\n",
    "index : int = int(input(\"Enter your index number: \\t\"))\n",
    "print(names[index])"
   ]
  },
  {
   "cell_type": "code",
   "execution_count": 26,
   "metadata": {},
   "outputs": [
    {
     "ename": "TypeError",
     "evalue": "'tuple' object does not support item assignment",
     "output_type": "error",
     "traceback": [
      "\u001b[1;31m---------------------------------------------------------------------------\u001b[0m",
      "\u001b[1;31mTypeError\u001b[0m                                 Traceback (most recent call last)",
      "\u001b[1;32mf:\\Projects\\Python\\Classes\\class-11\\class11.ipynb Cell 11\u001b[0m line \u001b[0;36m2\n\u001b[0;32m      <a href='vscode-notebook-cell:/f%3A/Projects/Python/Classes/class-11/class11.ipynb#X14sZmlsZQ%3D%3D?line=0'>1</a>\u001b[0m data : \u001b[39mtuple\u001b[39m[\u001b[39mint\u001b[39m, \u001b[39mint\u001b[39m, \u001b[39mint\u001b[39m] \u001b[39m=\u001b[39m (\u001b[39m1\u001b[39m, \u001b[39m2\u001b[39m, \u001b[39m3\u001b[39m)\n\u001b[1;32m----> <a href='vscode-notebook-cell:/f%3A/Projects/Python/Classes/class-11/class11.ipynb#X14sZmlsZQ%3D%3D?line=1'>2</a>\u001b[0m data[\u001b[39m0\u001b[39;49m] \u001b[39m=\u001b[39m \u001b[39m2000\u001b[39m\n",
      "\u001b[1;31mTypeError\u001b[0m: 'tuple' object does not support item assignment"
     ]
    }
   ],
   "source": [
    "data : tuple[int, int, int] = (1, 2, 3)\n",
    "data[0] = 2000\n"
   ]
  },
  {
   "cell_type": "code",
   "execution_count": 27,
   "metadata": {},
   "outputs": [
    {
     "ename": "TypeError",
     "evalue": "can only concatenate str (not \"int\") to str",
     "output_type": "error",
     "traceback": [
      "\u001b[1;31m---------------------------------------------------------------------------\u001b[0m",
      "\u001b[1;31mTypeError\u001b[0m                                 Traceback (most recent call last)",
      "\u001b[1;32mf:\\Projects\\Python\\Classes\\class-11\\class11.ipynb Cell 12\u001b[0m line \u001b[0;36m1\n\u001b[1;32m----> <a href='vscode-notebook-cell:/f%3A/Projects/Python/Classes/class-11/class11.ipynb#X15sZmlsZQ%3D%3D?line=0'>1</a>\u001b[0m \u001b[39m\"\u001b[39;49m\u001b[39m2\u001b[39;49m\u001b[39m\"\u001b[39;49m \u001b[39m+\u001b[39;49m \u001b[39m2\u001b[39;49m\n",
      "\u001b[1;31mTypeError\u001b[0m: can only concatenate str (not \"int\") to str"
     ]
    }
   ],
   "source": [
    "\"2\" + 2"
   ]
  },
  {
   "cell_type": "code",
   "execution_count": null,
   "metadata": {},
   "outputs": [],
   "source": [
    "data: dict[str, str] = {\n",
    "    \"name\": \"Muhammad Hassaan\",\n",
    "    \"fname\": \"Shaukat Ali\"\n",
    "}"
   ]
  },
  {
   "cell_type": "markdown",
   "metadata": {},
   "source": [
    "# Handle Run Time Error\n",
    "\n",
    "```\n",
    "try: \n",
    "    logic\n",
    "except (Error_class1, Error_class2)\n",
    "    if error occurs then run this block\n",
    "else\n",
    "    if error not occurs\n",
    "finally:\n",
    "    always run\n",
    "\n",
    "```"
   ]
  },
  {
   "cell_type": "code",
   "execution_count": 29,
   "metadata": {},
   "outputs": [
    {
     "name": "stdout",
     "output_type": "stream",
     "text": [
      "logic-1\n",
      "logic-2\n"
     ]
    },
    {
     "ename": "ZeroDivisionError",
     "evalue": "division by zero",
     "output_type": "error",
     "traceback": [
      "\u001b[1;31m---------------------------------------------------------------------------\u001b[0m",
      "\u001b[1;31mZeroDivisionError\u001b[0m                         Traceback (most recent call last)",
      "\u001b[1;32mf:\\Projects\\Python\\Classes\\class-11\\class11.ipynb Cell 15\u001b[0m line \u001b[0;36m3\n\u001b[0;32m      <a href='vscode-notebook-cell:/f%3A/Projects/Python/Classes/class-11/class11.ipynb#X23sZmlsZQ%3D%3D?line=0'>1</a>\u001b[0m \u001b[39mprint\u001b[39m(\u001b[39m'\u001b[39m\u001b[39mlogic-1\u001b[39m\u001b[39m'\u001b[39m)\n\u001b[0;32m      <a href='vscode-notebook-cell:/f%3A/Projects/Python/Classes/class-11/class11.ipynb#X23sZmlsZQ%3D%3D?line=1'>2</a>\u001b[0m \u001b[39mprint\u001b[39m(\u001b[39m'\u001b[39m\u001b[39mlogic-2\u001b[39m\u001b[39m'\u001b[39m)\n\u001b[1;32m----> <a href='vscode-notebook-cell:/f%3A/Projects/Python/Classes/class-11/class11.ipynb#X23sZmlsZQ%3D%3D?line=2'>3</a>\u001b[0m \u001b[39mprint\u001b[39m(\u001b[39m2\u001b[39;49m\u001b[39m/\u001b[39;49m\u001b[39m0\u001b[39;49m)\n\u001b[0;32m      <a href='vscode-notebook-cell:/f%3A/Projects/Python/Classes/class-11/class11.ipynb#X23sZmlsZQ%3D%3D?line=3'>4</a>\u001b[0m \u001b[39mprint\u001b[39m(\u001b[39m'\u001b[39m\u001b[39mlogic-4\u001b[39m\u001b[39m'\u001b[39m)\n\u001b[0;32m      <a href='vscode-notebook-cell:/f%3A/Projects/Python/Classes/class-11/class11.ipynb#X23sZmlsZQ%3D%3D?line=4'>5</a>\u001b[0m \u001b[39mprint\u001b[39m(\u001b[39m'\u001b[39m\u001b[39mlogic-5\u001b[39m\u001b[39m'\u001b[39m)\n",
      "\u001b[1;31mZeroDivisionError\u001b[0m: division by zero"
     ]
    }
   ],
   "source": [
    "print('logic-1')\n",
    "print('logic-2')\n",
    "print(2/0)\n",
    "print('logic-4')\n",
    "print('logic-5')\n"
   ]
  },
  {
   "cell_type": "code",
   "execution_count": 31,
   "metadata": {},
   "outputs": [
    {
     "name": "stdout",
     "output_type": "stream",
     "text": [
      "logic-1\n",
      "logic-2\n",
      "Zero Division Error\n",
      "logic-4\n",
      "logic-5\n"
     ]
    }
   ],
   "source": [
    "# Whenever you think there is an error\n",
    "# You can use Try, Except\n",
    "print('logic-1')\n",
    "print('logic-2')\n",
    "try:\n",
    "    print(2/0)\n",
    "except ZeroDivisionError: \n",
    "    print('Zero Division Error')\n",
    "print('logic-4')\n",
    "print('logic-5')"
   ]
  },
  {
   "cell_type": "code",
   "execution_count": 33,
   "metadata": {},
   "outputs": [
    {
     "ename": "IndexError",
     "evalue": "list assignment index out of range",
     "output_type": "error",
     "traceback": [
      "\u001b[1;31m---------------------------------------------------------------------------\u001b[0m",
      "\u001b[1;31mIndexError\u001b[0m                                Traceback (most recent call last)",
      "\u001b[1;32mf:\\Projects\\Python\\Classes\\class-11\\class11.ipynb Cell 17\u001b[0m line \u001b[0;36m3\n\u001b[0;32m      <a href='vscode-notebook-cell:/f%3A/Projects/Python/Classes/class-11/class11.ipynb#X25sZmlsZQ%3D%3D?line=0'>1</a>\u001b[0m l1 : \u001b[39mlist\u001b[39m[\u001b[39mint\u001b[39m] \u001b[39m=\u001b[39m [\u001b[39m1\u001b[39m, \u001b[39m2\u001b[39m, \u001b[39m3\u001b[39m]\n\u001b[1;32m----> <a href='vscode-notebook-cell:/f%3A/Projects/Python/Classes/class-11/class11.ipynb#X25sZmlsZQ%3D%3D?line=2'>3</a>\u001b[0m l1[\u001b[39m20\u001b[39;49m] \u001b[39m=\u001b[39m \u001b[39m4545\u001b[39m \n",
      "\u001b[1;31mIndexError\u001b[0m: list assignment index out of range"
     ]
    }
   ],
   "source": [
    "l1 : list[int] = [1, 2, 3]\n",
    "\n",
    "l1[20] = 4545 "
   ]
  },
  {
   "cell_type": "code",
   "execution_count": null,
   "metadata": {},
   "outputs": [],
   "source": []
  },
  {
   "cell_type": "code",
   "execution_count": 43,
   "metadata": {},
   "outputs": [
    {
     "name": "stdout",
     "output_type": "stream",
     "text": [
      " \t  \t logic-1\n",
      " \t  logic-2\n",
      " Zero Division Error \n",
      "\t \t logic-4 \n",
      " \t logic-5 \n"
     ]
    }
   ],
   "source": [
    "print(' \\t  \\t logic-1')\n",
    "print(' \\t  logic-2')\n",
    "\n",
    "l1 : list[int] = [1, 2, 3]\n",
    "\n",
    "try:\n",
    "    print(7/0) # Error Here\n",
    "    print(l1[0])\n",
    "    print(xyz) # Error Here\n",
    "    \n",
    "except (ZeroDivisionError, IndexError):\n",
    "    print(\" Zero Division Error \")\n",
    "print(\"\\t \\t logic-4 \")\n",
    "print(\" \\t logic-5 \")"
   ]
  },
  {
   "cell_type": "code",
   "execution_count": 47,
   "metadata": {},
   "outputs": [
    {
     "name": "stdout",
     "output_type": "stream",
     "text": [
      " \t  \t logic-1\n",
      " \t  logic-2\n",
      "1.4\n",
      "3\n",
      "Zero Division Error\n",
      "\t \t logic-4 \n",
      " \t logic-5 \n"
     ]
    }
   ],
   "source": [
    "print(' \\t  \\t logic-1')\n",
    "print(' \\t  logic-2')\n",
    "\n",
    "l : list[int] = [1, 2, 3]\n",
    "\n",
    "try:\n",
    "    print(7/5)\n",
    "    print(l[2])\n",
    "    print(sdd) # Error Here\n",
    "except:\n",
    "    print(\" Zero Division Error\")\n",
    "    \n",
    "print(\"\\t \\t logic-4 \")\n",
    "print(\" \\t logic-5 \")"
   ]
  }
 ],
 "metadata": {
  "kernelspec": {
   "display_name": "python13",
   "language": "python",
   "name": "python3"
  },
  "language_info": {
   "codemirror_mode": {
    "name": "ipython",
    "version": 3
   },
   "file_extension": ".py",
   "mimetype": "text/x-python",
   "name": "python",
   "nbconvert_exporter": "python",
   "pygments_lexer": "ipython3",
   "version": "3.12.0"
  }
 },
 "nbformat": 4,
 "nbformat_minor": 2
}
