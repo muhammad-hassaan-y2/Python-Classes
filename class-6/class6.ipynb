{
 "cells": [
  {
   "cell_type": "markdown",
   "metadata": {},
   "source": [
    "# IF-ELSE-ELIF\n",
    "\n",
    "```\n",
    "if logic: \n",
    "       True_Block\n",
    "else\n",
    "    False_Block\n",
    "```\n",
    "\n",
    "## Comprhensive Style\n",
    "\n",
    "```\n",
    "True_block if logic else Fale_block\n",
    "```"
   ]
  },
  {
   "cell_type": "code",
   "execution_count": 1,
   "metadata": {},
   "outputs": [
    {
     "name": "stdout",
     "output_type": "stream",
     "text": [
      "Pakistan Zindabad\n"
     ]
    }
   ],
   "source": [
    "if True:\n",
    "     print(\"Pakistan Zindabad\")\n",
    "else:\n",
    "    print(\"Hello World!\")"
   ]
  },
  {
   "cell_type": "code",
   "execution_count": 2,
   "metadata": {},
   "outputs": [
    {
     "name": "stdout",
     "output_type": "stream",
     "text": [
      "Hello World!\n"
     ]
    }
   ],
   "source": [
    "if False:\n",
    "     print(\"Pakistan Zindabad\")\n",
    "else:\n",
    "    print(\"Hello World!\")"
   ]
  },
  {
   "cell_type": "code",
   "execution_count": 3,
   "metadata": {},
   "outputs": [
    {
     "name": "stdout",
     "output_type": "stream",
     "text": [
      "Hello World!\n"
     ]
    }
   ],
   "source": [
    "print(\"Pakistan Zindabad\") if False else  print(\"Hello World!\")"
   ]
  },
  {
   "cell_type": "code",
   "execution_count": 4,
   "metadata": {},
   "outputs": [
    {
     "name": "stdout",
     "output_type": "stream",
     "text": [
      "Pakistan Zindabad\n"
     ]
    }
   ],
   "source": [
    "print(\"Pakistan Zindabad\") if True else  print(\"Hello World!\")"
   ]
  },
  {
   "cell_type": "markdown",
   "metadata": {},
   "source": [
    "# Compression Operator\n",
    "\n",
    "*  (==)\n",
    "*  (>=)\n",
    "* (<=)\n",
    "* (!=)\n",
    "\n",
    "## logic\n",
    "\n",
    " * and\n",
    " * or\n",
    " * not\n",
    " "
   ]
  },
  {
   "cell_type": "code",
   "execution_count": 5,
   "metadata": {},
   "outputs": [
    {
     "name": "stdout",
     "output_type": "stream",
     "text": [
      "True\n"
     ]
    }
   ],
   "source": [
    "if True: \n",
    "    print(\"True\")\n",
    "elif False:\n",
    "    print(\"WOW\")\n",
    "elif True:\n",
    "    print(\"Yes! Bro\")\n",
    "else: \n",
    "    print(\"No Coding\")\n",
    "    "
   ]
  },
  {
   "cell_type": "code",
   "execution_count": 6,
   "metadata": {},
   "outputs": [
    {
     "name": "stdout",
     "output_type": "stream",
     "text": [
      "1\n",
      "2\n"
     ]
    }
   ],
   "source": [
    "if False:\n",
    "    print(\"True Pakistan\")\n",
    "    \n",
    "print(\"1\")\n",
    "print(\"2\")"
   ]
  },
  {
   "cell_type": "code",
   "execution_count": 10,
   "metadata": {},
   "outputs": [
    {
     "name": "stdout",
     "output_type": "stream",
     "text": [
      "True\n",
      "Hey, Give me book\n"
     ]
    }
   ],
   "source": [
    "# Chain Run Only One Block\n",
    "\n",
    "if True: \n",
    "    print(\"True\")\n",
    "elif False:\n",
    "    print(\"WOW\")\n",
    "elif False:\n",
    "    print(\"Yes! Bro\")\n",
    "elif False:\n",
    "    print(\"Yes! Bro\")\n",
    "else: \n",
    "    print(\"No Coding\")\n",
    "    \n",
    "print(\"Hey, Give me book\")   "
   ]
  },
  {
   "cell_type": "code",
   "execution_count": 14,
   "metadata": {},
   "outputs": [
    {
     "name": "stdout",
     "output_type": "stream",
     "text": [
      "Dear Student, your grade is 65 now your calculated grade is: \t B\n"
     ]
    }
   ],
   "source": [
    "from typing import Union\n",
    "\n",
    "per : Union[int, float] = int(input(\"Enter your grade: \"))\n",
    "grade : Union[str, None] = None\n",
    "\n",
    "if per >= 80 :\n",
    "    grade = \"A+\"\n",
    "elif per >= 70 :\n",
    "    grade = \"A\" \n",
    "elif per >= 60 :\n",
    "    grade = \"B\" \n",
    "elif per >= 50 :\n",
    "    grade = \"C\"\n",
    "elif per >= 40 :\n",
    "    grade = \"D\"  \n",
    "else:\n",
    "    grade = \"F\"\n",
    "    \n",
    "print(f\"Dear Student, your grade is {per} now your calculated grade is: \\t {grade}\")"
   ]
  },
  {
   "cell_type": "code",
   "execution_count": 2,
   "metadata": {},
   "outputs": [
    {
     "name": "stdout",
     "output_type": "stream",
     "text": [
      "Dear Studentss your percentage is 99 now your calculated grade is:\t A+\n"
     ]
    }
   ],
   "source": [
    "from typing import Union\n",
    "\n",
    "per : Union[int, float] = int(input(\"Enter your percentage: \\t\"))\n",
    "grade : Union[str, None] = None\n",
    "\n",
    "if per >= 0 and per < 33:\n",
    "       grade = \"Fail\"\n",
    "elif per >= 33 and per < 40:\n",
    "    grade = \"E\"    \n",
    "elif per >= 40 and per < 50:\n",
    "    grade = \"D\"\n",
    "elif per >= 50 and per < 60:\n",
    "    grade = \"C\" \n",
    "elif per >= 60 and per < 70:\n",
    "    grade = \"B\" \n",
    "elif per >= 70 and per < 80:\n",
    "    grade = \"A\"\n",
    "elif per >= 80 and per < 100:\n",
    "    grade = \"A+\"\n",
    "    \n",
    "print(f\"Dear Studentss your percentage is {per} now your calculated grade is:\\t {grade}\") "
   ]
  },
  {
   "cell_type": "markdown",
   "metadata": {},
   "source": [
    "# Student Percentage\n"
   ]
  },
  {
   "cell_type": "code",
   "execution_count": 3,
   "metadata": {},
   "outputs": [
    {
     "name": "stdout",
     "output_type": "stream",
     "text": [
      "[88, 99, 50, 51, 70]\n",
      "['A+']\n",
      "[(88, 'A+')]\n",
      "[(0, 88, 'A+')]\n",
      "[88, 99, 50, 51, 70]\n",
      "['A+', 'A+']\n",
      "[(88, 'A+'), (99, 'A+')]\n",
      "[(0, 88, 'A+'), (1, 99, 'A+')]\n",
      "[88, 99, 50, 51, 70]\n",
      "['A+', 'A+', 'C']\n",
      "[(88, 'A+'), (99, 'A+'), (50, 'C')]\n",
      "[(0, 88, 'A+'), (1, 99, 'A+'), (2, 50, 'C')]\n",
      "[88, 99, 50, 51, 70]\n",
      "['A+', 'A+', 'C', 'C']\n",
      "[(88, 'A+'), (99, 'A+'), (50, 'C'), (51, 'C')]\n",
      "[(0, 88, 'A+'), (1, 99, 'A+'), (2, 50, 'C'), (3, 51, 'C')]\n",
      "[88, 99, 50, 51, 70]\n",
      "['A+', 'A+', 'C', 'C', 'A']\n",
      "[(88, 'A+'), (99, 'A+'), (50, 'C'), (51, 'C'), (70, 'A')]\n",
      "[(0, 88, 'A+'), (1, 99, 'A+'), (2, 50, 'C'), (3, 51, 'C'), (4, 70, 'A')]\n"
     ]
    }
   ],
   "source": [
    "\n",
    "# Making our own types also know as alias\n",
    "\n",
    "from typing import Union\n",
    "\n",
    "perType = Union[float, int]\n",
    "\n",
    "percentages : list[perType] = [88, 99, 50, 51, 70] \n",
    "\n",
    "grades : list[str] = []\n",
    "\n",
    "for  per in percentages:\n",
    "  grade: str = \"\"\n",
    "  \n",
    "  if per >= 0 and per < 33:\n",
    "       grade = \"Fail\"\n",
    "  elif per >= 33 and per < 40:\n",
    "    grade = \"E\"    \n",
    "  elif per >= 40 and per < 50:\n",
    "    grade = \"D\"\n",
    "  elif per >= 50 and per < 60:\n",
    "    grade = \"C\" \n",
    "  elif per >= 60 and per < 70:\n",
    "    grade = \"B\" \n",
    "  elif per >= 70 and per < 80:\n",
    "    grade = \"A\"\n",
    "  elif per >= 80 and per < 100:\n",
    "    grade = \"A+\"\n",
    "    \n",
    "  grades.append(grade)\n",
    "  \n",
    "  print(percentages)\n",
    "  print(grades)\n",
    "  \n",
    "  zip(percentages, grades)\n",
    "  \n",
    "  print(list(zip(percentages, grades)))\n",
    "  \n",
    "  roll_no : list[int] = list(range(len(percentages)))\n",
    "  roll_no\n",
    "  \n",
    "  print(list(zip(roll_no, percentages, grades)))"
   ]
  },
  {
   "cell_type": "code",
   "execution_count": 6,
   "metadata": {},
   "outputs": [
    {
     "name": "stdout",
     "output_type": "stream",
     "text": [
      "[(0, 88, 'A+'), (1, 99, 'A+'), (2, 50, 'C'), (3, 51, 'C'), (4, 70, 'A')]\n"
     ]
    },
    {
     "data": {
      "text/plain": [
       "[(0, 88, 'A+'), (1, 99, 'A+'), (2, 50, 'C'), (3, 51, 'C'), (4, 70, 'A')]"
      ]
     },
     "metadata": {},
     "output_type": "display_data"
    }
   ],
   "source": [
    "data_base = list(zip(roll_no, percentages, grades))\n",
    "print(data_base)\n",
    "display(sorted(data_base))"
   ]
  },
  {
   "cell_type": "code",
   "execution_count": 8,
   "metadata": {},
   "outputs": [
    {
     "data": {
      "text/plain": [
       "[(0, 88, 'A+'), (1, 99, 'A+'), (2, 50, 'C'), (3, 51, 'C'), (4, 70, 'A')]"
      ]
     },
     "metadata": {},
     "output_type": "display_data"
    },
    {
     "name": "stdout",
     "output_type": "stream",
     "text": [
      "[(1, 99, 'A+'), (0, 88, 'A+'), (4, 70, 'A'), (3, 51, 'C'), (2, 50, 'C')]\n"
     ]
    }
   ],
   "source": [
    "display(data_base)\n",
    "sorted_data = sorted(data_base, key=lambda x: x[1], reverse=True)\n",
    "\n",
    "print(sorted_data)\n"
   ]
  },
  {
   "cell_type": "markdown",
   "metadata": {},
   "source": [
    "# Book\n"
   ]
  },
  {
   "cell_type": "code",
   "execution_count": 9,
   "metadata": {},
   "outputs": [
    {
     "name": "stdout",
     "output_type": "stream",
     "text": [
      "BMW\n",
      "Audi\n",
      "Subaru\n",
      "Toyota\n"
     ]
    }
   ],
   "source": [
    "cars : list[str] = ['bmw', 'audi', 'subaru', 'toyota']\n",
    "\n",
    "for car in cars:\n",
    "  if car == 'bmw':\n",
    "      print(car.upper())\n",
    "  else:\n",
    "      print(car.title())\n"
   ]
  },
  {
   "cell_type": "code",
   "execution_count": 10,
   "metadata": {},
   "outputs": [
    {
     "data": {
      "text/plain": [
       "['Audi', 'BMW', 'Subaru', 'Toyota']"
      ]
     },
     "execution_count": 10,
     "metadata": {},
     "output_type": "execute_result"
    }
   ],
   "source": [
    "cars : list[str] = ['audi', 'bmw', 'subaru', 'toyota']\n",
    "\n",
    "[i.upper() if i == 'bmw' else i.title() for i in cars]"
   ]
  },
  {
   "cell_type": "code",
   "execution_count": 11,
   "metadata": {},
   "outputs": [
    {
     "data": {
      "text/plain": [
       "True"
      ]
     },
     "execution_count": 11,
     "metadata": {},
     "output_type": "execute_result"
    }
   ],
   "source": [
    "cars : list[str] = ['bmw', 'audi', 'subaru', 'toyota']\n",
    "\n",
    "'bmw' in cars"
   ]
  },
  {
   "cell_type": "code",
   "execution_count": 12,
   "metadata": {},
   "outputs": [
    {
     "data": {
      "text/plain": [
       "False"
      ]
     },
     "execution_count": 12,
     "metadata": {},
     "output_type": "execute_result"
    }
   ],
   "source": [
    "cars : list[str] = ['bmw', 'audi', 'subaru', 'toyota']\n",
    "\n",
    "'Changan' in cars"
   ]
  },
  {
   "cell_type": "code",
   "execution_count": 13,
   "metadata": {},
   "outputs": [
    {
     "name": "stdout",
     "output_type": "stream",
     "text": [
      "True\n",
      "Marie, you can post a reaponse if you wish\n"
     ]
    }
   ],
   "source": [
    "banned_users : list[str] = ['andrew', 'carolina', 'david']\n",
    "user : str = 'marie'\n",
    "\n",
    "print(user not in banned_users)\n",
    "\n",
    "if user not in banned_users:\n",
    "    print(f\"{user.title()}, you can post a reaponse if you wish\")\n"
   ]
  },
  {
   "cell_type": "code",
   "execution_count": null,
   "metadata": {},
   "outputs": [],
   "source": []
  },
  {
   "cell_type": "code",
   "execution_count": null,
   "metadata": {},
   "outputs": [],
   "source": []
  }
 ],
 "metadata": {
  "kernelspec": {
   "display_name": "python13",
   "language": "python",
   "name": "python3"
  },
  "language_info": {
   "codemirror_mode": {
    "name": "ipython",
    "version": 3
   },
   "file_extension": ".py",
   "mimetype": "text/x-python",
   "name": "python",
   "nbconvert_exporter": "python",
   "pygments_lexer": "ipython3",
   "version": "3.12.0"
  }
 },
 "nbformat": 4,
 "nbformat_minor": 2
}
