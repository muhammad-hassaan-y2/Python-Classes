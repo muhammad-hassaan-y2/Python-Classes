{
 "cells": [
  {
   "cell_type": "markdown",
   "metadata": {},
   "source": [
    "# Dictionairy\n",
    "\n",
    "### We use list, it get complicated when it comes to the imdexing\n",
    "### To avoid it, we use Dictionairy "
   ]
  },
  {
   "cell_type": "code",
   "execution_count": null,
   "metadata": {},
   "outputs": [],
   "source": [
    "# List\n",
    "\n",
    "data : list[str] = ['Muhammad Hasssaan', 'Sir Qasim', 'Sir Zia'] \n",
    "\n"
   ]
  },
  {
   "cell_type": "markdown",
   "metadata": {},
   "source": [
    "# Dictionairy\n",
    "\n",
    "* key:value(items)\n",
    "    \n",
    "    * key replacement of indexes\n",
    "    * value item \n",
    "\n",
    "* dict_variable[key]\n",
    "       * dict_variable[new_key] = new_value\n",
    "           * add new value   \n",
    "           * update value  \n"
   ]
  },
  {
   "cell_type": "code",
   "execution_count": 7,
   "metadata": {},
   "outputs": [
    {
     "name": "stdout",
     "output_type": "stream",
     "text": [
      "{'fname': 'Shaukat Ali', 'name': 'Muhammad Hassaan', 'education': 'Inter in Computer Science'}\n"
     ]
    }
   ],
   "source": [
    "# Dictionairy\n",
    "\n",
    "from typing import Dict, Union, Optional\n",
    "\n",
    "key = Union[str, int]\n",
    "Value = Union[int, list, dict, tuple, str]\n",
    "\n",
    "data : Dict[key, Value] = {\"fname\": \"Shaukat Ali\",\n",
    "                         \"name\": \"Muhammad Hassaan\",\n",
    "                         \"education\": \"Inter in Computer Science\"}\n",
    "\n",
    "# it can also be called Javascript Object \n",
    "\n",
    "print(data)"
   ]
  },
  {
   "cell_type": "code",
   "execution_count": 13,
   "metadata": {},
   "outputs": [
    {
     "name": "stdout",
     "output_type": "stream",
     "text": [
      "{'fname': 'Shaukat Ali', 'name': 'Muhammad Hassaan', 'education': 'Inter in Computer Science'}\n"
     ]
    }
   ],
   "source": [
    "\n",
    "# Dictionairy\n",
    "\n",
    "from typing import Dict, Union, Optional\n",
    "\n",
    "key = Union[str, int]\n",
    "Value = Union[int, list, dict, tuple, str, set]\n",
    "\n",
    "data : Dict[key, Value] = {\"fname\": \"Shaukat Ali\",\n",
    "                         \"name\": \"Muhammad Hassaan\",\n",
    "                         \"education\": \"Inter in Computer Science\"}\n",
    "\n",
    "\n",
    "print(data)"
   ]
  },
  {
   "cell_type": "code",
   "execution_count": 11,
   "metadata": {},
   "outputs": [
    {
     "data": {
      "text/plain": [
       "['clear',\n",
       " 'copy',\n",
       " 'fromkeys',\n",
       " 'get',\n",
       " 'items',\n",
       " 'keys',\n",
       " 'pop',\n",
       " 'popitem',\n",
       " 'setdefault',\n",
       " 'update',\n",
       " 'values']"
      ]
     },
     "execution_count": 11,
     "metadata": {},
     "output_type": "execute_result"
    }
   ],
   "source": [
    "[ i for i in dir(data) if\"__\" not in i ]"
   ]
  },
  {
   "cell_type": "code",
   "execution_count": null,
   "metadata": {},
   "outputs": [],
   "source": [
    "data : set = {7, 5, 6, 8, 9 , 10, 1, 2, 4, 3}\n",
    "\n"
   ]
  },
  {
   "cell_type": "code",
   "execution_count": 14,
   "metadata": {},
   "outputs": [
    {
     "name": "stdout",
     "output_type": "stream",
     "text": [
      "{'fname': 'Shaukat Ali', 'name': 'Muhammad Hassaan', 'education': 'Inter in Computer Science', 'abc': [1, 2, 3], 'xyz': {1, 2, 5}, 'cde': {'a': 1, 'b': 'bat'}}\n"
     ]
    }
   ],
   "source": [
    "# Dictionairy\n",
    "\n",
    "from typing import Dict, Union, Optional\n",
    "\n",
    "key = Union[str, int]\n",
    "Value = Union[int, list, dict, tuple, str, set]\n",
    "\n",
    "data : Dict[key, Value] = {\"fname\": \"Shaukat Ali\",\n",
    "                         \"name\": \"Muhammad Hassaan\",\n",
    "                         \"education\": \"Inter in Computer Science\",\n",
    "                         \"abc\": [1, 2, 3],\n",
    "                         \"xyz\": {2, 1, 5},\n",
    "                         \"cde\": {\"a\": 1, \"b\": \"bat\"}\n",
    "                         }\n",
    "\n",
    "\n",
    "print(data)"
   ]
  },
  {
   "cell_type": "code",
   "execution_count": 16,
   "metadata": {},
   "outputs": [
    {
     "name": "stdout",
     "output_type": "stream",
     "text": [
      "{'name': 'Muhammad Hassaan', 'fname': 'Shaukat Ali', 'education': 'Inter in Computer Science'}\n"
     ]
    }
   ],
   "source": [
    "from typing import Dict, Union, Optional\n",
    "\n",
    "key = Union[str, int]\n",
    "Value = Union[int, list, dict, tuple, str, set]\n",
    "\n",
    "data : dict[key, Value] = {}\n",
    "\n",
    "data['name'] = \"Muhammad Hassaan\"\n",
    "data['fname'] = \"Shaukat Ali\"\n",
    "data['education'] = \"Inter in Computer Science\"\n",
    "\n",
    "print(data)"
   ]
  },
  {
   "cell_type": "code",
   "execution_count": 17,
   "metadata": {},
   "outputs": [
    {
     "name": "stdout",
     "output_type": "stream",
     "text": [
      "{'fname': 'Shaukat Ali', 'name': 'Muhammad Hassaan Shaukat', 'education': 'Inter in Computer Science', 'abc': [1, 2, 3], 'xyz': {1, 2, 5}, 'cde': {'a': 1, 'b': 'bat'}}\n"
     ]
    }
   ],
   "source": [
    "from typing import Dict, Union, Optional\n",
    "\n",
    "key = Union[str, int]\n",
    "Value = Union[int, list, dict, tuple, str, set]\n",
    "\n",
    "data : Dict[key, Value] = {\"fname\": \"Shaukat Ali\",\n",
    "                         \"name\": \"Muhammad Hassaan\",\n",
    "                         \"education\": \"Inter in Computer Science\",\n",
    "                         \"abc\": [1, 2, 3],\n",
    "                         \"xyz\": {2, 1, 5},\n",
    "                         \"cde\": {\"a\": 1, \"b\": \"bat\"}\n",
    "                         }\n",
    "\n",
    "data['name'] = \"Muhammad Hassaan Shaukat\" # Update \n",
    "\n",
    "\n",
    "print(data)"
   ]
  },
  {
   "cell_type": "markdown",
   "metadata": {},
   "source": [
    "# Methods"
   ]
  },
  {
   "cell_type": "code",
   "execution_count": 18,
   "metadata": {},
   "outputs": [
    {
     "name": "stdout",
     "output_type": "stream",
     "text": [
      "NA\n",
      "Muhammad Hassaan Shaukat\n"
     ]
    }
   ],
   "source": [
    "# GET Method if the key is available then fine if not \n",
    "# then it will not give error and and we can pass message if\n",
    "#key is not available\n",
    "\n",
    "from typing import Dict, Union, Optional\n",
    "\n",
    "key = Union[str, int]\n",
    "Value = Union[int, list, dict, tuple, str, set]\n",
    "\n",
    "data : Dict[key, Value] = {\"fname\": \"Shaukat Ali\",\n",
    "                         \"name\": \"Muhammad Hassaan\",\n",
    "                         \"education\": \"Inter in Computer Science\",\n",
    "                         \"abc\": [1, 2, 3],\n",
    "                         \"xyz\": {2, 1, 5},\n",
    "                         \"cde\": {\"a\": 1, \"b\": \"bat\"}\n",
    "                         }\n",
    "\n",
    "data['name'] = \"Muhammad Hassaan Shaukat\" # Update \n",
    "\n",
    "\n",
    "print(data.get('pakistan', \"NA\"))\n",
    "print(data.get('name', \"NA\"))"
   ]
  },
  {
   "cell_type": "code",
   "execution_count": 22,
   "metadata": {},
   "outputs": [
    {
     "name": "stdout",
     "output_type": "stream",
     "text": [
      "fname\n",
      "name\n",
      "education\n",
      "abc\n",
      "xyz\n",
      "cde\n",
      "dict_keys(['fname', 'name', 'education', 'abc', 'xyz', 'cde'])\n",
      "dict_values(['Shaukat Ali', 'Muhammad Hassaan', 'Inter in Computer Science', [1, 2, 3], {1, 2, 5}, {'a': 1, 'b': 'bat'}])\n",
      "dict_items([('fname', 'Shaukat Ali'), ('name', 'Muhammad Hassaan'), ('education', 'Inter in Computer Science'), ('abc', [1, 2, 3]), ('xyz', {1, 2, 5}), ('cde', {'a': 1, 'b': 'bat'})])\n"
     ]
    }
   ],
   "source": [
    "\n",
    "\n",
    "from typing import Dict, Union, Optional\n",
    "\n",
    "key = Union[str, int]\n",
    "Value = Union[int, list, dict, tuple, str, set]\n",
    "\n",
    "data : Dict[key, Value] = {\"fname\": \"Shaukat Ali\",\n",
    "                         \"name\": \"Muhammad Hassaan\",\n",
    "                         \"education\": \"Inter in Computer Science\",\n",
    "                         \"abc\": [1, 2, 3],\n",
    "                         \"xyz\": {2, 1, 5},\n",
    "                         \"cde\": {\"a\": 1, \"b\": \"bat\"}\n",
    "                         }\n",
    "\n",
    "for d in data: \n",
    "    print(d)\n",
    "    \n",
    "\n",
    "print(data.keys())\n",
    "print(data.values())\n",
    "print(data.items())"
   ]
  },
  {
   "cell_type": "code",
   "execution_count": 27,
   "metadata": {},
   "outputs": [
    {
     "name": "stdout",
     "output_type": "stream",
     "text": [
      "fname\n",
      "name\n",
      "education\n",
      "abc\n",
      "xyz\n",
      "cde\n",
      "dict_keys(['fname', 'name', 'education', 'abc', 'xyz', 'cde'])\n",
      "dict_values(['Shaukat Ali', 'Muhammad Hassaan', 'Inter in Computer Science', [1, 2, 3], {1, 2, 5}, {'a': 1, 'b': 'bat'}])\n",
      "dict_items([('fname', 'Shaukat Ali'), ('name', 'Muhammad Hassaan'), ('education', 'Inter in Computer Science'), ('abc', [1, 2, 3]), ('xyz', {1, 2, 5}), ('cde', {'a': 1, 'b': 'bat'})])\n",
      "\n",
      "\n",
      "fname Shaukat Ali\n",
      "fname\n",
      "name Muhammad Hassaan\n",
      "name\n",
      "education Inter in Computer Science\n",
      "education\n",
      "abc [1, 2, 3]\n",
      "abc\n",
      "xyz {1, 2, 5}\n",
      "xyz\n",
      "cde {'a': 1, 'b': 'bat'}\n",
      "cde\n",
      "\n",
      "\n"
     ]
    }
   ],
   "source": [
    "from typing import Dict, Union, Optional\n",
    "\n",
    "key = Union[str, int]\n",
    "Value = Union[int, list, dict, tuple, str, set]\n",
    "\n",
    "data : Dict[key, Value] = {\"fname\": \"Shaukat Ali\",\n",
    "                         \"name\": \"Muhammad Hassaan\",\n",
    "                         \"education\": \"Inter in Computer Science\",\n",
    "                         \"abc\": [1, 2, 3],\n",
    "                         \"xyz\": {2, 1, 5},\n",
    "                         \"cde\": {\"a\": 1, \"b\": \"bat\"}\n",
    "                         }\n",
    "\n",
    "for d in data: \n",
    "    print(d)\n",
    "    \n",
    "\n",
    "print(data.keys())\n",
    "print(data.values())\n",
    "print(data.items())\n",
    "print(\"\\n\")\n",
    "\n",
    "for k in data.keys():\n",
    "    print(k, data[k])\n",
    "    print(k)\n",
    "    \n",
    "print(\"\\n\")\n",
    "\n"
   ]
  },
  {
   "cell_type": "code",
   "execution_count": 29,
   "metadata": {},
   "outputs": [
    {
     "name": "stdout",
     "output_type": "stream",
     "text": [
      "fname\n",
      "name\n",
      "education\n",
      "abc\n",
      "xyz\n",
      "cde\n",
      "dict_keys(['fname', 'name', 'education', 'abc', 'xyz', 'cde'])\n",
      "dict_values(['Shaukat Ali', 'Muhammad Hassaan', 'Inter in Computer Science', [1, 2, 3], {1, 2, 5}, {'a': 1, 'b': 'bat'}])\n",
      "dict_items([('fname', 'Shaukat Ali'), ('name', 'Muhammad Hassaan'), ('education', 'Inter in Computer Science'), ('abc', [1, 2, 3]), ('xyz', {1, 2, 5}), ('cde', {'a': 1, 'b': 'bat'})])\n",
      "\n",
      "\n",
      "Shaukat Ali\n",
      "Muhammad Hassaan\n",
      "Inter in Computer Science\n",
      "[1, 2, 3]\n",
      "{1, 2, 5}\n",
      "{'a': 1, 'b': 'bat'}\n",
      "\n",
      "\n"
     ]
    }
   ],
   "source": [
    "from typing import Dict, Union, Optional\n",
    "\n",
    "key = Union[str, int]\n",
    "Value = Union[int, list, dict, tuple, str, set]\n",
    "\n",
    "data : Dict[key, Value] = {\"fname\": \"Shaukat Ali\",\n",
    "                         \"name\": \"Muhammad Hassaan\",\n",
    "                         \"education\": \"Inter in Computer Science\",\n",
    "                         \"abc\": [1, 2, 3],\n",
    "                         \"xyz\": {2, 1, 5},\n",
    "                         \"cde\": {\"a\": 1, \"b\": \"bat\"}\n",
    "                         }\n",
    "\n",
    "for d in data: \n",
    "    print(d)\n",
    "    \n",
    "\n",
    "print(data.keys())\n",
    "print(data.values())\n",
    "print(data.items())\n",
    "print(\"\\n\")\n",
    "\n",
    "for k in data.values():\n",
    "  \n",
    "    print(k)\n",
    "    \n",
    "print(\"\\n\")"
   ]
  },
  {
   "cell_type": "code",
   "execution_count": 30,
   "metadata": {},
   "outputs": [
    {
     "name": "stdout",
     "output_type": "stream",
     "text": [
      "fname\n",
      "name\n",
      "education\n",
      "abc\n",
      "xyz\n",
      "cde\n",
      "dict_keys(['fname', 'name', 'education', 'abc', 'xyz', 'cde'])\n",
      "dict_values(['Shaukat Ali', 'Muhammad Hassaan', 'Inter in Computer Science', [1, 2, 3], {1, 2, 5}, {'a': 1, 'b': 'bat'}])\n",
      "dict_items([('fname', 'Shaukat Ali'), ('name', 'Muhammad Hassaan'), ('education', 'Inter in Computer Science'), ('abc', [1, 2, 3]), ('xyz', {1, 2, 5}), ('cde', {'a': 1, 'b': 'bat'})])\n",
      "\n",
      "\n",
      "fname Shaukat Ali\n",
      "name Muhammad Hassaan\n",
      "education Inter in Computer Science\n",
      "abc [1, 2, 3]\n",
      "xyz {1, 2, 5}\n",
      "cde {'a': 1, 'b': 'bat'}\n",
      "\n",
      "\n"
     ]
    }
   ],
   "source": [
    "from typing import Dict, Union, Optional\n",
    "\n",
    "key = Union[str, int]\n",
    "Value = Union[int, list, dict, tuple, str, set]\n",
    "\n",
    "data : Dict[key, Value] = {\"fname\": \"Shaukat Ali\",\n",
    "                         \"name\": \"Muhammad Hassaan\",\n",
    "                         \"education\": \"Inter in Computer Science\",\n",
    "                         \"abc\": [1, 2, 3],\n",
    "                         \"xyz\": {2, 1, 5},\n",
    "                         \"cde\": {\"a\": 1, \"b\": \"bat\"}\n",
    "                         }\n",
    "\n",
    "    \n",
    "\n",
    "print(\"\\n\")\n",
    "\n",
    "for k,v in data.items():\n",
    "  \n",
    "    print(k, v)\n",
    "    \n",
    "print(\"\\n\")"
   ]
  },
  {
   "cell_type": "code",
   "execution_count": 36,
   "metadata": {},
   "outputs": [
    {
     "name": "stdout",
     "output_type": "stream",
     "text": [
      "{}\n"
     ]
    },
    {
     "data": {
      "text/plain": [
       "{'id': None, 'name': None, 'fname': None, 'course': None}"
      ]
     },
     "execution_count": 36,
     "metadata": {},
     "output_type": "execute_result"
    }
   ],
   "source": [
    "# Comprehensive Style\n",
    "\n",
    "from typing import Dict, Union, Optional\n",
    "\n",
    "keys : list[str] = ['id', 'name', 'fname', 'course']\n",
    "\n",
    "data  : dict[keys, Value] = {}\n",
    "\n",
    "print(data)\n",
    "\n",
    "data = data.fromkeys(keys)  \n",
    "    \n",
    "print(data)\n"
   ]
  },
  {
   "cell_type": "code",
   "execution_count": 38,
   "metadata": {},
   "outputs": [
    {
     "name": "stdout",
     "output_type": "stream",
     "text": [
      "fname\n",
      "name\n",
      "education\n",
      "dict_keys(['fname', 'name', 'education'])\n",
      "dict_values(['Shaukat Ali', 'Muhammad Hassaan', 'ICS'])\n"
     ]
    }
   ],
   "source": [
    "from typing import Dict, Union, Optional\n",
    "import pprint\n",
    "\n",
    "Key = Union[int, str]\n",
    "Value = Union[int, str, list, dict, tuple, set] \n",
    "\n",
    "data: Dict[Key, Value] = {\n",
    "                          \"fname\":\"Shaukat Ali\",\n",
    "                          \"name\":\"Muhammad Hassaan\",\n",
    "                          \"education\":\"ICS\"\n",
    "}\n",
    "\n",
    "for d in data:\n",
    "              print(d)\n",
    "              \n",
    "print(data.keys())\n",
    "print(data.values())"
   ]
  },
  {
   "cell_type": "code",
   "execution_count": 43,
   "metadata": {},
   "outputs": [
    {
     "name": "stdout",
     "output_type": "stream",
     "text": [
      "\n",
      "\n",
      "{'a': 1, 'b': 'bat'}\n",
      "cde\n",
      "\n",
      "\n"
     ]
    }
   ],
   "source": [
    "from typing import Dict, Union, Optional\n",
    "\n",
    "key = Union[str, int]\n",
    "Value = Union[int, list, dict, tuple, str, set]\n",
    "\n",
    "data : Dict[key, Value] = {\"fname\": \"Shaukat Ali\",\n",
    "                         \"name\": \"Muhammad Hassaan\",\n",
    "                         \"education\": \"Inter in Computer Science\",\n",
    "                        \n",
    "                         }\n",
    "\n",
    "    \n",
    "\n",
    "print(\"\\n\")\n",
    "\n",
    "{v:k for k,v in data.items()}\n",
    "\n",
    "print(v)\n",
    "print(k)\n",
    "print(\"\\n\")"
   ]
  }
 ],
 "metadata": {
  "kernelspec": {
   "display_name": "python13",
   "language": "python",
   "name": "python3"
  },
  "language_info": {
   "codemirror_mode": {
    "name": "ipython",
    "version": 3
   },
   "file_extension": ".py",
   "mimetype": "text/x-python",
   "name": "python",
   "nbconvert_exporter": "python",
   "pygments_lexer": "ipython3",
   "version": "3.12.0"
  }
 },
 "nbformat": 4,
 "nbformat_minor": 2
}
