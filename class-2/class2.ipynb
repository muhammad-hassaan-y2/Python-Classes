{
 "cells": [
  {
   "cell_type": "markdown",
   "metadata": {},
   "source": [
    "# String Data Type in Python"
   ]
  },
  {
   "cell_type": "code",
   "execution_count": 11,
   "metadata": {},
   "outputs": [
    {
     "name": "stdout",
     "output_type": "stream",
     "text": [
      "<class 'str'>\n",
      "Muhammad Hassaan\n",
      "<class 'str'>\n",
      "Muhammad Hassaan\n"
     ]
    }
   ],
   "source": [
    "# Boundaries\n",
    "# 'text', \"text\", '''text''', \"\"\"Text\"\"\"\n",
    "name: str = \"Muhammad Hassaan\"\n",
    "print(type(name))\n",
    "print(name)"
   ]
  },
  {
   "cell_type": "code",
   "execution_count": null,
   "metadata": {},
   "outputs": [],
   "source": [
    "# Boundaries\n",
    "# 'text', \"text\", '''text''', \"\"\"Text\"\"\"\n",
    "fname: str = 'Shaukat Ali'\n",
    "print(type(fname))\n",
    "print(fname)"
   ]
  },
  {
   "cell_type": "code",
   "execution_count": 10,
   "metadata": {},
   "outputs": [
    {
     "name": "stdout",
     "output_type": "stream",
     "text": [
      "<class 'str'>\n",
      "Muhammad Hassaan\n"
     ]
    }
   ],
   "source": [
    "# Boundaries\n",
    "# 'text', \"text\", '''text''', \"\"\"Text\"\"\"\n",
    "name: str = '''Muhammad Hassaan'''\n",
    "print(type(name))\n",
    "print(name)"
   ]
  },
  {
   "cell_type": "code",
   "execution_count": 9,
   "metadata": {},
   "outputs": [
    {
     "name": "stdout",
     "output_type": "stream",
     "text": [
      "<class 'str'>\n",
      "Muhammad Hassaan\n"
     ]
    }
   ],
   "source": [
    "# Boundaries\n",
    "# 'text', \"text\", '''text''', \"\"\"Text\"\"\"\n",
    "name: str = \"\"\"Muhammad Hassaan\"\"\"\n",
    "print(type(name))\n",
    "print(name)"
   ]
  },
  {
   "cell_type": "markdown",
   "metadata": {},
   "source": [
    "# Converting Special Character in to the Simple Character\n"
   ]
  },
  {
   "cell_type": "code",
   "execution_count": null,
   "metadata": {},
   "outputs": [],
   "source": [
    "# Boundaries\n",
    "# 'text', \"text\", '''text''', \"\"\"Text\"\"\"\n",
    "\n",
    "# Again error\n",
    "\n",
    "message: str = \"PIAIC, \" Student Card \" \\n Father's Name\"\n",
    "print(message)\n",
    "\n"
   ]
  },
  {
   "cell_type": "code",
   "execution_count": 12,
   "metadata": {},
   "outputs": [],
   "source": [
    "# Boundaries\n",
    "# 'text', \"text\", '''text''', \"\"\"Text\"\"\"\n",
    "\n",
    "# Now Solution to the error's above \n",
    "# Now convert them in to simple character by: \\\n",
    "    \n",
    "message: str = \"PIAIC, \\\" Student Card \\\" \\n Father's Name\"\n",
    "print(message)\n",
    "\n",
    "message1: str = 'PIAIC, \"Student Card\" \\n Father \\'s Name'\n",
    "print(message1)"
   ]
  },
  {
   "cell_type": "code",
   "execution_count": 21,
   "metadata": {},
   "outputs": [
    {
     "name": "stdout",
     "output_type": "stream",
     "text": [
      "PIAIC Student Card\n",
      "Student Name: Muhammad Hassaan\n",
      "Student's Age:17\n",
      "Father's Name: Shaukat Ali\n"
     ]
    }
   ],
   "source": [
    "# Boundaries\n",
    "# 'text', \"text\", '''text''', \"\"\"Text\"\"\"\n",
    "\n",
    "# Now Solution to the error's above \n",
    "# Now convert them in to simple character by: \\\n",
    "    \n",
    "name: str = \"Muhammad Hassaan\"\n",
    "fname: str = \"Shaukat Ali\"\n",
    "Education : str = \"Inter in Computer Science\"\n",
    "age: int = 17\n",
    "\n",
    "# It will give us type error becuase we cannot add string in to integer: \"a\" + 7 .... Error\n",
    "# Either we convert age in to string by manually or by functions:\n",
    "# 1. \"a\" + str(7)...[for long funtions/message it will be difficult]  2.\n",
    "\n",
    "card: str = \"PIAIC Student Card\\nStudent Name: \" + name + \"\\nStudent's Age: \" + str(age) + \"\\nFather's Name: \" + fname                              \n",
    "print(card)"
   ]
  },
  {
   "cell_type": "markdown",
   "metadata": {},
   "source": [
    "# \" \\ \" is used for line continue"
   ]
  },
  {
   "cell_type": "code",
   "execution_count": 22,
   "metadata": {},
   "outputs": [
    {
     "name": "stdout",
     "output_type": "stream",
     "text": [
      "19\n"
     ]
    }
   ],
   "source": [
    "#Example\n",
    "\n",
    "print(7 + \\\n",
    "    8 + \\\n",
    "        4)"
   ]
  },
  {
   "cell_type": "code",
   "execution_count": 23,
   "metadata": {},
   "outputs": [
    {
     "name": "stdout",
     "output_type": "stream",
     "text": [
      "PIAIC Student Card\n",
      "Student Name: Muhammad Hassaan\n",
      "Student's Age: 17\n",
      "Father's Name: Shaukat Ali\n",
      "Education: Inter in Computer Science\n"
     ]
    }
   ],
   "source": [
    "# Boundaries\n",
    "# 'text', \"text\", '''text''', \"\"\"Text\"\"\"\n",
    "\n",
    "# Now Solution to the error's above \n",
    "# Now convert them in to simple character by: \\\n",
    "    \n",
    "name: str = \"Muhammad Hassaan\"\n",
    "fname: str = \"Shaukat Ali\"\n",
    "Education : str = \"Inter in Computer Science\"\n",
    "age: int = 17\n",
    "\n",
    "# It will give us type error becuase we cannot add string in to integer: \"a\" + 7 .... Error\n",
    "# Either we convert age in to string by manually or by functions:\n",
    "# 1. \"a\" + str(7)...[for long funtions/message it will be difficult]  \n",
    "\n",
    "card: str = \"PIAIC Student Card\\nStudent Name: \" + \\\n",
    "name + \"\\nStudent's Age: \" + str(age) + \\\n",
    "    \"\\nFather's Name: \" + fname + \\\n",
    "     \"\\nEducation: \"  + Education                            \n",
    "print(card)"
   ]
  },
  {
   "cell_type": "markdown",
   "metadata": {},
   "source": [
    "# Using multi-line string: \"\"\" text \"\"\", ''' text ''' for more simplicity\n"
   ]
  },
  {
   "cell_type": "code",
   "execution_count": 26,
   "metadata": {},
   "outputs": [
    {
     "name": "stdout",
     "output_type": "stream",
     "text": [
      " \n",
      "PIAIC Student Card\n",
      "Student Name: ........\n",
      "Father's Name: ........\n",
      "Age: .......\n",
      "Education: ..........\n",
      "\n"
     ]
    }
   ],
   "source": [
    "# Boundaries\n",
    "# 'text', \"text\", '''text''', \"\"\"Text\"\"\"\n",
    "\n",
    "# Now Solution to the error's above \n",
    "# Now convert them in to simple character by: \\\n",
    "    \n",
    "name: str = \"Muhammad Hassaan\"\n",
    "fname: str = \"Shaukat Ali\"\n",
    "Education : str = \"Inter in Computer Science\"\n",
    "age: int = 17\n",
    "\n",
    "card: str = \"\"\" \n",
    "PIAIC Student Card\n",
    "Student Name: ........\n",
    "Father's Name: ........\n",
    "Age: .......\n",
    "Education: ..........\n",
    "\"\"\"\n",
    "\n",
    "print(card)"
   ]
  },
  {
   "cell_type": "markdown",
   "metadata": {},
   "source": [
    "# F- String The most powerful feature in the Python\n"
   ]
  },
  {
   "cell_type": "code",
   "execution_count": 7,
   "metadata": {},
   "outputs": [
    {
     "name": "stdout",
     "output_type": "stream",
     "text": [
      " \n",
      "PIAIC Student Card\n",
      "Student Name: {name}\n",
      "Father's Name: {fname}\n",
      "Age: {age}\n",
      "Education: {education}\n",
      "\n"
     ]
    }
   ],
   "source": [
    "# Boundaries\n",
    "# 'text', \"text\", '''text''', \"\"\"Text\"\"\"\n",
    "\n",
    "# Now Solution to the error's above \n",
    "# Now convert them in to simple character by: \\\n",
    "    \n",
    "name: str = \"Muhammad Hassaan\"\n",
    "fname: str = \"Shaukat Ali\"\n",
    "education : str = \"Inter in Computer Science\"\n",
    "age: int = 17\n",
    "\n",
    "card: str = f\"\"\" \n",
    "PIAIC Student Card\n",
    "Student Name: {name}\n",
    "Father's Name: {fname}\n",
    "Age: {age}\n",
    "Education: {education}\n",
    "\"\"\"\n",
    "\n",
    "print(card)"
   ]
  },
  {
   "cell_type": "code",
   "execution_count": 8,
   "metadata": {},
   "outputs": [
    {
     "name": "stdout",
     "output_type": "stream",
     "text": [
      " \n",
      "PIAIC Student Card\n",
      "Student Name: {name}\n",
      "Father's Name: {fname}\n",
      "Age: {age}\n",
      "Education: {education}\n",
      "\n",
      "Total: {2 + 8 + 9}\n",
      "\n"
     ]
    }
   ],
   "source": [
    "# Boundaries\n",
    "# 'text', \"text\", '''text''', \"\"\"Text\"\"\"\n",
    "\n",
    "# Now Solution to the error's above \n",
    "# Now convert them in to simple character by: \\\n",
    "    \n",
    "name: str = \"Muhammad Hassaan\"\n",
    "fname: str = \"Shaukat Ali\"\n",
    "education : str = \"Inter in Computer Science\"\n",
    "age: int = 17\n",
    "\n",
    "card: str = f\"\"\" \n",
    "PIAIC Student Card\n",
    "Student Name: {name}\n",
    "Father's Name: {fname}\n",
    "Age: {age}\n",
    "Education: {education}\n",
    "\n",
    "Total: {2 + 8 + 9}\n",
    "\"\"\"\n",
    "\n",
    "print(card)"
   ]
  },
  {
   "cell_type": "code",
   "execution_count": 6,
   "metadata": {},
   "outputs": [
    {
     "name": "stdout",
     "output_type": "stream",
     "text": [
      " \n",
      "PIAIC Student Card\n",
      "Student Name: Muhammad Hassaan\n",
      "Father's Name: Shaukat Ali\n",
      "Age: 17\n",
      "Education: Inter in Computer Science\n",
      "\n",
      "Total: {2 + 8 + 9}\n",
      "\n"
     ]
    }
   ],
   "source": [
    "# F-String one more format\n",
    "\n",
    "name: str = \"Muhammad Hassaan\"\n",
    "fname: str = \"Shaukat Ali\"\n",
    "education : str = \"Inter in Computer Science\"\n",
    "age: int = 17\n",
    "\n",
    "card: str = f\"\"\" \n",
    "PIAIC Student Card\n",
    "Student Name: %s\n",
    "Father's Name: %s\n",
    "Age: %i\n",
    "Education: %s\n",
    "\n",
    "Total: {2 + 8 + 9}\n",
    "\"\"\"%(name, fname, age, education)\n",
    "\n",
    "print(card)"
   ]
  },
  {
   "cell_type": "markdown",
   "metadata": {},
   "source": [
    "# F-string and Jinja Style\n"
   ]
  },
  {
   "cell_type": "code",
   "execution_count": null,
   "metadata": {},
   "outputs": [],
   "source": [
    "#JINJA STYLE\n",
    "\"\"\" \n",
    "student name: {{name}}\n",
    "\"\"\""
   ]
  },
  {
   "cell_type": "markdown",
   "metadata": {},
   "source": [
    "# String Method here\n",
    "\n",
    "pre-defined global functions \n",
    "\n",
    "* print\n",
    "* type\n",
    "* id\n",
    "* dir\n",
    "* len"
   ]
  },
  {
   "cell_type": "code",
   "execution_count": 39,
   "metadata": {},
   "outputs": [
    {
     "name": "stdout",
     "output_type": "stream",
     "text": [
      "Muhammad hassaan\n",
      "MUHAMMAD HASSAAN\n",
      "Muhammad Hassaan\n",
      "muhammad hassaan\n"
     ]
    },
    {
     "data": {
      "text/plain": [
       "['capitalize',\n",
       " 'casefold',\n",
       " 'center',\n",
       " 'count',\n",
       " 'encode',\n",
       " 'endswith',\n",
       " 'expandtabs',\n",
       " 'find',\n",
       " 'format',\n",
       " 'index',\n",
       " 'isalnum',\n",
       " 'isalpha',\n",
       " 'isascii',\n",
       " 'isdecimal',\n",
       " 'isdigit',\n",
       " 'isidentifier',\n",
       " 'islower',\n",
       " 'isnumeric',\n",
       " 'isprintable',\n",
       " 'isspace',\n",
       " 'istitle',\n",
       " 'isupper',\n",
       " 'join',\n",
       " 'ljust',\n",
       " 'lower',\n",
       " 'lstrip',\n",
       " 'maketrans',\n",
       " 'partition',\n",
       " 'removeprefix',\n",
       " 'removesuffix',\n",
       " 'replace',\n",
       " 'rfind',\n",
       " 'rindex',\n",
       " 'rjust',\n",
       " 'rpartition',\n",
       " 'rsplit',\n",
       " 'rstrip',\n",
       " 'split',\n",
       " 'splitlines',\n",
       " 'startswith',\n",
       " 'strip',\n",
       " 'swapcase',\n",
       " 'title',\n",
       " 'translate',\n",
       " 'upper',\n",
       " 'zfill']"
      ]
     },
     "execution_count": 39,
     "metadata": {},
     "output_type": "execute_result"
    }
   ],
   "source": [
    "\n",
    "name: str = \"MuhaMmaD hasSaaN\"\n",
    "print(name.capitalize())\n",
    "print(name.upper())\n",
    "print(name.title())\n",
    "print(name.casefold())\n",
    "\n",
    "# For finding all the methods\n",
    "[i for i in dir(str) if \"_\" not in i]"
   ]
  },
  {
   "cell_type": "code",
   "execution_count": 40,
   "metadata": {},
   "outputs": [
    {
     "data": {
      "text/plain": [
       "'paksitan value a  = 7 and value b = 8'"
      ]
     },
     "execution_count": 40,
     "metadata": {},
     "output_type": "execute_result"
    }
   ],
   "source": [
    "a = 7\n",
    "b = 8\n",
    "# place holder\n",
    "#                     0                1         0,1                \n",
    "\"value a  = {} and value b = {}\".format(a,b)"
   ]
  },
  {
   "cell_type": "code",
   "execution_count": 42,
   "metadata": {},
   "outputs": [
    {
     "name": "stdout",
     "output_type": "stream",
     "text": [
      "My name is Muhammad Hassaan\n",
      "40\n"
     ]
    }
   ],
   "source": [
    "student_code: str = \"\"\"\n",
    "print(\"My name is Muhammad Hassaan\")\n",
    "a: int = 7\n",
    "b: int = 33\n",
    "print(a + b)\n",
    "\n",
    "\"\"\"\n",
    "exec(student_code)"
   ]
  },
  {
   "cell_type": "code",
   "execution_count": 43,
   "metadata": {},
   "outputs": [
    {
     "name": "stdout",
     "output_type": "stream",
     "text": [
      "['capitalize', 'casefold', 'center', 'count', 'encode', 'endswith', 'expandtabs', 'find', 'format', 'index', 'isalnum', 'isalpha', 'isascii', 'isdecimal', 'isdigit', 'isidentifier', 'islower', 'isnumeric', 'isprintable', 'isspace', 'istitle', 'isupper', 'join', 'ljust', 'lower', 'lstrip', 'maketrans', 'partition', 'removeprefix', 'removesuffix', 'replace', 'rfind', 'rindex', 'rjust', 'rpartition', 'rsplit', 'rstrip', 'split', 'splitlines', 'startswith', 'strip', 'swapcase', 'title', 'translate', 'upper', 'zfill']\n",
      "46\n"
     ]
    }
   ],
   "source": [
    "# explore string method and attribute\n",
    "\n",
    "a: list[str] = [i for i in dir(str) if \"_\" not in i]\n",
    "print(a)\n",
    "print(len(a))"
   ]
  },
  {
   "cell_type": "code",
   "execution_count": 1,
   "metadata": {},
   "outputs": [
    {
     "data": {
      "text/plain": [
       "'          Muhammad Hassaan             '"
      ]
     },
     "metadata": {},
     "output_type": "display_data"
    },
    {
     "data": {
      "text/plain": [
       "'Muhammad Hassaan'"
      ]
     },
     "metadata": {},
     "output_type": "display_data"
    },
    {
     "data": {
      "text/plain": [
       "'Muhammad Hassaan             '"
      ]
     },
     "metadata": {},
     "output_type": "display_data"
    },
    {
     "data": {
      "text/plain": [
       "'          Muhammad Hassaan'"
      ]
     },
     "metadata": {},
     "output_type": "display_data"
    }
   ],
   "source": [
    "name: str = \"          Muhammad Hassaan             \"\n",
    "\n",
    "# variable_name.method()\n",
    "display(name)\n",
    "display(name.strip())\n",
    "display(name.lstrip())\n",
    "display(name.rstrip())\n",
    "\n",
    "\n"
   ]
  },
  {
   "cell_type": "code",
   "execution_count": 5,
   "metadata": {},
   "outputs": [
    {
     "name": "stdout",
     "output_type": "stream",
     "text": [
      "          MuhammAd                 HassAan             \n"
     ]
    },
    {
     "data": {
      "text/plain": [
       "'MuhammAd HassAan'"
      ]
     },
     "metadata": {},
     "output_type": "display_data"
    }
   ],
   "source": [
    "import re\n",
    "\n",
    "name: str = \"          Muhammad                 Hassaan             \"\n",
    "print(name)\n",
    "\n",
    "name1: str = re.sub(' {1,100}',' ', name).strip()\n",
    "display(name1)"
   ]
  },
  {
   "cell_type": "markdown",
   "metadata": {},
   "source": [
    "# Removing String\n"
   ]
  },
  {
   "cell_type": "code",
   "execution_count": 16,
   "metadata": {},
   "outputs": [
    {
     "data": {
      "text/plain": [
       "'s Muhammad Hassaan'"
      ]
     },
     "execution_count": 16,
     "metadata": {},
     "output_type": "execute_result"
    }
   ],
   "source": [
    "a: str = 'My name is Muhammad Hassaan'\n",
    "a.removeprefix('My name is')\n",
    "\n",
    "\n",
    "\n"
   ]
  },
  {
   "cell_type": "code",
   "execution_count": 14,
   "metadata": {},
   "outputs": [
    {
     "data": {
      "text/plain": [
       "'My name is '"
      ]
     },
     "execution_count": 14,
     "metadata": {},
     "output_type": "execute_result"
    }
   ],
   "source": [
    "a: str = 'My name is Muhammad Hassaan'\n",
    "\n",
    "a.removesuffix('Muhammad Hassaan')"
   ]
  },
  {
   "cell_type": "markdown",
   "metadata": {},
   "source": [
    "# Book TRY IT YOURSLEF"
   ]
  },
  {
   "cell_type": "code",
   "execution_count": 17,
   "metadata": {},
   "outputs": [
    {
     "data": {
      "text/plain": [
       "'Hey, Muhammad How are you doing?'"
      ]
     },
     "metadata": {},
     "output_type": "display_data"
    }
   ],
   "source": [
    "# Simple Message\n",
    "\n",
    "message: str = \"Hey, Muhammad How are you doing?\"\n",
    "display(message)"
   ]
  },
  {
   "cell_type": "code",
   "execution_count": null,
   "metadata": {},
   "outputs": [],
   "source": [
    "# Simple Messages\n",
    "\n",
    "message: str = \"Hey, Muhmmad How are you doing?\"\n",
    "display(message)\n",
    "\n",
    "# Changing the value of the message\n",
    "\n",
    "message: str = \"Hey, Muhammad, is your assignment completed?\"\n",
    "display(message)\n",
    "\n"
   ]
  },
  {
   "cell_type": "code",
   "execution_count": 18,
   "metadata": {},
   "outputs": [
    {
     "name": "stdout",
     "output_type": "stream",
     "text": [
      "Hi, Muhammad Hassaan ShaukatAre you learning python?\n"
     ]
    }
   ],
   "source": [
    "# Personal Message\n",
    "\n",
    "full_name: str = \"Muhammad Hassaan Shaukat\"\n",
    "print(\"Hi, \" + full_name + \" Are you learning python?\")"
   ]
  },
  {
   "cell_type": "code",
   "execution_count": 19,
   "metadata": {},
   "outputs": [
    {
     "name": "stdout",
     "output_type": "stream",
     "text": [
      "MUHAMMAD HASSAAN\n",
      "muhammad hassaan\n",
      "Muhammad Hassaan\n"
     ]
    }
   ],
   "source": [
    "# Name Cases\n",
    "\n",
    "name: str = \"MuhaMmad HasSaAn\"\n",
    "print(name.upper())\n",
    "print(name.lower())\n",
    "print(name.title())"
   ]
  },
  {
   "cell_type": "code",
   "execution_count": 1,
   "metadata": {},
   "outputs": [
    {
     "name": "stdout",
     "output_type": "stream",
     "text": [
      "Albert Einstein once said, “A person who never made a mistake never \n",
      "tried anything new.” \n"
     ]
    }
   ],
   "source": [
    "# Famous Quote\n",
    "\n",
    "print(\"\"\"Albert Einstein once said, “A person who never made a mistake never \n",
    "tried anything new.” \"\"\")"
   ]
  },
  {
   "cell_type": "code",
   "execution_count": 5,
   "metadata": {},
   "outputs": [
    {
     "name": "stdout",
     "output_type": "stream",
     "text": [
      "Bill Gates: If you can’t make it good, at least make it look good.\n"
     ]
    }
   ],
   "source": [
    "# Famous Quote(2)\n",
    "\n",
    "famous_person: str = \"Bill Gates! \"\n",
    "message: str = \"If you can’t make it good, at least make it look good.\"\n",
    "\n",
    "print(famous_person + \"\" + message)"
   ]
  },
  {
   "cell_type": "code",
   "execution_count": 17,
   "metadata": {},
   "outputs": [
    {
     "data": {
      "text/plain": [
       "'Muhammad Hassaan'"
      ]
     },
     "metadata": {},
     "output_type": "display_data"
    },
    {
     "data": {
      "text/plain": [
       "'Muhammad Hassaan         '"
      ]
     },
     "metadata": {},
     "output_type": "display_data"
    },
    {
     "data": {
      "text/plain": [
       "'     Muhammad Hassaan'"
      ]
     },
     "metadata": {},
     "output_type": "display_data"
    },
    {
     "data": {
      "text/plain": [
       "'Muhammad Hassaan'"
      ]
     },
     "metadata": {},
     "output_type": "display_data"
    }
   ],
   "source": [
    "# Stripping Names\n",
    "\n",
    "name: str = \"     Muhammad Hassaan         \"\n",
    "display(name.strip())\n",
    "display(name.lstrip())\n",
    "display(name.rstrip())\n",
    "display(name.rstrip().lstrip())"
   ]
  },
  {
   "cell_type": "code",
   "execution_count": 19,
   "metadata": {},
   "outputs": [
    {
     "data": {
      "text/plain": [
       "'class-2'"
      ]
     },
     "metadata": {},
     "output_type": "display_data"
    },
    {
     "data": {
      "text/plain": [
       "'2.py'"
      ]
     },
     "metadata": {},
     "output_type": "display_data"
    }
   ],
   "source": [
    "# File Extension\n",
    "\n",
    "file_name: str = \"class-2.py\"\n",
    "display(file_name.removesuffix('.py'))\n",
    "display(file_name.removeprefix('class-'))"
   ]
  },
  {
   "cell_type": "code",
   "execution_count": 4,
   "metadata": {},
   "outputs": [
    {
     "name": "stdout",
     "output_type": "stream",
     "text": [
      "The zen of python, By Muhammad Hassaan if you will glow then you will blow\n"
     ]
    }
   ],
   "source": [
    "import this\n",
    "print(\"The Zen of Python, by Tim Peters Beautiful is better than ugly\")\n",
    "print(\"The zen of python, By Muhammad Hassaan if you will glow then you will blow\")"
   ]
  }
 ],
 "metadata": {
  "kernelspec": {
   "display_name": "python13",
   "language": "python",
   "name": "python3"
  },
  "language_info": {
   "codemirror_mode": {
    "name": "ipython",
    "version": 3
   },
   "file_extension": ".py",
   "mimetype": "text/x-python",
   "name": "python",
   "nbconvert_exporter": "python",
   "pygments_lexer": "ipython3",
   "version": "3.12.0"
  }
 },
 "nbformat": 4,
 "nbformat_minor": 2
}
