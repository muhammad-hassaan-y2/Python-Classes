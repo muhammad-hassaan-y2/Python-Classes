{
 "cells": [
  {
   "cell_type": "markdown",
   "metadata": {},
   "source": [
    "# List\n",
    "* Dynamic Length\n",
    "* Heterogenous Data Types (Multiple Types)\n",
    "* index\n",
    "    * positive 0 to -n1\n",
    "   * negative -1 to length\n",
    "\n",
    "* Slicing:\n",
    "     * variable `names[start : and : step]` ---> They will be number\n",
    "     * start: int = include\n",
    "     * end : int = n - 1\n",
    "     * step : int = sequence"
   ]
  },
  {
   "cell_type": "code",
   "execution_count": 1,
   "metadata": {},
   "outputs": [
    {
     "name": "stdout",
     "output_type": "stream",
     "text": [
      "Sir Qasim\n",
      "Muhammad Hassaan\n",
      "Sir Zia\n"
     ]
    }
   ],
   "source": [
    "# We can also do indexing of of the list:\n",
    "# from the right to left  \n",
    "# OR\n",
    "# From left to right \n",
    "\n",
    "# -->       0            1             2           3\n",
    "names: list [str] = [\"Sir Qasim\", \"Sir Zia\", \"Sir Inam\", \"Muhammad Hassaan\"]\n",
    "#  <--      -4             -3         -2           -1\n",
    "\n",
    "print(names[0])\n",
    "print(names[-1])\n",
    "print(names[-3])\n"
   ]
  },
  {
   "cell_type": "code",
   "execution_count": 4,
   "metadata": {},
   "outputs": [
    {
     "name": "stdout",
     "output_type": "stream",
     "text": [
      "<class 'list'>\n",
      "<class 'str'>\n",
      "Fonder of PIAIC: SIR ZIA\n"
     ]
    }
   ],
   "source": [
    "from typing import Any\n",
    "\n",
    "# -->                   0         1           2                3\n",
    "names : list[Any] = [\"Sir Qasim\", \"Sir Zia\", \"Sir Inam\", \"Muhammad Hassaan\", 2, 6]\n",
    "# <--                   -4          -3            -2               -1\n",
    "\n",
    "print(type(names))\n",
    "print(type(names[-5]))\n",
    "print(f'Fonder of PIAIC: {names[-5].upper()}')\n"
   ]
  },
  {
   "cell_type": "code",
   "execution_count": 1,
   "metadata": {},
   "outputs": [
    {
     "name": "stdout",
     "output_type": "stream",
     "text": [
      "['A', 'B', 'C', 'D', 'E', 'F', 'G', 'H', 'I', 'J', 'K', 'L', 'M', 'N', 'O', 'P', 'Q', 'R', 'S', 'T', 'V', 'W', 'X', 'Y', 'Z']\n",
      "['A', 'B']\n",
      "['A', 'B']\n",
      "['A']\n",
      "['A', 'B']\n",
      "['A', 'B']\n"
     ]
    }
   ],
   "source": [
    "\n",
    "#  --->                   0    1    2                                                                                                             25\n",
    "characters: list[str] = ['A', 'B', 'C', 'D', 'E', 'F', 'G', 'H', 'I', 'J', 'K', 'L', 'M', 'N', 'O', 'P', 'Q', 'R', 'S', 'T', 'V', 'W', 'X', 'Y', 'Z']\n",
    "#  <------               -26                                                                                                                      -1    \n",
    "\n",
    "print(characters)\n",
    "\n",
    "#Defeault slicing go left to righ::... Let's do slicing\n",
    "print(characters[0 : 2])\n",
    "\n",
    "print(characters[ : 2]) # not pass any number at all\n",
    "\n",
    "print(characters[ -26: -24]) # 0= include : index -24-1 = -25\n",
    "\n",
    "print(characters[0:2:1]) # 0= include : index -2-1 = -25\n",
    "\n",
    "print(characters[0:2:]) # 0= include : index -2-1 = -25\n"
   ]
  },
  {
   "cell_type": "code",
   "execution_count": 1,
   "metadata": {},
   "outputs": [
    {
     "name": "stdout",
     "output_type": "stream",
     "text": [
      "['A', 'B', 'C', 'D', 'E', 'F', 'G', 'H', 'I', 'J', 'K', 'L', 'M', 'N', 'O', 'P', 'Q', 'R', 'S', 'T', 'V', 'W', 'X', 'Y', 'Z']\n",
      "['A', 'C', 'E', 'G', 'I', 'K', 'M', 'O', 'Q', 'S', 'V', 'X', 'Z']\n",
      "['Z', 'Y', 'X', 'W', 'V', 'T', 'S', 'R', 'Q', 'P', 'O', 'N', 'M', 'L', 'K', 'J', 'I', 'H', 'G', 'F', 'E', 'D', 'C', 'B', 'A']\n"
     ]
    }
   ],
   "source": [
    "\n",
    "characters: list[str] = ['A', 'B', 'C', 'D', 'E', 'F', 'G', 'H', 'I', 'J', 'K', 'L', 'M', 'N', 'O', 'P', 'Q', 'R', 'S', 'T', 'V', 'W', 'X', 'Y', 'Z']\n",
    "\n",
    "print(characters[ : : ]) # IT means it will give us all\n",
    "\n",
    "print(characters[ : : 2]) # IT wil follow sequence\n",
    "\n",
    "print(characters[ : : -1]) # IT wil follow sequence\n"
   ]
  },
  {
   "cell_type": "markdown",
   "metadata": {},
   "source": [
    "# For help\n",
    "\n",
    " * help(object)\n",
    " * object?\n",
    " * object??\n",
    " * ?object\n",
    " * ??object"
   ]
  },
  {
   "cell_type": "code",
   "execution_count": 6,
   "metadata": {},
   "outputs": [
    {
     "name": "stdout",
     "output_type": "stream",
     "text": [
      "Help on built-in function print in module builtins:\n",
      "\n",
      "print(*args, sep=' ', end='\\n', file=None, flush=False)\n",
      "    Prints the values to a stream, or to sys.stdout by default.\n",
      "\n",
      "    sep\n",
      "      string inserted between values, default a space.\n",
      "    end\n",
      "      string appended after the last value, default a newline.\n",
      "    file\n",
      "      a file-like object (stream); defaults to the current sys.stdout.\n",
      "    flush\n",
      "      whether to forcibly flush the stream.\n",
      "\n"
     ]
    }
   ],
   "source": [
    "help(print)"
   ]
  },
  {
   "cell_type": "markdown",
   "metadata": {},
   "source": [
    "# List Methods\n"
   ]
  },
  {
   "cell_type": "code",
   "execution_count": 5,
   "metadata": {},
   "outputs": [
    {
     "data": {
      "text/plain": [
       "['append',\n",
       " 'clear',\n",
       " 'copy',\n",
       " 'count',\n",
       " 'extend',\n",
       " 'index',\n",
       " 'insert',\n",
       " 'pop',\n",
       " 'remove',\n",
       " 'reverse',\n",
       " 'sort']"
      ]
     },
     "execution_count": 5,
     "metadata": {},
     "output_type": "execute_result"
    }
   ],
   "source": [
    "[i for i in dir(list) if \"__\" not in i]"
   ]
  },
  {
   "cell_type": "code",
   "execution_count": 14,
   "metadata": {},
   "outputs": [
    {
     "name": "stdout",
     "output_type": "stream",
     "text": [
      "['Qasim', 'Sir Zia', 'Sir Inam', 20, True]\n",
      "20\n",
      "['Qasim', 'Sir Zia', 'Sir Inam', True]\n"
     ]
    }
   ],
   "source": [
    "from typing import Any\n",
    "\n",
    "# ->                   0         1           2       3    4\n",
    "names: list[Any] = [\"Sir Qasim\", \"Sir Zia\", \"Sir Inam\", 20, True]\n",
    "#  <-                 -5        -4          -3      -2    1-\n",
    "\n",
    "print(names)\n",
    "\n",
    "a : str = names.pop(-2)\n",
    "\n",
    "print(a)\n",
    "print(names)"
   ]
  },
  {
   "cell_type": "code",
   "execution_count": 16,
   "metadata": {},
   "outputs": [
    {
     "name": "stdout",
     "output_type": "stream",
     "text": [
      "['a', 'b']\n",
      "['a', 'b', 'Muhammad Hassaan']\n",
      "['a', 'b', 'Muhammad Hassaan', 'Sir Zia']\n",
      "['a', 'b', 'Muhammad Hassaan', 'Sir Zia', 'Sir Qasim']\n"
     ]
    }
   ],
   "source": [
    "# Append add methods at the last of list\n",
    "\n",
    "names : list[str] = ['a', 'b']\n",
    "\n",
    "print(names)\n",
    "names.append(\"Muhammad Hassaan\")\n",
    "print(names)\n",
    "\n",
    "names.append(\"Sir Zia\")\n",
    "print(names)\n",
    "\n",
    "names.append(\"Sir Qasim\")\n",
    "print(names)\n"
   ]
  },
  {
   "cell_type": "code",
   "execution_count": 17,
   "metadata": {},
   "outputs": [
    {
     "name": "stdout",
     "output_type": "stream",
     "text": [
      "['a', 'b', 'c', 'd']\n",
      "['a', 'Sir Qasim', 'b', 'c', 'd']\n"
     ]
    }
   ],
   "source": [
    "# Append adds only on the last \n",
    "# What if we have to add on the particular text or position\n",
    "# We will use insert for it\n",
    "\n",
    "names : list[str] = ['a', 'b', 'c', 'd']\n",
    "print(names)\n",
    "\n",
    "names.insert(1, \"Sir Qasim\") # In insert (index, value)\n",
    "\n",
    "print(names)"
   ]
  },
  {
   "cell_type": "code",
   "execution_count": 20,
   "metadata": {},
   "outputs": [
    {
     "name": "stdout",
     "output_type": "stream",
     "text": [
      "[]\n"
     ]
    }
   ],
   "source": [
    "a: list[str] = [1, 2, 3, 4, 5]\n",
    "del a # Remove pbject from the memory\n",
    "\n",
    "a: list[str] = [1, 2, 3, 4, 5]\n",
    "a.clear() # Remove all elements but the object remains\n",
    "print(a)"
   ]
  },
  {
   "cell_type": "code",
   "execution_count": null,
   "metadata": {},
   "outputs": [],
   "source": [
    "\n",
    "a : list[str] = ['a', 'b', 'c', 'd']\n",
    "b = a # Shallow Copy\n",
    "\n",
    "print(a)\n",
    "print(b)\n",
    "\n",
    "b[0] = 'Pakistan' # Change only in variable but both variables are updated\n",
    "\n",
    "print(a)\n",
    "print(b)"
   ]
  },
  {
   "cell_type": "code",
   "execution_count": 22,
   "metadata": {},
   "outputs": [
    {
     "name": "stdout",
     "output_type": "stream",
     "text": [
      "['a', 'b', 'c', 'd']\n",
      "['a', 'b', 'c', 'd']\n",
      "['a', 'b', 'c', 'd']\n",
      "['Pakistan', 'b', 'c', 'd']\n"
     ]
    }
   ],
   "source": [
    "\n",
    "# We are getting problem above there\n",
    "# To avoid that we can use copy() method\n",
    "\n",
    "a : list[str] = ['a', 'b', 'c', 'd']\n",
    "b = a.copy() # Deep Copy\n",
    "\n",
    "print(a)\n",
    "print(a)\n",
    "\n",
    "b[0] = 'Pakistan' # Change only in b here \n",
    "\n",
    "print(a)\n",
    "print(b)"
   ]
  },
  {
   "cell_type": "code",
   "execution_count": 25,
   "metadata": {},
   "outputs": [
    {
     "name": "stdout",
     "output_type": "stream",
     "text": [
      "2\n",
      "1\n",
      "4\n"
     ]
    }
   ],
   "source": [
    "# Count method here\n",
    "\n",
    "names: list[str] = ['a', 'b', 'c', 'd','e', 'b', 'b', 'd', 'a', 'b', 'c', 'd' ]\n",
    "\n",
    "# Count method is used for counting a value\n",
    "# How much value is repeated in the list\n",
    "\n",
    "print(names.count('a')) # Here it will tell us how much is it repeated\n",
    "print(names.count('e')) # Here it will tell us how much is it repeated\n",
    "print(names.count('b')) # Here it will tell us how much is it repeated"
   ]
  },
  {
   "cell_type": "code",
   "execution_count": 29,
   "metadata": {},
   "outputs": [
    {
     "name": "stdout",
     "output_type": "stream",
     "text": [
      "['Sir Zia', ' Sir Qasim', 'Sir Inam', 'Dr Noman']\n"
     ]
    }
   ],
   "source": [
    "# Extend method here\n",
    "\n",
    "names: list[str] = [ \"Sir Zia\", \" Sir Qasim\" ] # Gen_AI Founder Members\n",
    "\n",
    "new_faculty_members : list[str] = [\"Sir Inam\", \"Dr Noman\"]\n",
    "\n",
    "# names.append(new_faculty_members) \n",
    "# Here it will not add put the list as it is\n",
    "# To avoid it\n",
    "\n",
    "names.extend(new_faculty_members)\n",
    "print(names)\n"
   ]
  },
  {
   "cell_type": "code",
   "execution_count": 31,
   "metadata": {},
   "outputs": [
    {
     "name": "stdout",
     "output_type": "stream",
     "text": [
      "['Sir Zia', ' Sir Qasim', 'Sir Inam', 'Dr Noman']\n",
      "['Sir Zia', ' Sir Qasim', 'Dr Noman']\n"
     ]
    }
   ],
   "source": [
    "\n",
    "names : list[str] = ['Sir Zia', ' Sir Qasim', 'Sir Inam', 'Dr Noman']\n",
    "\n",
    "print(names)\n",
    "\n",
    "names.remove(\"Sir Inam\") # Remove the value here\n",
    "print(names)\n"
   ]
  },
  {
   "cell_type": "code",
   "execution_count": null,
   "metadata": {},
   "outputs": [],
   "source": [
    "names : list[str] = ['Sir Zia', ' Sir Qasim', 'Sir Inam', 'Dr Noman']\n",
    "\n",
    "print(names)\n",
    "\n",
    "names.remove(\"Sir Inam\") # Remove the value here\n",
    "print(names)"
   ]
  },
  {
   "cell_type": "code",
   "execution_count": 35,
   "metadata": {},
   "outputs": [
    {
     "name": "stdout",
     "output_type": "stream",
     "text": [
      "['Sir Zia', 'Sir Qasim', 'Sir Inam', 'Dr Noman', 'Sir Qasim']\n"
     ]
    },
    {
     "data": {
      "text/plain": [
       "1"
      ]
     },
     "execution_count": 35,
     "metadata": {},
     "output_type": "execute_result"
    }
   ],
   "source": [
    "# TO find anything we can use index method\n",
    "\n",
    "names : list[str] = ['Sir Zia', 'Sir Qasim', 'Sir Inam', 'Dr Noman', 'Sir Qasim']\n",
    "\n",
    "print(names)\n",
    "\n",
    "names.index('Sir Qasim') #1 \n",
    "\n",
    "# If a number is repeated more than one time \n",
    "# It will give us the first index value\n",
    "\n"
   ]
  },
  {
   "cell_type": "code",
   "execution_count": 38,
   "metadata": {},
   "outputs": [
    {
     "name": "stdout",
     "output_type": "stream",
     "text": [
      "['Sir Zia', 'Sir Qasim', 'Sir Inam', 'Dr Noman', 'Sir Qasim', 'Sir Qasim']\n"
     ]
    },
    {
     "data": {
      "text/plain": [
       "4"
      ]
     },
     "execution_count": 38,
     "metadata": {},
     "output_type": "execute_result"
    }
   ],
   "source": [
    "# TO find anything we can use index method\n",
    "\n",
    "# To avoid that problem above\n",
    "# To go further we can give it index ('value', 3)\n",
    "# Here it will go more and give the index number where the value nexr occurs\n",
    "\n",
    "names : list[str] = ['Sir Zia', 'Sir Qasim', 'Sir Inam', 'Dr Noman', 'Sir Qasim']\n",
    "\n",
    "print(names)\n",
    "\n",
    "names.index('Sir Qasim',2) #1 \n",
    "\n"
   ]
  },
  {
   "cell_type": "code",
   "execution_count": 39,
   "metadata": {},
   "outputs": [
    {
     "name": "stdout",
     "output_type": "stream",
     "text": [
      "[1, 2, 3, 4, 5, 6, 7]\n",
      "[7, 6, 5, 4, 3, 2, 1]\n"
     ]
    }
   ],
   "source": [
    "# Now let see the reverse function\n",
    "# reverse function reverses the value\n",
    "\n",
    "names : list[int] = [1, 2, 3, 4, 5, 6, 7, 8]\n",
    "print(names)\n",
    "\n",
    "names.reverse() # It do changes in the memory (Physical Data)\n",
    "print(names)"
   ]
  },
  {
   "cell_type": "code",
   "execution_count": 40,
   "metadata": {},
   "outputs": [
    {
     "name": "stdout",
     "output_type": "stream",
     "text": [
      "[8, 6, 7, 3, 4, 5, 1, 2]\n",
      "[1, 2, 3, 4, 5, 6, 7, 8]\n"
     ]
    }
   ],
   "source": [
    "# Now let see the sort function\n",
    "# sort function sort the value\n",
    "\n",
    "names : list[int] = [8, 6, 7, 3, 4, 5, 1, 2]\n",
    "print(names)\n",
    "\n",
    "names.sort() # It do changes in the memory (Physical Data)\n",
    "print(names)"
   ]
  }
 ],
 "metadata": {
  "kernelspec": {
   "display_name": "python13",
   "language": "python",
   "name": "python3"
  },
  "language_info": {
   "codemirror_mode": {
    "name": "ipython",
    "version": 3
   },
   "file_extension": ".py",
   "mimetype": "text/x-python",
   "name": "python",
   "nbconvert_exporter": "python",
   "pygments_lexer": "ipython3",
   "version": "3.12.0"
  }
 },
 "nbformat": 4,
 "nbformat_minor": 2
}
